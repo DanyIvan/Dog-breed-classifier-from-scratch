{
 "cells": [
  {
   "cell_type": "code",
   "execution_count": 1,
   "metadata": {},
   "outputs": [
    {
     "name": "stdout",
     "output_type": "stream",
     "text": [
      "Collecting jupyter_contrib_nbextensions\n",
      "\u001b[?25l  Downloading https://files.pythonhosted.org/packages/33/f0/6e2c00afda860f655fbf0f795f7310bdbf12122846344dfdc803fc7455d5/jupyter_contrib_nbextensions-0.5.1-py2.py3-none-any.whl (20.9MB)\n",
      "\u001b[K    100% |████████████████████████████████| 20.9MB 1.7MB/s eta 0:00:01\n",
      "\u001b[?25hRequirement already satisfied: nbconvert>=4.2 in /opt/conda/lib/python3.6/site-packages (from jupyter_contrib_nbextensions) (5.4.0)\n",
      "Collecting jupyter-nbextensions-configurator>=0.4.0 (from jupyter_contrib_nbextensions)\n",
      "\u001b[?25l  Downloading https://files.pythonhosted.org/packages/51/a3/d72d5f2dc10c5ccf5a6f4c79f636bf071a5ce462dedd07af2f70384db6cb/jupyter_nbextensions_configurator-0.4.1.tar.gz (479kB)\n",
      "\u001b[K    100% |████████████████████████████████| 481kB 21.6MB/s ta 0:00:01\n",
      "\u001b[?25hRequirement already satisfied: tornado in /opt/conda/lib/python3.6/site-packages (from jupyter_contrib_nbextensions) (4.5.3)\n",
      "Collecting jupyter-contrib-core>=0.3.3 (from jupyter_contrib_nbextensions)\n",
      "  Downloading https://files.pythonhosted.org/packages/e6/8f/04a752a8b66a66e7092c035e5d87d2502ac7ec07f9fb6059059b6c0dc272/jupyter_contrib_core-0.3.3-py2.py3-none-any.whl\n",
      "Requirement already satisfied: jupyter-core in /opt/conda/lib/python3.6/site-packages (from jupyter_contrib_nbextensions) (4.4.0)\n",
      "Requirement already satisfied: ipython-genutils in /opt/conda/lib/python3.6/site-packages (from jupyter_contrib_nbextensions) (0.2.0)\n",
      "Requirement already satisfied: lxml in /opt/conda/lib/python3.6/site-packages (from jupyter_contrib_nbextensions) (4.1.1)\n",
      "Requirement already satisfied: traitlets>=4.1 in /opt/conda/lib/python3.6/site-packages (from jupyter_contrib_nbextensions) (4.3.2)\n",
      "Requirement already satisfied: notebook>=4.0 in /opt/conda/lib/python3.6/site-packages (from jupyter_contrib_nbextensions) (5.7.0)\n",
      "Collecting jupyter-highlight-selected-word>=0.1.1 (from jupyter_contrib_nbextensions)\n",
      "  Downloading https://files.pythonhosted.org/packages/50/d7/19ab7cfd60bf268d2abbacc52d4295a40f52d74dfc0d938e4761ee5e598b/jupyter_highlight_selected_word-0.2.0-py2.py3-none-any.whl\n",
      "Collecting jupyter-latex-envs>=1.3.8 (from jupyter_contrib_nbextensions)\n",
      "\u001b[?25l  Downloading https://files.pythonhosted.org/packages/0e/15/55805de080d5542f76920364635e96e64d3b37f678befdfe3b16aa154205/jupyter_latex_envs-1.4.6.tar.gz (861kB)\n",
      "\u001b[K    100% |████████████████████████████████| 870kB 21.4MB/s ta 0:00:01\n",
      "\u001b[?25hRequirement already satisfied: pyyaml in /opt/conda/lib/python3.6/site-packages (from jupyter_contrib_nbextensions) (3.12)\n",
      "Requirement already satisfied: mistune>=0.8.1 in /opt/conda/lib/python3.6/site-packages (from nbconvert>=4.2->jupyter_contrib_nbextensions) (0.8.3)\n",
      "Requirement already satisfied: jinja2 in /opt/conda/lib/python3.6/site-packages (from nbconvert>=4.2->jupyter_contrib_nbextensions) (2.10)\n",
      "Requirement already satisfied: pygments in /opt/conda/lib/python3.6/site-packages (from nbconvert>=4.2->jupyter_contrib_nbextensions) (2.2.0)\n",
      "Requirement already satisfied: nbformat>=4.4 in /opt/conda/lib/python3.6/site-packages (from nbconvert>=4.2->jupyter_contrib_nbextensions) (4.4.0)\n",
      "Requirement already satisfied: entrypoints>=0.2.2 in /opt/conda/lib/python3.6/site-packages (from nbconvert>=4.2->jupyter_contrib_nbextensions) (0.2.3)\n",
      "Requirement already satisfied: bleach in /opt/conda/lib/python3.6/site-packages (from nbconvert>=4.2->jupyter_contrib_nbextensions) (1.5.0)\n",
      "Requirement already satisfied: pandocfilters>=1.4.1 in /opt/conda/lib/python3.6/site-packages (from nbconvert>=4.2->jupyter_contrib_nbextensions) (1.4.1)\n",
      "Requirement already satisfied: testpath in /opt/conda/lib/python3.6/site-packages (from nbconvert>=4.2->jupyter_contrib_nbextensions) (0.3.1)\n",
      "Requirement already satisfied: defusedxml in /opt/conda/lib/python3.6/site-packages (from nbconvert>=4.2->jupyter_contrib_nbextensions) (0.5.0)\n",
      "Requirement already satisfied: setuptools in /opt/conda/lib/python3.6/site-packages (from jupyter-contrib-core>=0.3.3->jupyter_contrib_nbextensions) (38.4.0)\n",
      "Requirement already satisfied: decorator in /opt/conda/lib/python3.6/site-packages (from traitlets>=4.1->jupyter_contrib_nbextensions) (4.0.11)\n",
      "Requirement already satisfied: six in /opt/conda/lib/python3.6/site-packages (from traitlets>=4.1->jupyter_contrib_nbextensions) (1.11.0)\n",
      "Requirement already satisfied: pyzmq>=17 in /opt/conda/lib/python3.6/site-packages (from notebook>=4.0->jupyter_contrib_nbextensions) (17.1.2)\n",
      "Requirement already satisfied: jupyter_client>=5.2.0 in /opt/conda/lib/python3.6/site-packages (from notebook>=4.0->jupyter_contrib_nbextensions) (5.2.4)\n",
      "Requirement already satisfied: ipykernel in /opt/conda/lib/python3.6/site-packages (from notebook>=4.0->jupyter_contrib_nbextensions) (4.9.0)\n",
      "Requirement already satisfied: Send2Trash in /opt/conda/lib/python3.6/site-packages (from notebook>=4.0->jupyter_contrib_nbextensions) (1.5.0)\n",
      "Requirement already satisfied: terminado>=0.8.1 in /opt/conda/lib/python3.6/site-packages (from notebook>=4.0->jupyter_contrib_nbextensions) (0.8.1)\n",
      "Requirement already satisfied: prometheus_client in /opt/conda/lib/python3.6/site-packages (from notebook>=4.0->jupyter_contrib_nbextensions) (0.3.1)\n",
      "Requirement already satisfied: ipython in /opt/conda/lib/python3.6/site-packages (from jupyter-latex-envs>=1.3.8->jupyter_contrib_nbextensions) (6.5.0)\n",
      "Requirement already satisfied: MarkupSafe>=0.23 in /opt/conda/lib/python3.6/site-packages (from jinja2->nbconvert>=4.2->jupyter_contrib_nbextensions) (1.0)\n",
      "Requirement already satisfied: jsonschema!=2.5.0,>=2.4 in /opt/conda/lib/python3.6/site-packages (from nbformat>=4.4->nbconvert>=4.2->jupyter_contrib_nbextensions) (2.6.0)\n",
      "Requirement already satisfied: html5lib!=0.9999,!=0.99999,<0.99999999,>=0.999 in /opt/conda/lib/python3.6/site-packages (from bleach->nbconvert>=4.2->jupyter_contrib_nbextensions) (0.9999999)\n",
      "Requirement already satisfied: python-dateutil>=2.1 in /opt/conda/lib/python3.6/site-packages (from jupyter_client>=5.2.0->notebook>=4.0->jupyter_contrib_nbextensions) (2.6.1)\n",
      "Requirement already satisfied: pickleshare in /opt/conda/lib/python3.6/site-packages (from ipython->jupyter-latex-envs>=1.3.8->jupyter_contrib_nbextensions) (0.7.4)\n",
      "Requirement already satisfied: jedi>=0.10 in /opt/conda/lib/python3.6/site-packages (from ipython->jupyter-latex-envs>=1.3.8->jupyter_contrib_nbextensions) (0.10.2)\n",
      "Requirement already satisfied: prompt-toolkit<2.0.0,>=1.0.15 in /opt/conda/lib/python3.6/site-packages (from ipython->jupyter-latex-envs>=1.3.8->jupyter_contrib_nbextensions) (1.0.15)\n",
      "Requirement already satisfied: backcall in /opt/conda/lib/python3.6/site-packages (from ipython->jupyter-latex-envs>=1.3.8->jupyter_contrib_nbextensions) (0.1.0)\n",
      "Requirement already satisfied: simplegeneric>0.8 in /opt/conda/lib/python3.6/site-packages (from ipython->jupyter-latex-envs>=1.3.8->jupyter_contrib_nbextensions) (0.8.1)\n",
      "Requirement already satisfied: pexpect; sys_platform != \"win32\" in /opt/conda/lib/python3.6/site-packages (from ipython->jupyter-latex-envs>=1.3.8->jupyter_contrib_nbextensions) (4.3.1)\n",
      "Requirement already satisfied: wcwidth in /opt/conda/lib/python3.6/site-packages (from prompt-toolkit<2.0.0,>=1.0.15->ipython->jupyter-latex-envs>=1.3.8->jupyter_contrib_nbextensions) (0.1.7)\n",
      "Requirement already satisfied: ptyprocess>=0.5 in /opt/conda/lib/python3.6/site-packages (from pexpect; sys_platform != \"win32\"->ipython->jupyter-latex-envs>=1.3.8->jupyter_contrib_nbextensions) (0.5.2)\n",
      "Building wheels for collected packages: jupyter-nbextensions-configurator, jupyter-latex-envs\n",
      "  Running setup.py bdist_wheel for jupyter-nbextensions-configurator ... \u001b[?25ldone\n",
      "\u001b[?25h  Stored in directory: /root/.cache/pip/wheels/15/df/fe/2a74fe34709e7fdc5ae153a768675d9fda93cc7d5133ed1fb0\n",
      "  Running setup.py bdist_wheel for jupyter-latex-envs ... \u001b[?25ldone\n",
      "\u001b[?25h  Stored in directory: /root/.cache/pip/wheels/0d/71/2a/164491997299b9f2479a251e254323fe35d946779e18f27956\n",
      "Successfully built jupyter-nbextensions-configurator jupyter-latex-envs\n",
      "Installing collected packages: jupyter-contrib-core, jupyter-nbextensions-configurator, jupyter-highlight-selected-word, jupyter-latex-envs, jupyter-contrib-nbextensions\n",
      "Successfully installed jupyter-contrib-core-0.3.3 jupyter-contrib-nbextensions-0.5.1 jupyter-highlight-selected-word-0.2.0 jupyter-latex-envs-1.4.6 jupyter-nbextensions-configurator-0.4.1\n"
     ]
    },
    {
     "name": "stdout",
     "output_type": "stream",
     "text": [
      "\u001b[32m[I 18:40:21 InstallContribNbextensionsApp]\u001b[m jupyter contrib nbextension install --user\n",
      "\u001b[32m[I 18:40:21 InstallContribNbextensionsApp]\u001b[m Installing jupyter_contrib_nbextensions nbextension files to jupyter data directory\n",
      "\u001b[32m[I 18:40:21 InstallContribNbextensionsApp]\u001b[m Installing /opt/conda/lib/python3.6/site-packages/jupyter_contrib_nbextensions/nbextensions/export_embedded -> export_embedded\n",
      "\u001b[32m[I 18:40:21 InstallContribNbextensionsApp]\u001b[m Making directory: /root/.local/share/jupyter/nbextensions/export_embedded/\n",
      "\u001b[32m[I 18:40:21 InstallContribNbextensionsApp]\u001b[m Copying: /opt/conda/lib/python3.6/site-packages/jupyter_contrib_nbextensions/nbextensions/export_embedded/readme.md -> /root/.local/share/jupyter/nbextensions/export_embedded/readme.md\n",
      "\u001b[32m[I 18:40:21 InstallContribNbextensionsApp]\u001b[m Copying: /opt/conda/lib/python3.6/site-packages/jupyter_contrib_nbextensions/nbextensions/export_embedded/export_embedded.yaml -> /root/.local/share/jupyter/nbextensions/export_embedded/export_embedded.yaml\n",
      "\u001b[32m[I 18:40:21 InstallContribNbextensionsApp]\u001b[m Copying: /opt/conda/lib/python3.6/site-packages/jupyter_contrib_nbextensions/nbextensions/export_embedded/icon.png -> /root/.local/share/jupyter/nbextensions/export_embedded/icon.png\n",
      "\u001b[32m[I 18:40:21 InstallContribNbextensionsApp]\u001b[m Copying: /opt/conda/lib/python3.6/site-packages/jupyter_contrib_nbextensions/nbextensions/export_embedded/main.js -> /root/.local/share/jupyter/nbextensions/export_embedded/main.js\n",
      "\u001b[32m[I 18:40:21 InstallContribNbextensionsApp]\u001b[m - Validating: \u001b[32mOK\u001b[0m\n",
      "\u001b[32m[I 18:40:21 InstallContribNbextensionsApp]\u001b[m Installing /opt/conda/lib/python3.6/site-packages/jupyter_contrib_nbextensions/nbextensions/exercise2 -> exercise2\n",
      "\u001b[32m[I 18:40:21 InstallContribNbextensionsApp]\u001b[m Making directory: /root/.local/share/jupyter/nbextensions/exercise2/\n",
      "\u001b[32m[I 18:40:21 InstallContribNbextensionsApp]\u001b[m Copying: /opt/conda/lib/python3.6/site-packages/jupyter_contrib_nbextensions/nbextensions/exercise2/readme.md -> /root/.local/share/jupyter/nbextensions/exercise2/readme.md\n",
      "\u001b[32m[I 18:40:21 InstallContribNbextensionsApp]\u001b[m Copying: /opt/conda/lib/python3.6/site-packages/jupyter_contrib_nbextensions/nbextensions/exercise2/main.css -> /root/.local/share/jupyter/nbextensions/exercise2/main.css\n",
      "\u001b[32m[I 18:40:21 InstallContribNbextensionsApp]\u001b[m Copying: /opt/conda/lib/python3.6/site-packages/jupyter_contrib_nbextensions/nbextensions/exercise2/exercise2.yaml -> /root/.local/share/jupyter/nbextensions/exercise2/exercise2.yaml\n",
      "\u001b[32m[I 18:40:21 InstallContribNbextensionsApp]\u001b[m Copying: /opt/conda/lib/python3.6/site-packages/jupyter_contrib_nbextensions/nbextensions/exercise2/image.gif -> /root/.local/share/jupyter/nbextensions/exercise2/image.gif\n",
      "\u001b[32m[I 18:40:21 InstallContribNbextensionsApp]\u001b[m Copying: /opt/conda/lib/python3.6/site-packages/jupyter_contrib_nbextensions/nbextensions/exercise2/icon.png -> /root/.local/share/jupyter/nbextensions/exercise2/icon.png\n",
      "\u001b[32m[I 18:40:21 InstallContribNbextensionsApp]\u001b[m Copying: /opt/conda/lib/python3.6/site-packages/jupyter_contrib_nbextensions/nbextensions/exercise2/main.js -> /root/.local/share/jupyter/nbextensions/exercise2/main.js\n",
      "\u001b[32m[I 18:40:21 InstallContribNbextensionsApp]\u001b[m - Validating: \u001b[32mOK\u001b[0m\n",
      "\u001b[32m[I 18:40:21 InstallContribNbextensionsApp]\u001b[m Installing /opt/conda/lib/python3.6/site-packages/jupyter_contrib_nbextensions/nbextensions/nbTranslate -> nbTranslate\n",
      "\u001b[32m[I 18:40:21 InstallContribNbextensionsApp]\u001b[m Making directory: /root/.local/share/jupyter/nbextensions/nbTranslate/\n",
      "\u001b[32m[I 18:40:21 InstallContribNbextensionsApp]\u001b[m Copying: /opt/conda/lib/python3.6/site-packages/jupyter_contrib_nbextensions/nbextensions/nbTranslate/languages.js -> /root/.local/share/jupyter/nbextensions/nbTranslate/languages.js\n",
      "\u001b[32m[I 18:40:21 InstallContribNbextensionsApp]\u001b[m Copying: /opt/conda/lib/python3.6/site-packages/jupyter_contrib_nbextensions/nbextensions/nbTranslate/demo1.gif -> /root/.local/share/jupyter/nbextensions/nbTranslate/demo1.gif\n",
      "\u001b[32m[I 18:40:21 InstallContribNbextensionsApp]\u001b[m Copying: /opt/conda/lib/python3.6/site-packages/jupyter_contrib_nbextensions/nbextensions/nbTranslate/nbTranslate.js -> /root/.local/share/jupyter/nbextensions/nbTranslate/nbTranslate.js\n",
      "\u001b[32m[I 18:40:21 InstallContribNbextensionsApp]\u001b[m Copying: /opt/conda/lib/python3.6/site-packages/jupyter_contrib_nbextensions/nbextensions/nbTranslate/README.md -> /root/.local/share/jupyter/nbextensions/nbTranslate/README.md\n",
      "\u001b[32m[I 18:40:21 InstallContribNbextensionsApp]\u001b[m Copying: /opt/conda/lib/python3.6/site-packages/jupyter_contrib_nbextensions/nbextensions/nbTranslate/demo2.gif -> /root/.local/share/jupyter/nbextensions/nbTranslate/demo2.gif\n",
      "\u001b[32m[I 18:40:21 InstallContribNbextensionsApp]\u001b[m Copying: /opt/conda/lib/python3.6/site-packages/jupyter_contrib_nbextensions/nbextensions/nbTranslate/mutils.js -> /root/.local/share/jupyter/nbextensions/nbTranslate/mutils.js\n",
      "\u001b[32m[I 18:40:21 InstallContribNbextensionsApp]\u001b[m Copying: /opt/conda/lib/python3.6/site-packages/jupyter_contrib_nbextensions/nbextensions/nbTranslate/nbTranslate.yaml -> /root/.local/share/jupyter/nbextensions/nbTranslate/nbTranslate.yaml\n",
      "\u001b[32m[I 18:40:21 InstallContribNbextensionsApp]\u001b[m Copying: /opt/conda/lib/python3.6/site-packages/jupyter_contrib_nbextensions/nbextensions/nbTranslate/main.js -> /root/.local/share/jupyter/nbextensions/nbTranslate/main.js\n",
      "\u001b[32m[I 18:40:21 InstallContribNbextensionsApp]\u001b[m - Validating: \u001b[32mOK\u001b[0m\n",
      "\u001b[32m[I 18:40:21 InstallContribNbextensionsApp]\u001b[m Installing /opt/conda/lib/python3.6/site-packages/jupyter_contrib_nbextensions/nbextensions/autosavetime -> autosavetime\n",
      "\u001b[32m[I 18:40:21 InstallContribNbextensionsApp]\u001b[m Making directory: /root/.local/share/jupyter/nbextensions/autosavetime/\n",
      "\u001b[32m[I 18:40:21 InstallContribNbextensionsApp]\u001b[m Copying: /opt/conda/lib/python3.6/site-packages/jupyter_contrib_nbextensions/nbextensions/autosavetime/README.md -> /root/.local/share/jupyter/nbextensions/autosavetime/README.md\n",
      "\u001b[32m[I 18:40:21 InstallContribNbextensionsApp]\u001b[m Copying: /opt/conda/lib/python3.6/site-packages/jupyter_contrib_nbextensions/nbextensions/autosavetime/icon.png -> /root/.local/share/jupyter/nbextensions/autosavetime/icon.png\n",
      "\u001b[32m[I 18:40:21 InstallContribNbextensionsApp]\u001b[m Copying: /opt/conda/lib/python3.6/site-packages/jupyter_contrib_nbextensions/nbextensions/autosavetime/autosavetime.yaml -> /root/.local/share/jupyter/nbextensions/autosavetime/autosavetime.yaml\n",
      "\u001b[32m[I 18:40:21 InstallContribNbextensionsApp]\u001b[m Copying: /opt/conda/lib/python3.6/site-packages/jupyter_contrib_nbextensions/nbextensions/autosavetime/main.js -> /root/.local/share/jupyter/nbextensions/autosavetime/main.js\n",
      "\u001b[32m[I 18:40:21 InstallContribNbextensionsApp]\u001b[m - Validating: \u001b[32mOK\u001b[0m\n",
      "\u001b[32m[I 18:40:21 InstallContribNbextensionsApp]\u001b[m Installing /opt/conda/lib/python3.6/site-packages/jupyter_contrib_nbextensions/nbextensions/equation-numbering -> equation-numbering\n",
      "\u001b[32m[I 18:40:21 InstallContribNbextensionsApp]\u001b[m Making directory: /root/.local/share/jupyter/nbextensions/equation-numbering/\n",
      "\u001b[32m[I 18:40:21 InstallContribNbextensionsApp]\u001b[m Copying: /opt/conda/lib/python3.6/site-packages/jupyter_contrib_nbextensions/nbextensions/equation-numbering/readme.md -> /root/.local/share/jupyter/nbextensions/equation-numbering/readme.md\n",
      "\u001b[32m[I 18:40:21 InstallContribNbextensionsApp]\u001b[m Copying: /opt/conda/lib/python3.6/site-packages/jupyter_contrib_nbextensions/nbextensions/equation-numbering/button.png -> /root/.local/share/jupyter/nbextensions/equation-numbering/button.png\n",
      "\u001b[32m[I 18:40:21 InstallContribNbextensionsApp]\u001b[m Copying: /opt/conda/lib/python3.6/site-packages/jupyter_contrib_nbextensions/nbextensions/equation-numbering/info.yaml -> /root/.local/share/jupyter/nbextensions/equation-numbering/info.yaml\n",
      "\u001b[32m[I 18:40:21 InstallContribNbextensionsApp]\u001b[m Copying: /opt/conda/lib/python3.6/site-packages/jupyter_contrib_nbextensions/nbextensions/equation-numbering/icon.png -> /root/.local/share/jupyter/nbextensions/equation-numbering/icon.png\n",
      "\u001b[32m[I 18:40:21 InstallContribNbextensionsApp]\u001b[m Copying: /opt/conda/lib/python3.6/site-packages/jupyter_contrib_nbextensions/nbextensions/equation-numbering/main.js -> /root/.local/share/jupyter/nbextensions/equation-numbering/main.js\n",
      "\u001b[32m[I 18:40:21 InstallContribNbextensionsApp]\u001b[m - Validating: \u001b[32mOK\u001b[0m\n",
      "\u001b[32m[I 18:40:21 InstallContribNbextensionsApp]\u001b[m Installing /opt/conda/lib/python3.6/site-packages/jupyter_contrib_nbextensions/nbextensions/printview -> printview\n",
      "\u001b[32m[I 18:40:21 InstallContribNbextensionsApp]\u001b[m Making directory: /root/.local/share/jupyter/nbextensions/printview/\n",
      "\u001b[32m[I 18:40:21 InstallContribNbextensionsApp]\u001b[m Copying: /opt/conda/lib/python3.6/site-packages/jupyter_contrib_nbextensions/nbextensions/printview/readme.md -> /root/.local/share/jupyter/nbextensions/printview/readme.md\n",
      "\u001b[32m[I 18:40:21 InstallContribNbextensionsApp]\u001b[m Copying: /opt/conda/lib/python3.6/site-packages/jupyter_contrib_nbextensions/nbextensions/printview/printview-button.png -> /root/.local/share/jupyter/nbextensions/printview/printview-button.png\n",
      "\u001b[32m[I 18:40:21 InstallContribNbextensionsApp]\u001b[m Copying: /opt/conda/lib/python3.6/site-packages/jupyter_contrib_nbextensions/nbextensions/printview/icon.png -> /root/.local/share/jupyter/nbextensions/printview/icon.png\n",
      "\u001b[32m[I 18:40:21 InstallContribNbextensionsApp]\u001b[m Copying: /opt/conda/lib/python3.6/site-packages/jupyter_contrib_nbextensions/nbextensions/printview/printview.yaml -> /root/.local/share/jupyter/nbextensions/printview/printview.yaml\n",
      "\u001b[32m[I 18:40:21 InstallContribNbextensionsApp]\u001b[m Copying: /opt/conda/lib/python3.6/site-packages/jupyter_contrib_nbextensions/nbextensions/printview/main.js -> /root/.local/share/jupyter/nbextensions/printview/main.js\n",
      "\u001b[32m[I 18:40:21 InstallContribNbextensionsApp]\u001b[m - Validating: \u001b[32mOK\u001b[0m\n",
      "\u001b[32m[I 18:40:21 InstallContribNbextensionsApp]\u001b[m Installing /opt/conda/lib/python3.6/site-packages/jupyter_contrib_nbextensions/nbextensions/cell_filter -> cell_filter\n",
      "\u001b[32m[I 18:40:21 InstallContribNbextensionsApp]\u001b[m Making directory: /root/.local/share/jupyter/nbextensions/cell_filter/\n",
      "\u001b[32m[I 18:40:21 InstallContribNbextensionsApp]\u001b[m Copying: /opt/conda/lib/python3.6/site-packages/jupyter_contrib_nbextensions/nbextensions/cell_filter/cell_filter.js -> /root/.local/share/jupyter/nbextensions/cell_filter/cell_filter.js\n",
      "\u001b[32m[I 18:40:21 InstallContribNbextensionsApp]\u001b[m Copying: /opt/conda/lib/python3.6/site-packages/jupyter_contrib_nbextensions/nbextensions/cell_filter/README.md -> /root/.local/share/jupyter/nbextensions/cell_filter/README.md\n",
      "\u001b[32m[I 18:40:21 InstallContribNbextensionsApp]\u001b[m Copying: /opt/conda/lib/python3.6/site-packages/jupyter_contrib_nbextensions/nbextensions/cell_filter/cell_filter.yml -> /root/.local/share/jupyter/nbextensions/cell_filter/cell_filter.yml\n",
      "\u001b[32m[I 18:40:21 InstallContribNbextensionsApp]\u001b[m - Validating: \u001b[32mOK\u001b[0m\n",
      "\u001b[32m[I 18:40:21 InstallContribNbextensionsApp]\u001b[m Installing /opt/conda/lib/python3.6/site-packages/jupyter_contrib_nbextensions/nbextensions/hinterland -> hinterland\n",
      "\u001b[32m[I 18:40:21 InstallContribNbextensionsApp]\u001b[m Making directory: /root/.local/share/jupyter/nbextensions/hinterland/\n",
      "\u001b[32m[I 18:40:21 InstallContribNbextensionsApp]\u001b[m Copying: /opt/conda/lib/python3.6/site-packages/jupyter_contrib_nbextensions/nbextensions/hinterland/README.md -> /root/.local/share/jupyter/nbextensions/hinterland/README.md\n",
      "\u001b[32m[I 18:40:21 InstallContribNbextensionsApp]\u001b[m Copying: /opt/conda/lib/python3.6/site-packages/jupyter_contrib_nbextensions/nbextensions/hinterland/hinterland.js -> /root/.local/share/jupyter/nbextensions/hinterland/hinterland.js\n",
      "\u001b[32m[I 18:40:21 InstallContribNbextensionsApp]\u001b[m Copying: /opt/conda/lib/python3.6/site-packages/jupyter_contrib_nbextensions/nbextensions/hinterland/hinterland.yaml -> /root/.local/share/jupyter/nbextensions/hinterland/hinterland.yaml\n",
      "\u001b[32m[I 18:40:21 InstallContribNbextensionsApp]\u001b[m - Validating: \u001b[32mOK\u001b[0m\n",
      "\u001b[32m[I 18:40:21 InstallContribNbextensionsApp]\u001b[m Installing /opt/conda/lib/python3.6/site-packages/jupyter_contrib_nbextensions/nbextensions/collapsible_headings -> collapsible_headings\n",
      "\u001b[32m[I 18:40:21 InstallContribNbextensionsApp]\u001b[m Making directory: /root/.local/share/jupyter/nbextensions/collapsible_headings/\n",
      "\u001b[32m[I 18:40:21 InstallContribNbextensionsApp]\u001b[m Copying: /opt/conda/lib/python3.6/site-packages/jupyter_contrib_nbextensions/nbextensions/collapsible_headings/readme.md -> /root/.local/share/jupyter/nbextensions/collapsible_headings/readme.md\n",
      "\u001b[32m[I 18:40:21 InstallContribNbextensionsApp]\u001b[m Copying: /opt/conda/lib/python3.6/site-packages/jupyter_contrib_nbextensions/nbextensions/collapsible_headings/main.css -> /root/.local/share/jupyter/nbextensions/collapsible_headings/main.css\n",
      "\u001b[32m[I 18:40:21 InstallContribNbextensionsApp]\u001b[m Copying: /opt/conda/lib/python3.6/site-packages/jupyter_contrib_nbextensions/nbextensions/collapsible_headings/icon.png -> /root/.local/share/jupyter/nbextensions/collapsible_headings/icon.png\n",
      "\u001b[32m[I 18:40:21 InstallContribNbextensionsApp]\u001b[m Copying: /opt/conda/lib/python3.6/site-packages/jupyter_contrib_nbextensions/nbextensions/collapsible_headings/collapsible_headings.yaml -> /root/.local/share/jupyter/nbextensions/collapsible_headings/collapsible_headings.yaml\n",
      "\u001b[32m[I 18:40:21 InstallContribNbextensionsApp]\u001b[m Copying: /opt/conda/lib/python3.6/site-packages/jupyter_contrib_nbextensions/nbextensions/collapsible_headings/screenshot.png -> /root/.local/share/jupyter/nbextensions/collapsible_headings/screenshot.png\n",
      "\u001b[32m[I 18:40:21 InstallContribNbextensionsApp]\u001b[m Copying: /opt/conda/lib/python3.6/site-packages/jupyter_contrib_nbextensions/nbextensions/collapsible_headings/main.js -> /root/.local/share/jupyter/nbextensions/collapsible_headings/main.js\n",
      "\u001b[32m[I 18:40:21 InstallContribNbextensionsApp]\u001b[m - Validating: \u001b[32mOK\u001b[0m\n",
      "\u001b[32m[I 18:40:21 InstallContribNbextensionsApp]\u001b[m Installing /opt/conda/lib/python3.6/site-packages/jupyter_contrib_nbextensions/nbextensions/notify -> notify\n",
      "\u001b[32m[I 18:40:21 InstallContribNbextensionsApp]\u001b[m Making directory: /root/.local/share/jupyter/nbextensions/notify/\n",
      "\u001b[32m[I 18:40:21 InstallContribNbextensionsApp]\u001b[m Copying: /opt/conda/lib/python3.6/site-packages/jupyter_contrib_nbextensions/nbextensions/notify/readme.md -> /root/.local/share/jupyter/nbextensions/notify/readme.md\n",
      "\u001b[32m[I 18:40:21 InstallContribNbextensionsApp]\u001b[m Copying: /opt/conda/lib/python3.6/site-packages/jupyter_contrib_nbextensions/nbextensions/notify/notify.yaml -> /root/.local/share/jupyter/nbextensions/notify/notify.yaml\n",
      "\u001b[32m[I 18:40:21 InstallContribNbextensionsApp]\u001b[m Copying: /opt/conda/lib/python3.6/site-packages/jupyter_contrib_nbextensions/nbextensions/notify/notify.js -> /root/.local/share/jupyter/nbextensions/notify/notify.js\n",
      "\u001b[32m[I 18:40:21 InstallContribNbextensionsApp]\u001b[m Copying: /opt/conda/lib/python3.6/site-packages/jupyter_contrib_nbextensions/nbextensions/notify/notify.mp3 -> /root/.local/share/jupyter/nbextensions/notify/notify.mp3\n",
      "\u001b[32m[I 18:40:21 InstallContribNbextensionsApp]\u001b[m Copying: /opt/conda/lib/python3.6/site-packages/jupyter_contrib_nbextensions/nbextensions/notify/notification.png -> /root/.local/share/jupyter/nbextensions/notify/notification.png\n",
      "\u001b[32m[I 18:40:21 InstallContribNbextensionsApp]\u001b[m - Validating: \u001b[32mOK\u001b[0m\n",
      "\u001b[32m[I 18:40:21 InstallContribNbextensionsApp]\u001b[m Installing /opt/conda/lib/python3.6/site-packages/jupyter_contrib_nbextensions/nbextensions/ruler -> ruler\n",
      "\u001b[32m[I 18:40:21 InstallContribNbextensionsApp]\u001b[m Making directory: /root/.local/share/jupyter/nbextensions/ruler/\n",
      "\u001b[32m[I 18:40:21 InstallContribNbextensionsApp]\u001b[m Copying: /opt/conda/lib/python3.6/site-packages/jupyter_contrib_nbextensions/nbextensions/ruler/readme.md -> /root/.local/share/jupyter/nbextensions/ruler/readme.md\n",
      "\u001b[32m[I 18:40:21 InstallContribNbextensionsApp]\u001b[m Copying: /opt/conda/lib/python3.6/site-packages/jupyter_contrib_nbextensions/nbextensions/ruler/ruler_editor.yaml -> /root/.local/share/jupyter/nbextensions/ruler/ruler_editor.yaml\n",
      "\u001b[32m[I 18:40:21 InstallContribNbextensionsApp]\u001b[m Copying: /opt/conda/lib/python3.6/site-packages/jupyter_contrib_nbextensions/nbextensions/ruler/ruler.yaml -> /root/.local/share/jupyter/nbextensions/ruler/ruler.yaml\n",
      "\u001b[32m[I 18:40:21 InstallContribNbextensionsApp]\u001b[m Copying: /opt/conda/lib/python3.6/site-packages/jupyter_contrib_nbextensions/nbextensions/ruler/edit.js -> /root/.local/share/jupyter/nbextensions/ruler/edit.js\n",
      "\u001b[32m[I 18:40:21 InstallContribNbextensionsApp]\u001b[m Copying: /opt/conda/lib/python3.6/site-packages/jupyter_contrib_nbextensions/nbextensions/ruler/icon.png -> /root/.local/share/jupyter/nbextensions/ruler/icon.png\n",
      "\u001b[32m[I 18:40:21 InstallContribNbextensionsApp]\u001b[m Copying: /opt/conda/lib/python3.6/site-packages/jupyter_contrib_nbextensions/nbextensions/ruler/main.js -> /root/.local/share/jupyter/nbextensions/ruler/main.js\n",
      "\u001b[32m[I 18:40:21 InstallContribNbextensionsApp]\u001b[m - Validating: \u001b[32mOK\u001b[0m\n",
      "\u001b[32m[I 18:40:21 InstallContribNbextensionsApp]\u001b[m Installing /opt/conda/lib/python3.6/site-packages/jupyter_contrib_nbextensions/nbextensions/ruler -> ruler\n",
      "\u001b[32m[I 18:40:21 InstallContribNbextensionsApp]\u001b[m Up to date: /root/.local/share/jupyter/nbextensions/ruler/readme.md\n",
      "\u001b[32m[I 18:40:21 InstallContribNbextensionsApp]\u001b[m Up to date: /root/.local/share/jupyter/nbextensions/ruler/ruler_editor.yaml\n",
      "\u001b[32m[I 18:40:21 InstallContribNbextensionsApp]\u001b[m Up to date: /root/.local/share/jupyter/nbextensions/ruler/ruler.yaml\n",
      "\u001b[32m[I 18:40:21 InstallContribNbextensionsApp]\u001b[m Up to date: /root/.local/share/jupyter/nbextensions/ruler/edit.js\n",
      "\u001b[32m[I 18:40:21 InstallContribNbextensionsApp]\u001b[m Up to date: /root/.local/share/jupyter/nbextensions/ruler/icon.png\n",
      "\u001b[32m[I 18:40:21 InstallContribNbextensionsApp]\u001b[m Up to date: /root/.local/share/jupyter/nbextensions/ruler/main.js\n",
      "\u001b[32m[I 18:40:21 InstallContribNbextensionsApp]\u001b[m - Validating: \u001b[32mOK\u001b[0m\n",
      "\u001b[32m[I 18:40:21 InstallContribNbextensionsApp]\u001b[m Installing /opt/conda/lib/python3.6/site-packages/jupyter_contrib_nbextensions/nbextensions/limit_output -> limit_output\n",
      "\u001b[32m[I 18:40:21 InstallContribNbextensionsApp]\u001b[m Making directory: /root/.local/share/jupyter/nbextensions/limit_output/\n",
      "\u001b[32m[I 18:40:21 InstallContribNbextensionsApp]\u001b[m Copying: /opt/conda/lib/python3.6/site-packages/jupyter_contrib_nbextensions/nbextensions/limit_output/limit-output.yaml -> /root/.local/share/jupyter/nbextensions/limit_output/limit-output.yaml\n",
      "\u001b[32m[I 18:40:21 InstallContribNbextensionsApp]\u001b[m Copying: /opt/conda/lib/python3.6/site-packages/jupyter_contrib_nbextensions/nbextensions/limit_output/readme.md -> /root/.local/share/jupyter/nbextensions/limit_output/readme.md\n",
      "\u001b[32m[I 18:40:21 InstallContribNbextensionsApp]\u001b[m Copying: /opt/conda/lib/python3.6/site-packages/jupyter_contrib_nbextensions/nbextensions/limit_output/icon.png -> /root/.local/share/jupyter/nbextensions/limit_output/icon.png\n",
      "\u001b[32m[I 18:40:21 InstallContribNbextensionsApp]\u001b[m Copying: /opt/conda/lib/python3.6/site-packages/jupyter_contrib_nbextensions/nbextensions/limit_output/main.js -> /root/.local/share/jupyter/nbextensions/limit_output/main.js\n",
      "\u001b[32m[I 18:40:21 InstallContribNbextensionsApp]\u001b[m - Validating: \u001b[32mOK\u001b[0m\n",
      "\u001b[32m[I 18:40:21 InstallContribNbextensionsApp]\u001b[m Installing /opt/conda/lib/python3.6/site-packages/jupyter_contrib_nbextensions/nbextensions/splitcell -> splitcell\n",
      "\u001b[32m[I 18:40:21 InstallContribNbextensionsApp]\u001b[m Making directory: /root/.local/share/jupyter/nbextensions/splitcell/\n",
      "\u001b[32m[I 18:40:21 InstallContribNbextensionsApp]\u001b[m Copying: /opt/conda/lib/python3.6/site-packages/jupyter_contrib_nbextensions/nbextensions/splitcell/readme.md -> /root/.local/share/jupyter/nbextensions/splitcell/readme.md\n",
      "\u001b[32m[I 18:40:21 InstallContribNbextensionsApp]\u001b[m Copying: /opt/conda/lib/python3.6/site-packages/jupyter_contrib_nbextensions/nbextensions/splitcell/icon.png -> /root/.local/share/jupyter/nbextensions/splitcell/icon.png\n",
      "\u001b[32m[I 18:40:21 InstallContribNbextensionsApp]\u001b[m Copying: /opt/conda/lib/python3.6/site-packages/jupyter_contrib_nbextensions/nbextensions/splitcell/splitcell.yaml -> /root/.local/share/jupyter/nbextensions/splitcell/splitcell.yaml\n",
      "\u001b[32m[I 18:40:21 InstallContribNbextensionsApp]\u001b[m Copying: /opt/conda/lib/python3.6/site-packages/jupyter_contrib_nbextensions/nbextensions/splitcell/splitcell.js -> /root/.local/share/jupyter/nbextensions/splitcell/splitcell.js\n",
      "\u001b[32m[I 18:40:21 InstallContribNbextensionsApp]\u001b[m - Validating: \u001b[32mOK\u001b[0m\n",
      "\u001b[32m[I 18:40:21 InstallContribNbextensionsApp]\u001b[m Installing /opt/conda/lib/python3.6/site-packages/jupyter_contrib_nbextensions/nbextensions/comment-uncomment -> comment-uncomment\n"
     ]
    },
    {
     "name": "stdout",
     "output_type": "stream",
     "text": [
      "\u001b[32m[I 18:40:21 InstallContribNbextensionsApp]\u001b[m Making directory: /root/.local/share/jupyter/nbextensions/comment-uncomment/\r\n",
      "\u001b[32m[I 18:40:21 InstallContribNbextensionsApp]\u001b[m Copying: /opt/conda/lib/python3.6/site-packages/jupyter_contrib_nbextensions/nbextensions/comment-uncomment/readme.md -> /root/.local/share/jupyter/nbextensions/comment-uncomment/readme.md\r\n",
      "\u001b[32m[I 18:40:21 InstallContribNbextensionsApp]\u001b[m Copying: /opt/conda/lib/python3.6/site-packages/jupyter_contrib_nbextensions/nbextensions/comment-uncomment/icon.png -> /root/.local/share/jupyter/nbextensions/comment-uncomment/icon.png\r\n",
      "\u001b[32m[I 18:40:21 InstallContribNbextensionsApp]\u001b[m Copying: /opt/conda/lib/python3.6/site-packages/jupyter_contrib_nbextensions/nbextensions/comment-uncomment/comment-uncomment.yaml -> /root/.local/share/jupyter/nbextensions/comment-uncomment/comment-uncomment.yaml\r\n",
      "\u001b[32m[I 18:40:21 InstallContribNbextensionsApp]\u001b[m Copying: /opt/conda/lib/python3.6/site-packages/jupyter_contrib_nbextensions/nbextensions/comment-uncomment/main.js -> /root/.local/share/jupyter/nbextensions/comment-uncomment/main.js\r\n",
      "\u001b[32m[I 18:40:21 InstallContribNbextensionsApp]\u001b[m - Validating: \u001b[32mOK\u001b[0m\r\n",
      "\u001b[32m[I 18:40:21 InstallContribNbextensionsApp]\u001b[m Installing /opt/conda/lib/python3.6/site-packages/jupyter_contrib_nbextensions/nbextensions/snippets_menu -> snippets_menu\r\n",
      "\u001b[32m[I 18:40:21 InstallContribNbextensionsApp]\u001b[m Making directory: /root/.local/share/jupyter/nbextensions/snippets_menu/\r\n",
      "\u001b[32m[I 18:40:21 InstallContribNbextensionsApp]\u001b[m Copying: /opt/conda/lib/python3.6/site-packages/jupyter_contrib_nbextensions/nbextensions/snippets_menu/readme.md -> /root/.local/share/jupyter/nbextensions/snippets_menu/readme.md\r\n",
      "\u001b[32m[I 18:40:21 InstallContribNbextensionsApp]\u001b[m Copying: /opt/conda/lib/python3.6/site-packages/jupyter_contrib_nbextensions/nbextensions/snippets_menu/thumbnail.png -> /root/.local/share/jupyter/nbextensions/snippets_menu/thumbnail.png\r\n",
      "\u001b[32m[I 18:40:21 InstallContribNbextensionsApp]\u001b[m Copying: /opt/conda/lib/python3.6/site-packages/jupyter_contrib_nbextensions/nbextensions/snippets_menu/screenshot1.png -> /root/.local/share/jupyter/nbextensions/snippets_menu/screenshot1.png\r\n",
      "\u001b[32m[I 18:40:21 InstallContribNbextensionsApp]\u001b[m Copying: /opt/conda/lib/python3.6/site-packages/jupyter_contrib_nbextensions/nbextensions/snippets_menu/screenshot3.png -> /root/.local/share/jupyter/nbextensions/snippets_menu/screenshot3.png\r\n",
      "\u001b[32m[I 18:40:21 InstallContribNbextensionsApp]\u001b[m Copying: /opt/conda/lib/python3.6/site-packages/jupyter_contrib_nbextensions/nbextensions/snippets_menu/examples_for_custom.js -> /root/.local/share/jupyter/nbextensions/snippets_menu/examples_for_custom.js\r\n",
      "\u001b[32m[I 18:40:21 InstallContribNbextensionsApp]\u001b[m Copying: /opt/conda/lib/python3.6/site-packages/jupyter_contrib_nbextensions/nbextensions/snippets_menu/snippets_submenu_markdown.js -> /root/.local/share/jupyter/nbextensions/snippets_menu/snippets_submenu_markdown.js\r\n",
      "\u001b[32m[I 18:40:21 InstallContribNbextensionsApp]\u001b[m Copying: /opt/conda/lib/python3.6/site-packages/jupyter_contrib_nbextensions/nbextensions/snippets_menu/snippets_submenu_python.js -> /root/.local/share/jupyter/nbextensions/snippets_menu/snippets_submenu_python.js\r\n",
      "\u001b[32m[I 18:40:21 InstallContribNbextensionsApp]\u001b[m Copying: /opt/conda/lib/python3.6/site-packages/jupyter_contrib_nbextensions/nbextensions/snippets_menu/screenshot2.png -> /root/.local/share/jupyter/nbextensions/snippets_menu/screenshot2.png\r\n",
      "\u001b[32m[I 18:40:21 InstallContribNbextensionsApp]\u001b[m Copying: /opt/conda/lib/python3.6/site-packages/jupyter_contrib_nbextensions/nbextensions/snippets_menu/snippets_menu.css -> /root/.local/share/jupyter/nbextensions/snippets_menu/snippets_menu.css\r\n",
      "\u001b[32m[I 18:40:21 InstallContribNbextensionsApp]\u001b[m Copying: /opt/conda/lib/python3.6/site-packages/jupyter_contrib_nbextensions/nbextensions/snippets_menu/main.js -> /root/.local/share/jupyter/nbextensions/snippets_menu/main.js\r\n",
      "\u001b[32m[I 18:40:21 InstallContribNbextensionsApp]\u001b[m Copying: /opt/conda/lib/python3.6/site-packages/jupyter_contrib_nbextensions/nbextensions/snippets_menu/config.yaml -> /root/.local/share/jupyter/nbextensions/snippets_menu/config.yaml\r\n",
      "\u001b[32m[I 18:40:21 InstallContribNbextensionsApp]\u001b[m Making directory: /root/.local/share/jupyter/nbextensions/snippets_menu/snippets_submenus_python\r\n",
      "\u001b[32m[I 18:40:21 InstallContribNbextensionsApp]\u001b[m Copying: /opt/conda/lib/python3.6/site-packages/jupyter_contrib_nbextensions/nbextensions/snippets_menu/snippets_submenus_python/numpy_polynomial.js -> /root/.local/share/jupyter/nbextensions/snippets_menu/snippets_submenus_python/numpy_polynomial.js\r\n",
      "\u001b[32m[I 18:40:21 InstallContribNbextensionsApp]\u001b[m Copying: /opt/conda/lib/python3.6/site-packages/jupyter_contrib_nbextensions/nbextensions/snippets_menu/snippets_submenus_python/scipy_constants.js -> /root/.local/share/jupyter/nbextensions/snippets_menu/snippets_submenus_python/scipy_constants.js\r\n",
      "\u001b[32m[I 18:40:21 InstallContribNbextensionsApp]\u001b[m Copying: /opt/conda/lib/python3.6/site-packages/jupyter_contrib_nbextensions/nbextensions/snippets_menu/snippets_submenus_python/numpy_ufuncs.js -> /root/.local/share/jupyter/nbextensions/snippets_menu/snippets_submenus_python/numpy_ufuncs.js\r\n",
      "\u001b[32m[I 18:40:21 InstallContribNbextensionsApp]\u001b[m Copying: /opt/conda/lib/python3.6/site-packages/jupyter_contrib_nbextensions/nbextensions/snippets_menu/snippets_submenus_python/sympy_functions.js -> /root/.local/share/jupyter/nbextensions/snippets_menu/snippets_submenus_python/sympy_functions.js\r\n",
      "\u001b[32m[I 18:40:21 InstallContribNbextensionsApp]\u001b[m Copying: /opt/conda/lib/python3.6/site-packages/jupyter_contrib_nbextensions/nbextensions/snippets_menu/snippets_submenus_python/scipy.js -> /root/.local/share/jupyter/nbextensions/snippets_menu/snippets_submenus_python/scipy.js\r\n",
      "\u001b[32m[I 18:40:21 InstallContribNbextensionsApp]\u001b[m Copying: /opt/conda/lib/python3.6/site-packages/jupyter_contrib_nbextensions/nbextensions/snippets_menu/snippets_submenus_python/sympy.js -> /root/.local/share/jupyter/nbextensions/snippets_menu/snippets_submenus_python/sympy.js\r\n",
      "\u001b[32m[I 18:40:21 InstallContribNbextensionsApp]\u001b[m Copying: /opt/conda/lib/python3.6/site-packages/jupyter_contrib_nbextensions/nbextensions/snippets_menu/snippets_submenus_python/pandas.js -> /root/.local/share/jupyter/nbextensions/snippets_menu/snippets_submenus_python/pandas.js\r\n",
      "\u001b[32m[I 18:40:21 InstallContribNbextensionsApp]\u001b[m Copying: /opt/conda/lib/python3.6/site-packages/jupyter_contrib_nbextensions/nbextensions/snippets_menu/snippets_submenus_python/numpy.js -> /root/.local/share/jupyter/nbextensions/snippets_menu/snippets_submenus_python/numpy.js\r\n",
      "\u001b[32m[I 18:40:21 InstallContribNbextensionsApp]\u001b[m Copying: /opt/conda/lib/python3.6/site-packages/jupyter_contrib_nbextensions/nbextensions/snippets_menu/snippets_submenus_python/python_regex.js -> /root/.local/share/jupyter/nbextensions/snippets_menu/snippets_submenus_python/python_regex.js\r\n",
      "\u001b[32m[I 18:40:21 InstallContribNbextensionsApp]\u001b[m Copying: /opt/conda/lib/python3.6/site-packages/jupyter_contrib_nbextensions/nbextensions/snippets_menu/snippets_submenus_python/h5py.js -> /root/.local/share/jupyter/nbextensions/snippets_menu/snippets_submenus_python/h5py.js\r\n",
      "\u001b[32m[I 18:40:21 InstallContribNbextensionsApp]\u001b[m Copying: /opt/conda/lib/python3.6/site-packages/jupyter_contrib_nbextensions/nbextensions/snippets_menu/snippets_submenus_python/scipy_special.js -> /root/.local/share/jupyter/nbextensions/snippets_menu/snippets_submenus_python/scipy_special.js\r\n",
      "\u001b[32m[I 18:40:21 InstallContribNbextensionsApp]\u001b[m Copying: /opt/conda/lib/python3.6/site-packages/jupyter_contrib_nbextensions/nbextensions/snippets_menu/snippets_submenus_python/python.js -> /root/.local/share/jupyter/nbextensions/snippets_menu/snippets_submenus_python/python.js\r\n",
      "\u001b[32m[I 18:40:21 InstallContribNbextensionsApp]\u001b[m Copying: /opt/conda/lib/python3.6/site-packages/jupyter_contrib_nbextensions/nbextensions/snippets_menu/snippets_submenus_python/numba.js -> /root/.local/share/jupyter/nbextensions/snippets_menu/snippets_submenus_python/numba.js\r\n",
      "\u001b[32m[I 18:40:21 InstallContribNbextensionsApp]\u001b[m Copying: /opt/conda/lib/python3.6/site-packages/jupyter_contrib_nbextensions/nbextensions/snippets_menu/snippets_submenus_python/sympy_assumptions.js -> /root/.local/share/jupyter/nbextensions/snippets_menu/snippets_submenus_python/sympy_assumptions.js\r\n",
      "\u001b[32m[I 18:40:21 InstallContribNbextensionsApp]\u001b[m Copying: /opt/conda/lib/python3.6/site-packages/jupyter_contrib_nbextensions/nbextensions/snippets_menu/snippets_submenus_python/astropy.js -> /root/.local/share/jupyter/nbextensions/snippets_menu/snippets_submenus_python/astropy.js\r\n",
      "\u001b[32m[I 18:40:21 InstallContribNbextensionsApp]\u001b[m Copying: /opt/conda/lib/python3.6/site-packages/jupyter_contrib_nbextensions/nbextensions/snippets_menu/snippets_submenus_python/matplotlib.js -> /root/.local/share/jupyter/nbextensions/snippets_menu/snippets_submenus_python/matplotlib.js\r\n",
      "\u001b[32m[I 18:40:21 InstallContribNbextensionsApp]\u001b[m - Validating: \u001b[32mOK\u001b[0m\r\n",
      "\u001b[32m[I 18:40:21 InstallContribNbextensionsApp]\u001b[m Installing /opt/conda/lib/python3.6/site-packages/jupyter_contrib_nbextensions/nbextensions/autoscroll -> autoscroll\r\n",
      "\u001b[32m[I 18:40:21 InstallContribNbextensionsApp]\u001b[m Making directory: /root/.local/share/jupyter/nbextensions/autoscroll/\r\n",
      "\u001b[32m[I 18:40:21 InstallContribNbextensionsApp]\u001b[m Copying: /opt/conda/lib/python3.6/site-packages/jupyter_contrib_nbextensions/nbextensions/autoscroll/README.md -> /root/.local/share/jupyter/nbextensions/autoscroll/README.md\r\n",
      "\u001b[32m[I 18:40:21 InstallContribNbextensionsApp]\u001b[m Copying: /opt/conda/lib/python3.6/site-packages/jupyter_contrib_nbextensions/nbextensions/autoscroll/autoscroll.yaml -> /root/.local/share/jupyter/nbextensions/autoscroll/autoscroll.yaml\r\n",
      "\u001b[32m[I 18:40:21 InstallContribNbextensionsApp]\u001b[m Copying: /opt/conda/lib/python3.6/site-packages/jupyter_contrib_nbextensions/nbextensions/autoscroll/icon.png -> /root/.local/share/jupyter/nbextensions/autoscroll/icon.png\r\n",
      "\u001b[32m[I 18:40:21 InstallContribNbextensionsApp]\u001b[m Copying: /opt/conda/lib/python3.6/site-packages/jupyter_contrib_nbextensions/nbextensions/autoscroll/main.js -> /root/.local/share/jupyter/nbextensions/autoscroll/main.js\r\n",
      "\u001b[32m[I 18:40:21 InstallContribNbextensionsApp]\u001b[m - Validating: \u001b[32mOK\u001b[0m\r\n",
      "\u001b[32m[I 18:40:21 InstallContribNbextensionsApp]\u001b[m Installing /opt/conda/lib/python3.6/site-packages/jupyter_contrib_nbextensions/nbextensions/skill -> skill\r\n",
      "\u001b[32m[I 18:40:21 InstallContribNbextensionsApp]\u001b[m Making directory: /root/.local/share/jupyter/nbextensions/skill/\r\n",
      "\u001b[32m[I 18:40:21 InstallContribNbextensionsApp]\u001b[m Copying: /opt/conda/lib/python3.6/site-packages/jupyter_contrib_nbextensions/nbextensions/skill/README.md -> /root/.local/share/jupyter/nbextensions/skill/README.md\r\n",
      "\u001b[32m[I 18:40:21 InstallContribNbextensionsApp]\u001b[m Copying: /opt/conda/lib/python3.6/site-packages/jupyter_contrib_nbextensions/nbextensions/skill/skill.yaml -> /root/.local/share/jupyter/nbextensions/skill/skill.yaml\r\n",
      "\u001b[32m[I 18:40:21 InstallContribNbextensionsApp]\u001b[m Copying: /opt/conda/lib/python3.6/site-packages/jupyter_contrib_nbextensions/nbextensions/skill/skill.js -> /root/.local/share/jupyter/nbextensions/skill/skill.js\r\n",
      "\u001b[32m[I 18:40:21 InstallContribNbextensionsApp]\u001b[m Copying: /opt/conda/lib/python3.6/site-packages/jupyter_contrib_nbextensions/nbextensions/skill/main.js -> /root/.local/share/jupyter/nbextensions/skill/main.js\r\n",
      "\u001b[32m[I 18:40:21 InstallContribNbextensionsApp]\u001b[m - Validating: \u001b[32mOK\u001b[0m\r\n",
      "\u001b[32m[I 18:40:21 InstallContribNbextensionsApp]\u001b[m Installing /opt/conda/lib/python3.6/site-packages/jupyter_contrib_nbextensions/nbextensions/select_keymap -> select_keymap\r\n",
      "\u001b[32m[I 18:40:21 InstallContribNbextensionsApp]\u001b[m Making directory: /root/.local/share/jupyter/nbextensions/select_keymap/\r\n",
      "\u001b[32m[I 18:40:21 InstallContribNbextensionsApp]\u001b[m Copying: /opt/conda/lib/python3.6/site-packages/jupyter_contrib_nbextensions/nbextensions/select_keymap/README.md -> /root/.local/share/jupyter/nbextensions/select_keymap/README.md\r\n",
      "\u001b[32m[I 18:40:21 InstallContribNbextensionsApp]\u001b[m Copying: /opt/conda/lib/python3.6/site-packages/jupyter_contrib_nbextensions/nbextensions/select_keymap/select_keymap.yaml -> /root/.local/share/jupyter/nbextensions/select_keymap/select_keymap.yaml\r\n",
      "\u001b[32m[I 18:40:21 InstallContribNbextensionsApp]\u001b[m Copying: /opt/conda/lib/python3.6/site-packages/jupyter_contrib_nbextensions/nbextensions/select_keymap/select_keymap.png -> /root/.local/share/jupyter/nbextensions/select_keymap/select_keymap.png\r\n",
      "\u001b[32m[I 18:40:21 InstallContribNbextensionsApp]\u001b[m Copying: /opt/conda/lib/python3.6/site-packages/jupyter_contrib_nbextensions/nbextensions/select_keymap/main.js -> /root/.local/share/jupyter/nbextensions/select_keymap/main.js\r\n",
      "\u001b[32m[I 18:40:21 InstallContribNbextensionsApp]\u001b[m - Validating: \u001b[32mOK\u001b[0m\r\n",
      "\u001b[32m[I 18:40:21 InstallContribNbextensionsApp]\u001b[m Installing /opt/conda/lib/python3.6/site-packages/jupyter_contrib_nbextensions/nbextensions/tree-filter -> tree-filter\r\n",
      "\u001b[32m[I 18:40:21 InstallContribNbextensionsApp]\u001b[m Making directory: /root/.local/share/jupyter/nbextensions/tree-filter/\r\n",
      "\u001b[32m[I 18:40:21 InstallContribNbextensionsApp]\u001b[m Copying: /opt/conda/lib/python3.6/site-packages/jupyter_contrib_nbextensions/nbextensions/tree-filter/readme.md -> /root/.local/share/jupyter/nbextensions/tree-filter/readme.md\r\n",
      "\u001b[32m[I 18:40:21 InstallContribNbextensionsApp]\u001b[m Copying: /opt/conda/lib/python3.6/site-packages/jupyter_contrib_nbextensions/nbextensions/tree-filter/demo.gif -> /root/.local/share/jupyter/nbextensions/tree-filter/demo.gif\r\n",
      "\u001b[32m[I 18:40:21 InstallContribNbextensionsApp]\u001b[m Copying: /opt/conda/lib/python3.6/site-packages/jupyter_contrib_nbextensions/nbextensions/tree-filter/index.js -> /root/.local/share/jupyter/nbextensions/tree-filter/index.js\r\n",
      "\u001b[32m[I 18:40:21 InstallContribNbextensionsApp]\u001b[m Copying: /opt/conda/lib/python3.6/site-packages/jupyter_contrib_nbextensions/nbextensions/tree-filter/tree-filter.yaml -> /root/.local/share/jupyter/nbextensions/tree-filter/tree-filter.yaml\r\n",
      "\u001b[32m[I 18:40:21 InstallContribNbextensionsApp]\u001b[m - Validating: \u001b[32mOK\u001b[0m\r\n",
      "\u001b[32m[I 18:40:21 InstallContribNbextensionsApp]\u001b[m Installing /opt/conda/lib/python3.6/site-packages/jupyter_contrib_nbextensions/nbextensions/freeze -> freeze\r\n",
      "\u001b[32m[I 18:40:21 InstallContribNbextensionsApp]\u001b[m Making directory: /root/.local/share/jupyter/nbextensions/freeze/\r\n",
      "\u001b[32m[I 18:40:21 InstallContribNbextensionsApp]\u001b[m Copying: /opt/conda/lib/python3.6/site-packages/jupyter_contrib_nbextensions/nbextensions/freeze/readme.md -> /root/.local/share/jupyter/nbextensions/freeze/readme.md\r\n",
      "\u001b[32m[I 18:40:21 InstallContribNbextensionsApp]\u001b[m Copying: /opt/conda/lib/python3.6/site-packages/jupyter_contrib_nbextensions/nbextensions/freeze/icon.png -> /root/.local/share/jupyter/nbextensions/freeze/icon.png\r\n",
      "\u001b[32m[I 18:40:21 InstallContribNbextensionsApp]\u001b[m Copying: /opt/conda/lib/python3.6/site-packages/jupyter_contrib_nbextensions/nbextensions/freeze/main.js -> /root/.local/share/jupyter/nbextensions/freeze/main.js\r\n",
      "\u001b[32m[I 18:40:21 InstallContribNbextensionsApp]\u001b[m Copying: /opt/conda/lib/python3.6/site-packages/jupyter_contrib_nbextensions/nbextensions/freeze/config.yaml -> /root/.local/share/jupyter/nbextensions/freeze/config.yaml\r\n",
      "\u001b[32m[I 18:40:21 InstallContribNbextensionsApp]\u001b[m - Validating: \u001b[32mOK\u001b[0m\r\n",
      "\u001b[32m[I 18:40:21 InstallContribNbextensionsApp]\u001b[m Installing /opt/conda/lib/python3.6/site-packages/jupyter_contrib_nbextensions/nbextensions/navigation-hotkeys -> navigation-hotkeys\r\n",
      "\u001b[32m[I 18:40:21 InstallContribNbextensionsApp]\u001b[m Making directory: /root/.local/share/jupyter/nbextensions/navigation-hotkeys/\r\n",
      "\u001b[32m[I 18:40:21 InstallContribNbextensionsApp]\u001b[m Copying: /opt/conda/lib/python3.6/site-packages/jupyter_contrib_nbextensions/nbextensions/navigation-hotkeys/readme.md -> /root/.local/share/jupyter/nbextensions/navigation-hotkeys/readme.md\r\n",
      "\u001b[32m[I 18:40:21 InstallContribNbextensionsApp]\u001b[m Copying: /opt/conda/lib/python3.6/site-packages/jupyter_contrib_nbextensions/nbextensions/navigation-hotkeys/icon.png -> /root/.local/share/jupyter/nbextensions/navigation-hotkeys/icon.png\r\n",
      "\u001b[32m[I 18:40:21 InstallContribNbextensionsApp]\u001b[m Copying: /opt/conda/lib/python3.6/site-packages/jupyter_contrib_nbextensions/nbextensions/navigation-hotkeys/hotkeys.yaml -> /root/.local/share/jupyter/nbextensions/navigation-hotkeys/hotkeys.yaml\r\n",
      "\u001b[32m[I 18:40:21 InstallContribNbextensionsApp]\u001b[m Copying: /opt/conda/lib/python3.6/site-packages/jupyter_contrib_nbextensions/nbextensions/navigation-hotkeys/main.js -> /root/.local/share/jupyter/nbextensions/navigation-hotkeys/main.js\r\n",
      "\u001b[32m[I 18:40:21 InstallContribNbextensionsApp]\u001b[m - Validating: \u001b[32mOK\u001b[0m\r\n",
      "\u001b[32m[I 18:40:21 InstallContribNbextensionsApp]\u001b[m Installing /opt/conda/lib/python3.6/site-packages/jupyter_contrib_nbextensions/nbextensions/code_font_size -> code_font_size\r\n",
      "\u001b[32m[I 18:40:21 InstallContribNbextensionsApp]\u001b[m Making directory: /root/.local/share/jupyter/nbextensions/code_font_size/\r\n",
      "\u001b[32m[I 18:40:21 InstallContribNbextensionsApp]\u001b[m Copying: /opt/conda/lib/python3.6/site-packages/jupyter_contrib_nbextensions/nbextensions/code_font_size/code_font_size.yaml -> /root/.local/share/jupyter/nbextensions/code_font_size/code_font_size.yaml\r\n",
      "\u001b[32m[I 18:40:21 InstallContribNbextensionsApp]\u001b[m Copying: /opt/conda/lib/python3.6/site-packages/jupyter_contrib_nbextensions/nbextensions/code_font_size/README.md -> /root/.local/share/jupyter/nbextensions/code_font_size/README.md\r\n",
      "\u001b[32m[I 18:40:21 InstallContribNbextensionsApp]\u001b[m Copying: /opt/conda/lib/python3.6/site-packages/jupyter_contrib_nbextensions/nbextensions/code_font_size/code_font_size.js -> /root/.local/share/jupyter/nbextensions/code_font_size/code_font_size.js\r\n",
      "\u001b[32m[I 18:40:21 InstallContribNbextensionsApp]\u001b[m - Validating: \u001b[32mOK\u001b[0m\r\n",
      "\u001b[32m[I 18:40:21 InstallContribNbextensionsApp]\u001b[m Installing /opt/conda/lib/python3.6/site-packages/jupyter_contrib_nbextensions/nbextensions/hide_header -> hide_header\r\n",
      "\u001b[32m[I 18:40:21 InstallContribNbextensionsApp]\u001b[m Making directory: /root/.local/share/jupyter/nbextensions/hide_header/\r\n",
      "\u001b[32m[I 18:40:21 InstallContribNbextensionsApp]\u001b[m Copying: /opt/conda/lib/python3.6/site-packages/jupyter_contrib_nbextensions/nbextensions/hide_header/README.md -> /root/.local/share/jupyter/nbextensions/hide_header/README.md\r\n",
      "\u001b[32m[I 18:40:21 InstallContribNbextensionsApp]\u001b[m Copying: /opt/conda/lib/python3.6/site-packages/jupyter_contrib_nbextensions/nbextensions/hide_header/hide_header.yaml -> /root/.local/share/jupyter/nbextensions/hide_header/hide_header.yaml\r\n",
      "\u001b[32m[I 18:40:21 InstallContribNbextensionsApp]\u001b[m Copying: /opt/conda/lib/python3.6/site-packages/jupyter_contrib_nbextensions/nbextensions/hide_header/main.js -> /root/.local/share/jupyter/nbextensions/hide_header/main.js\r\n",
      "\u001b[32m[I 18:40:21 InstallContribNbextensionsApp]\u001b[m - Validating: \u001b[32mOK\u001b[0m\r\n",
      "\u001b[32m[I 18:40:21 InstallContribNbextensionsApp]\u001b[m Installing /opt/conda/lib/python3.6/site-packages/jupyter_contrib_nbextensions/nbextensions/init_cell -> init_cell\r\n",
      "\u001b[32m[I 18:40:21 InstallContribNbextensionsApp]\u001b[m Making directory: /root/.local/share/jupyter/nbextensions/init_cell/\r\n",
      "\u001b[32m[I 18:40:21 InstallContribNbextensionsApp]\u001b[m Copying: /opt/conda/lib/python3.6/site-packages/jupyter_contrib_nbextensions/nbextensions/init_cell/README.md -> /root/.local/share/jupyter/nbextensions/init_cell/README.md\r\n",
      "\u001b[32m[I 18:40:21 InstallContribNbextensionsApp]\u001b[m Copying: /opt/conda/lib/python3.6/site-packages/jupyter_contrib_nbextensions/nbextensions/init_cell/icon.png -> /root/.local/share/jupyter/nbextensions/init_cell/icon.png\r\n",
      "\u001b[32m[I 18:40:21 InstallContribNbextensionsApp]\u001b[m Copying: /opt/conda/lib/python3.6/site-packages/jupyter_contrib_nbextensions/nbextensions/init_cell/init_cell.yaml -> /root/.local/share/jupyter/nbextensions/init_cell/init_cell.yaml\r\n",
      "\u001b[32m[I 18:40:21 InstallContribNbextensionsApp]\u001b[m Copying: /opt/conda/lib/python3.6/site-packages/jupyter_contrib_nbextensions/nbextensions/init_cell/cell_toolbar_menu.png -> /root/.local/share/jupyter/nbextensions/init_cell/cell_toolbar_menu.png\r\n",
      "\u001b[32m[I 18:40:21 InstallContribNbextensionsApp]\u001b[m Copying: /opt/conda/lib/python3.6/site-packages/jupyter_contrib_nbextensions/nbextensions/init_cell/main.js -> /root/.local/share/jupyter/nbextensions/init_cell/main.js\r\n",
      "\u001b[32m[I 18:40:21 InstallContribNbextensionsApp]\u001b[m - Validating: \u001b[32mOK\u001b[0m\r\n",
      "\u001b[32m[I 18:40:21 InstallContribNbextensionsApp]\u001b[m Installing /opt/conda/lib/python3.6/site-packages/jupyter_contrib_nbextensions/nbextensions/scroll_down -> scroll_down\r\n",
      "\u001b[32m[I 18:40:21 InstallContribNbextensionsApp]\u001b[m Making directory: /root/.local/share/jupyter/nbextensions/scroll_down/\r\n",
      "\u001b[32m[I 18:40:21 InstallContribNbextensionsApp]\u001b[m Copying: /opt/conda/lib/python3.6/site-packages/jupyter_contrib_nbextensions/nbextensions/scroll_down/readme.md -> /root/.local/share/jupyter/nbextensions/scroll_down/readme.md\r\n",
      "\u001b[32m[I 18:40:21 InstallContribNbextensionsApp]\u001b[m Copying: /opt/conda/lib/python3.6/site-packages/jupyter_contrib_nbextensions/nbextensions/scroll_down/icon.png -> /root/.local/share/jupyter/nbextensions/scroll_down/icon.png\r\n",
      "\u001b[32m[I 18:40:21 InstallContribNbextensionsApp]\u001b[m Copying: /opt/conda/lib/python3.6/site-packages/jupyter_contrib_nbextensions/nbextensions/scroll_down/main.js -> /root/.local/share/jupyter/nbextensions/scroll_down/main.js\r\n",
      "\u001b[32m[I 18:40:21 InstallContribNbextensionsApp]\u001b[m Copying: /opt/conda/lib/python3.6/site-packages/jupyter_contrib_nbextensions/nbextensions/scroll_down/config.yaml -> /root/.local/share/jupyter/nbextensions/scroll_down/config.yaml\r\n",
      "\u001b[32m[I 18:40:21 InstallContribNbextensionsApp]\u001b[m - Validating: \u001b[32mOK\u001b[0m\r\n",
      "\u001b[32m[I 18:40:21 InstallContribNbextensionsApp]\u001b[m Installing /opt/conda/lib/python3.6/site-packages/jupyter_contrib_nbextensions/nbextensions/python-markdown -> python-markdown\r\n",
      "\u001b[32m[I 18:40:21 InstallContribNbextensionsApp]\u001b[m Making directory: /root/.local/share/jupyter/nbextensions/python-markdown/\r\n",
      "\u001b[32m[I 18:40:21 InstallContribNbextensionsApp]\u001b[m Copying: /opt/conda/lib/python3.6/site-packages/jupyter_contrib_nbextensions/nbextensions/python-markdown/readme.md -> /root/.local/share/jupyter/nbextensions/python-markdown/readme.md\r\n",
      "\u001b[32m[I 18:40:21 InstallContribNbextensionsApp]\u001b[m Copying: /opt/conda/lib/python3.6/site-packages/jupyter_contrib_nbextensions/nbextensions/python-markdown/main.css -> /root/.local/share/jupyter/nbextensions/python-markdown/main.css\r\n",
      "\u001b[32m[I 18:40:21 InstallContribNbextensionsApp]\u001b[m Copying: /opt/conda/lib/python3.6/site-packages/jupyter_contrib_nbextensions/nbextensions/python-markdown/python-markdown-post.png -> /root/.local/share/jupyter/nbextensions/python-markdown/python-markdown-post.png\r\n",
      "\u001b[32m[I 18:40:21 InstallContribNbextensionsApp]\u001b[m Copying: /opt/conda/lib/python3.6/site-packages/jupyter_contrib_nbextensions/nbextensions/python-markdown/python-markdown.png -> /root/.local/share/jupyter/nbextensions/python-markdown/python-markdown.png\r\n",
      "\u001b[32m[I 18:40:21 InstallContribNbextensionsApp]\u001b[m Copying: /opt/conda/lib/python3.6/site-packages/jupyter_contrib_nbextensions/nbextensions/python-markdown/untrusted.png -> /root/.local/share/jupyter/nbextensions/python-markdown/untrusted.png\r\n",
      "\u001b[32m[I 18:40:21 InstallContribNbextensionsApp]\u001b[m Copying: /opt/conda/lib/python3.6/site-packages/jupyter_contrib_nbextensions/nbextensions/python-markdown/python-markdown-pre.png -> /root/.local/share/jupyter/nbextensions/python-markdown/python-markdown-pre.png\r\n",
      "\u001b[32m[I 18:40:21 InstallContribNbextensionsApp]\u001b[m Copying: /opt/conda/lib/python3.6/site-packages/jupyter_contrib_nbextensions/nbextensions/python-markdown/trusted.png -> /root/.local/share/jupyter/nbextensions/python-markdown/trusted.png\r\n",
      "\u001b[32m[I 18:40:21 InstallContribNbextensionsApp]\u001b[m Copying: /opt/conda/lib/python3.6/site-packages/jupyter_contrib_nbextensions/nbextensions/python-markdown/python-markdown.yaml -> /root/.local/share/jupyter/nbextensions/python-markdown/python-markdown.yaml\r\n",
      "\u001b[32m[I 18:40:21 InstallContribNbextensionsApp]\u001b[m Copying: /opt/conda/lib/python3.6/site-packages/jupyter_contrib_nbextensions/nbextensions/python-markdown/main.js -> /root/.local/share/jupyter/nbextensions/python-markdown/main.js\r\n",
      "\u001b[32m[I 18:40:21 InstallContribNbextensionsApp]\u001b[m - Validating: \u001b[32mOK\u001b[0m\r\n",
      "\u001b[32m[I 18:40:21 InstallContribNbextensionsApp]\u001b[m Installing /opt/conda/lib/python3.6/site-packages/jupyter_contrib_nbextensions/nbextensions/snippets -> snippets\r\n",
      "\u001b[32m[I 18:40:21 InstallContribNbextensionsApp]\u001b[m Making directory: /root/.local/share/jupyter/nbextensions/snippets/\r\n",
      "\u001b[32m[I 18:40:21 InstallContribNbextensionsApp]\u001b[m Copying: /opt/conda/lib/python3.6/site-packages/jupyter_contrib_nbextensions/nbextensions/snippets/README.md -> /root/.local/share/jupyter/nbextensions/snippets/README.md\r\n",
      "\u001b[32m[I 18:40:21 InstallContribNbextensionsApp]\u001b[m Copying: /opt/conda/lib/python3.6/site-packages/jupyter_contrib_nbextensions/nbextensions/snippets/snippets-demo.gif -> /root/.local/share/jupyter/nbextensions/snippets/snippets-demo.gif\r\n",
      "\u001b[32m[I 18:40:21 InstallContribNbextensionsApp]\u001b[m Copying: /opt/conda/lib/python3.6/site-packages/jupyter_contrib_nbextensions/nbextensions/snippets/snippets.yaml -> /root/.local/share/jupyter/nbextensions/snippets/snippets.yaml\r\n",
      "\u001b[32m[I 18:40:21 InstallContribNbextensionsApp]\u001b[m Copying: /opt/conda/lib/python3.6/site-packages/jupyter_contrib_nbextensions/nbextensions/snippets/snippets.json -> /root/.local/share/jupyter/nbextensions/snippets/snippets.json\r\n",
      "\u001b[32m[I 18:40:21 InstallContribNbextensionsApp]\u001b[m Copying: /opt/conda/lib/python3.6/site-packages/jupyter_contrib_nbextensions/nbextensions/snippets/main.js -> /root/.local/share/jupyter/nbextensions/snippets/main.js\r\n",
      "\u001b[32m[I 18:40:21 InstallContribNbextensionsApp]\u001b[m - Validating: \u001b[32mOK\u001b[0m\r\n",
      "\u001b[32m[I 18:40:21 InstallContribNbextensionsApp]\u001b[m Installing /opt/conda/lib/python3.6/site-packages/jupyter_contrib_nbextensions/nbextensions/code_prettify -> code_prettify\r\n",
      "\u001b[32m[I 18:40:21 InstallContribNbextensionsApp]\u001b[m Making directory: /root/.local/share/jupyter/nbextensions/code_prettify/\r\n",
      "\u001b[32m[I 18:40:21 InstallContribNbextensionsApp]\u001b[m Copying: /opt/conda/lib/python3.6/site-packages/jupyter_contrib_nbextensions/nbextensions/code_prettify/kernel_exec_on_cell.js -> /root/.local/share/jupyter/nbextensions/code_prettify/kernel_exec_on_cell.js\r\n",
      "\u001b[32m[I 18:40:21 InstallContribNbextensionsApp]\u001b[m Copying: /opt/conda/lib/python3.6/site-packages/jupyter_contrib_nbextensions/nbextensions/code_prettify/README_2to3.md -> /root/.local/share/jupyter/nbextensions/code_prettify/README_2to3.md\r\n",
      "\u001b[32m[I 18:40:21 InstallContribNbextensionsApp]\u001b[m Copying: /opt/conda/lib/python3.6/site-packages/jupyter_contrib_nbextensions/nbextensions/code_prettify/demo_2to3.gif -> /root/.local/share/jupyter/nbextensions/code_prettify/demo_2to3.gif\r\n",
      "\u001b[32m[I 18:40:21 InstallContribNbextensionsApp]\u001b[m Copying: /opt/conda/lib/python3.6/site-packages/jupyter_contrib_nbextensions/nbextensions/code_prettify/README.md -> /root/.local/share/jupyter/nbextensions/code_prettify/README.md\r\n"
     ]
    },
    {
     "name": "stdout",
     "output_type": "stream",
     "text": [
      "\u001b[32m[I 18:40:21 InstallContribNbextensionsApp]\u001b[m Copying: /opt/conda/lib/python3.6/site-packages/jupyter_contrib_nbextensions/nbextensions/code_prettify/autopep8.js -> /root/.local/share/jupyter/nbextensions/code_prettify/autopep8.js\r\n",
      "\u001b[32m[I 18:40:21 InstallContribNbextensionsApp]\u001b[m Copying: /opt/conda/lib/python3.6/site-packages/jupyter_contrib_nbextensions/nbextensions/code_prettify/demo-py.gif -> /root/.local/share/jupyter/nbextensions/code_prettify/demo-py.gif\r\n",
      "\u001b[32m[I 18:40:21 InstallContribNbextensionsApp]\u001b[m Copying: /opt/conda/lib/python3.6/site-packages/jupyter_contrib_nbextensions/nbextensions/code_prettify/code_prettify.js -> /root/.local/share/jupyter/nbextensions/code_prettify/code_prettify.js\r\n",
      "\u001b[32m[I 18:40:21 InstallContribNbextensionsApp]\u001b[m Copying: /opt/conda/lib/python3.6/site-packages/jupyter_contrib_nbextensions/nbextensions/code_prettify/README_autopep8.md -> /root/.local/share/jupyter/nbextensions/code_prettify/README_autopep8.md\r\n",
      "\u001b[32m[I 18:40:21 InstallContribNbextensionsApp]\u001b[m Copying: /opt/conda/lib/python3.6/site-packages/jupyter_contrib_nbextensions/nbextensions/code_prettify/isort.js -> /root/.local/share/jupyter/nbextensions/code_prettify/isort.js\r\n",
      "\u001b[32m[I 18:40:21 InstallContribNbextensionsApp]\u001b[m Copying: /opt/conda/lib/python3.6/site-packages/jupyter_contrib_nbextensions/nbextensions/code_prettify/isort.yaml -> /root/.local/share/jupyter/nbextensions/code_prettify/isort.yaml\r\n",
      "\u001b[32m[I 18:40:21 InstallContribNbextensionsApp]\u001b[m Copying: /opt/conda/lib/python3.6/site-packages/jupyter_contrib_nbextensions/nbextensions/code_prettify/2to3.yaml -> /root/.local/share/jupyter/nbextensions/code_prettify/2to3.yaml\r\n",
      "\u001b[32m[I 18:40:21 InstallContribNbextensionsApp]\u001b[m Copying: /opt/conda/lib/python3.6/site-packages/jupyter_contrib_nbextensions/nbextensions/code_prettify/code_prettify.yaml -> /root/.local/share/jupyter/nbextensions/code_prettify/code_prettify.yaml\r\n",
      "\u001b[32m[I 18:40:21 InstallContribNbextensionsApp]\u001b[m Copying: /opt/conda/lib/python3.6/site-packages/jupyter_contrib_nbextensions/nbextensions/code_prettify/autopep8.yaml -> /root/.local/share/jupyter/nbextensions/code_prettify/autopep8.yaml\r\n",
      "\u001b[32m[I 18:40:21 InstallContribNbextensionsApp]\u001b[m Copying: /opt/conda/lib/python3.6/site-packages/jupyter_contrib_nbextensions/nbextensions/code_prettify/README_isort.md -> /root/.local/share/jupyter/nbextensions/code_prettify/README_isort.md\r\n",
      "\u001b[32m[I 18:40:21 InstallContribNbextensionsApp]\u001b[m Copying: /opt/conda/lib/python3.6/site-packages/jupyter_contrib_nbextensions/nbextensions/code_prettify/2to3.js -> /root/.local/share/jupyter/nbextensions/code_prettify/2to3.js\r\n",
      "\u001b[32m[I 18:40:21 InstallContribNbextensionsApp]\u001b[m Copying: /opt/conda/lib/python3.6/site-packages/jupyter_contrib_nbextensions/nbextensions/code_prettify/demo-jv.gif -> /root/.local/share/jupyter/nbextensions/code_prettify/demo-jv.gif\r\n",
      "\u001b[32m[I 18:40:21 InstallContribNbextensionsApp]\u001b[m Copying: /opt/conda/lib/python3.6/site-packages/jupyter_contrib_nbextensions/nbextensions/code_prettify/README_code_prettify.md -> /root/.local/share/jupyter/nbextensions/code_prettify/README_code_prettify.md\r\n",
      "\u001b[32m[I 18:40:21 InstallContribNbextensionsApp]\u001b[m Copying: /opt/conda/lib/python3.6/site-packages/jupyter_contrib_nbextensions/nbextensions/code_prettify/demo-R.gif -> /root/.local/share/jupyter/nbextensions/code_prettify/demo-R.gif\r\n",
      "\u001b[32m[I 18:40:21 InstallContribNbextensionsApp]\u001b[m - Validating: \u001b[32mOK\u001b[0m\r\n",
      "\u001b[32m[I 18:40:21 InstallContribNbextensionsApp]\u001b[m Installing /opt/conda/lib/python3.6/site-packages/jupyter_contrib_nbextensions/nbextensions/code_prettify -> code_prettify\r\n",
      "\u001b[32m[I 18:40:21 InstallContribNbextensionsApp]\u001b[m Up to date: /root/.local/share/jupyter/nbextensions/code_prettify/kernel_exec_on_cell.js\r\n",
      "\u001b[32m[I 18:40:21 InstallContribNbextensionsApp]\u001b[m Up to date: /root/.local/share/jupyter/nbextensions/code_prettify/README_2to3.md\r\n",
      "\u001b[32m[I 18:40:21 InstallContribNbextensionsApp]\u001b[m Up to date: /root/.local/share/jupyter/nbextensions/code_prettify/demo_2to3.gif\r\n",
      "\u001b[32m[I 18:40:21 InstallContribNbextensionsApp]\u001b[m Up to date: /root/.local/share/jupyter/nbextensions/code_prettify/README.md\r\n",
      "\u001b[32m[I 18:40:21 InstallContribNbextensionsApp]\u001b[m Up to date: /root/.local/share/jupyter/nbextensions/code_prettify/autopep8.js\r\n",
      "\u001b[32m[I 18:40:21 InstallContribNbextensionsApp]\u001b[m Up to date: /root/.local/share/jupyter/nbextensions/code_prettify/demo-py.gif\r\n",
      "\u001b[32m[I 18:40:21 InstallContribNbextensionsApp]\u001b[m Up to date: /root/.local/share/jupyter/nbextensions/code_prettify/code_prettify.js\r\n",
      "\u001b[32m[I 18:40:21 InstallContribNbextensionsApp]\u001b[m Up to date: /root/.local/share/jupyter/nbextensions/code_prettify/README_autopep8.md\r\n",
      "\u001b[32m[I 18:40:21 InstallContribNbextensionsApp]\u001b[m Up to date: /root/.local/share/jupyter/nbextensions/code_prettify/isort.js\r\n",
      "\u001b[32m[I 18:40:21 InstallContribNbextensionsApp]\u001b[m Up to date: /root/.local/share/jupyter/nbextensions/code_prettify/isort.yaml\r\n",
      "\u001b[32m[I 18:40:21 InstallContribNbextensionsApp]\u001b[m Up to date: /root/.local/share/jupyter/nbextensions/code_prettify/2to3.yaml\r\n",
      "\u001b[32m[I 18:40:21 InstallContribNbextensionsApp]\u001b[m Up to date: /root/.local/share/jupyter/nbextensions/code_prettify/code_prettify.yaml\r\n",
      "\u001b[32m[I 18:40:21 InstallContribNbextensionsApp]\u001b[m Up to date: /root/.local/share/jupyter/nbextensions/code_prettify/autopep8.yaml\r\n",
      "\u001b[32m[I 18:40:21 InstallContribNbextensionsApp]\u001b[m Up to date: /root/.local/share/jupyter/nbextensions/code_prettify/README_isort.md\r\n",
      "\u001b[32m[I 18:40:21 InstallContribNbextensionsApp]\u001b[m Up to date: /root/.local/share/jupyter/nbextensions/code_prettify/2to3.js\r\n",
      "\u001b[32m[I 18:40:21 InstallContribNbextensionsApp]\u001b[m Up to date: /root/.local/share/jupyter/nbextensions/code_prettify/demo-jv.gif\r\n",
      "\u001b[32m[I 18:40:21 InstallContribNbextensionsApp]\u001b[m Up to date: /root/.local/share/jupyter/nbextensions/code_prettify/README_code_prettify.md\r\n",
      "\u001b[32m[I 18:40:21 InstallContribNbextensionsApp]\u001b[m Up to date: /root/.local/share/jupyter/nbextensions/code_prettify/demo-R.gif\r\n",
      "\u001b[32m[I 18:40:21 InstallContribNbextensionsApp]\u001b[m - Validating: \u001b[32mOK\u001b[0m\r\n",
      "\u001b[32m[I 18:40:21 InstallContribNbextensionsApp]\u001b[m Installing /opt/conda/lib/python3.6/site-packages/jupyter_contrib_nbextensions/nbextensions/code_prettify -> code_prettify\r\n",
      "\u001b[32m[I 18:40:21 InstallContribNbextensionsApp]\u001b[m Up to date: /root/.local/share/jupyter/nbextensions/code_prettify/kernel_exec_on_cell.js\r\n",
      "\u001b[32m[I 18:40:21 InstallContribNbextensionsApp]\u001b[m Up to date: /root/.local/share/jupyter/nbextensions/code_prettify/README_2to3.md\r\n",
      "\u001b[32m[I 18:40:21 InstallContribNbextensionsApp]\u001b[m Up to date: /root/.local/share/jupyter/nbextensions/code_prettify/demo_2to3.gif\r\n",
      "\u001b[32m[I 18:40:21 InstallContribNbextensionsApp]\u001b[m Up to date: /root/.local/share/jupyter/nbextensions/code_prettify/README.md\r\n",
      "\u001b[32m[I 18:40:21 InstallContribNbextensionsApp]\u001b[m Up to date: /root/.local/share/jupyter/nbextensions/code_prettify/autopep8.js\r\n",
      "\u001b[32m[I 18:40:21 InstallContribNbextensionsApp]\u001b[m Up to date: /root/.local/share/jupyter/nbextensions/code_prettify/demo-py.gif\r\n",
      "\u001b[32m[I 18:40:21 InstallContribNbextensionsApp]\u001b[m Up to date: /root/.local/share/jupyter/nbextensions/code_prettify/code_prettify.js\r\n",
      "\u001b[32m[I 18:40:21 InstallContribNbextensionsApp]\u001b[m Up to date: /root/.local/share/jupyter/nbextensions/code_prettify/README_autopep8.md\r\n",
      "\u001b[32m[I 18:40:21 InstallContribNbextensionsApp]\u001b[m Up to date: /root/.local/share/jupyter/nbextensions/code_prettify/isort.js\r\n",
      "\u001b[32m[I 18:40:21 InstallContribNbextensionsApp]\u001b[m Up to date: /root/.local/share/jupyter/nbextensions/code_prettify/isort.yaml\r\n",
      "\u001b[32m[I 18:40:21 InstallContribNbextensionsApp]\u001b[m Up to date: /root/.local/share/jupyter/nbextensions/code_prettify/2to3.yaml\r\n",
      "\u001b[32m[I 18:40:21 InstallContribNbextensionsApp]\u001b[m Up to date: /root/.local/share/jupyter/nbextensions/code_prettify/code_prettify.yaml\r\n",
      "\u001b[32m[I 18:40:21 InstallContribNbextensionsApp]\u001b[m Up to date: /root/.local/share/jupyter/nbextensions/code_prettify/autopep8.yaml\r\n",
      "\u001b[32m[I 18:40:21 InstallContribNbextensionsApp]\u001b[m Up to date: /root/.local/share/jupyter/nbextensions/code_prettify/README_isort.md\r\n",
      "\u001b[32m[I 18:40:21 InstallContribNbextensionsApp]\u001b[m Up to date: /root/.local/share/jupyter/nbextensions/code_prettify/2to3.js\r\n",
      "\u001b[32m[I 18:40:21 InstallContribNbextensionsApp]\u001b[m Up to date: /root/.local/share/jupyter/nbextensions/code_prettify/demo-jv.gif\r\n",
      "\u001b[32m[I 18:40:21 InstallContribNbextensionsApp]\u001b[m Up to date: /root/.local/share/jupyter/nbextensions/code_prettify/README_code_prettify.md\r\n",
      "\u001b[32m[I 18:40:21 InstallContribNbextensionsApp]\u001b[m Up to date: /root/.local/share/jupyter/nbextensions/code_prettify/demo-R.gif\r\n",
      "\u001b[32m[I 18:40:21 InstallContribNbextensionsApp]\u001b[m - Validating: \u001b[32mOK\u001b[0m\r\n",
      "\u001b[32m[I 18:40:21 InstallContribNbextensionsApp]\u001b[m Installing /opt/conda/lib/python3.6/site-packages/jupyter_contrib_nbextensions/nbextensions/code_prettify -> code_prettify\r\n",
      "\u001b[32m[I 18:40:21 InstallContribNbextensionsApp]\u001b[m Up to date: /root/.local/share/jupyter/nbextensions/code_prettify/kernel_exec_on_cell.js\r\n",
      "\u001b[32m[I 18:40:21 InstallContribNbextensionsApp]\u001b[m Up to date: /root/.local/share/jupyter/nbextensions/code_prettify/README_2to3.md\r\n",
      "\u001b[32m[I 18:40:21 InstallContribNbextensionsApp]\u001b[m Up to date: /root/.local/share/jupyter/nbextensions/code_prettify/demo_2to3.gif\r\n",
      "\u001b[32m[I 18:40:21 InstallContribNbextensionsApp]\u001b[m Up to date: /root/.local/share/jupyter/nbextensions/code_prettify/README.md\r\n",
      "\u001b[32m[I 18:40:21 InstallContribNbextensionsApp]\u001b[m Up to date: /root/.local/share/jupyter/nbextensions/code_prettify/autopep8.js\r\n",
      "\u001b[32m[I 18:40:21 InstallContribNbextensionsApp]\u001b[m Up to date: /root/.local/share/jupyter/nbextensions/code_prettify/demo-py.gif\r\n",
      "\u001b[32m[I 18:40:21 InstallContribNbextensionsApp]\u001b[m Up to date: /root/.local/share/jupyter/nbextensions/code_prettify/code_prettify.js\r\n",
      "\u001b[32m[I 18:40:21 InstallContribNbextensionsApp]\u001b[m Up to date: /root/.local/share/jupyter/nbextensions/code_prettify/README_autopep8.md\r\n",
      "\u001b[32m[I 18:40:21 InstallContribNbextensionsApp]\u001b[m Up to date: /root/.local/share/jupyter/nbextensions/code_prettify/isort.js\r\n",
      "\u001b[32m[I 18:40:21 InstallContribNbextensionsApp]\u001b[m Up to date: /root/.local/share/jupyter/nbextensions/code_prettify/isort.yaml\r\n",
      "\u001b[32m[I 18:40:21 InstallContribNbextensionsApp]\u001b[m Up to date: /root/.local/share/jupyter/nbextensions/code_prettify/2to3.yaml\r\n",
      "\u001b[32m[I 18:40:21 InstallContribNbextensionsApp]\u001b[m Up to date: /root/.local/share/jupyter/nbextensions/code_prettify/code_prettify.yaml\r\n",
      "\u001b[32m[I 18:40:21 InstallContribNbextensionsApp]\u001b[m Up to date: /root/.local/share/jupyter/nbextensions/code_prettify/autopep8.yaml\r\n",
      "\u001b[32m[I 18:40:21 InstallContribNbextensionsApp]\u001b[m Up to date: /root/.local/share/jupyter/nbextensions/code_prettify/README_isort.md\r\n",
      "\u001b[32m[I 18:40:21 InstallContribNbextensionsApp]\u001b[m Up to date: /root/.local/share/jupyter/nbextensions/code_prettify/2to3.js\r\n",
      "\u001b[32m[I 18:40:21 InstallContribNbextensionsApp]\u001b[m Up to date: /root/.local/share/jupyter/nbextensions/code_prettify/demo-jv.gif\r\n",
      "\u001b[32m[I 18:40:21 InstallContribNbextensionsApp]\u001b[m Up to date: /root/.local/share/jupyter/nbextensions/code_prettify/README_code_prettify.md\r\n",
      "\u001b[32m[I 18:40:21 InstallContribNbextensionsApp]\u001b[m Up to date: /root/.local/share/jupyter/nbextensions/code_prettify/demo-R.gif\r\n",
      "\u001b[32m[I 18:40:21 InstallContribNbextensionsApp]\u001b[m - Validating: \u001b[32mOK\u001b[0m\r\n",
      "\u001b[32m[I 18:40:21 InstallContribNbextensionsApp]\u001b[m Installing /opt/conda/lib/python3.6/site-packages/jupyter_contrib_nbextensions/nbextensions/skip-traceback -> skip-traceback\r\n",
      "\u001b[32m[I 18:40:21 InstallContribNbextensionsApp]\u001b[m Making directory: /root/.local/share/jupyter/nbextensions/skip-traceback/\r\n",
      "\u001b[32m[I 18:40:21 InstallContribNbextensionsApp]\u001b[m Copying: /opt/conda/lib/python3.6/site-packages/jupyter_contrib_nbextensions/nbextensions/skip-traceback/skip-traceback.yaml -> /root/.local/share/jupyter/nbextensions/skip-traceback/skip-traceback.yaml\r\n",
      "\u001b[32m[I 18:40:21 InstallContribNbextensionsApp]\u001b[m Copying: /opt/conda/lib/python3.6/site-packages/jupyter_contrib_nbextensions/nbextensions/skip-traceback/readme.md -> /root/.local/share/jupyter/nbextensions/skip-traceback/readme.md\r\n",
      "\u001b[32m[I 18:40:21 InstallContribNbextensionsApp]\u001b[m Copying: /opt/conda/lib/python3.6/site-packages/jupyter_contrib_nbextensions/nbextensions/skip-traceback/icon.png -> /root/.local/share/jupyter/nbextensions/skip-traceback/icon.png\r\n",
      "\u001b[32m[I 18:40:21 InstallContribNbextensionsApp]\u001b[m Copying: /opt/conda/lib/python3.6/site-packages/jupyter_contrib_nbextensions/nbextensions/skip-traceback/traceback.png -> /root/.local/share/jupyter/nbextensions/skip-traceback/traceback.png\r\n",
      "\u001b[32m[I 18:40:21 InstallContribNbextensionsApp]\u001b[m Copying: /opt/conda/lib/python3.6/site-packages/jupyter_contrib_nbextensions/nbextensions/skip-traceback/skip-traceback.png -> /root/.local/share/jupyter/nbextensions/skip-traceback/skip-traceback.png\r\n",
      "\u001b[32m[I 18:40:21 InstallContribNbextensionsApp]\u001b[m Copying: /opt/conda/lib/python3.6/site-packages/jupyter_contrib_nbextensions/nbextensions/skip-traceback/main.js -> /root/.local/share/jupyter/nbextensions/skip-traceback/main.js\r\n",
      "\u001b[32m[I 18:40:21 InstallContribNbextensionsApp]\u001b[m - Validating: \u001b[32mOK\u001b[0m\r\n",
      "\u001b[32m[I 18:40:21 InstallContribNbextensionsApp]\u001b[m Installing /opt/conda/lib/python3.6/site-packages/jupyter_contrib_nbextensions/nbextensions/hide_input -> hide_input\r\n",
      "\u001b[32m[I 18:40:21 InstallContribNbextensionsApp]\u001b[m Making directory: /root/.local/share/jupyter/nbextensions/hide_input/\r\n",
      "\u001b[32m[I 18:40:21 InstallContribNbextensionsApp]\u001b[m Copying: /opt/conda/lib/python3.6/site-packages/jupyter_contrib_nbextensions/nbextensions/hide_input/readme.md -> /root/.local/share/jupyter/nbextensions/hide_input/readme.md\r\n",
      "\u001b[32m[I 18:40:21 InstallContribNbextensionsApp]\u001b[m Copying: /opt/conda/lib/python3.6/site-packages/jupyter_contrib_nbextensions/nbextensions/hide_input/hide-input.yaml -> /root/.local/share/jupyter/nbextensions/hide_input/hide-input.yaml\r\n",
      "\u001b[32m[I 18:40:21 InstallContribNbextensionsApp]\u001b[m Copying: /opt/conda/lib/python3.6/site-packages/jupyter_contrib_nbextensions/nbextensions/hide_input/icon.png -> /root/.local/share/jupyter/nbextensions/hide_input/icon.png\r\n",
      "\u001b[32m[I 18:40:21 InstallContribNbextensionsApp]\u001b[m Copying: /opt/conda/lib/python3.6/site-packages/jupyter_contrib_nbextensions/nbextensions/hide_input/main.js -> /root/.local/share/jupyter/nbextensions/hide_input/main.js\r\n",
      "\u001b[32m[I 18:40:21 InstallContribNbextensionsApp]\u001b[m - Validating: \u001b[32mOK\u001b[0m\r\n",
      "\u001b[32m[I 18:40:21 InstallContribNbextensionsApp]\u001b[m Installing /opt/conda/lib/python3.6/site-packages/jupyter_contrib_nbextensions/nbextensions/scratchpad -> scratchpad\r\n",
      "\u001b[32m[I 18:40:21 InstallContribNbextensionsApp]\u001b[m Making directory: /root/.local/share/jupyter/nbextensions/scratchpad/\r\n",
      "\u001b[32m[I 18:40:21 InstallContribNbextensionsApp]\u001b[m Copying: /opt/conda/lib/python3.6/site-packages/jupyter_contrib_nbextensions/nbextensions/scratchpad/README.md -> /root/.local/share/jupyter/nbextensions/scratchpad/README.md\r\n",
      "\u001b[32m[I 18:40:21 InstallContribNbextensionsApp]\u001b[m Copying: /opt/conda/lib/python3.6/site-packages/jupyter_contrib_nbextensions/nbextensions/scratchpad/scratchpad.css -> /root/.local/share/jupyter/nbextensions/scratchpad/scratchpad.css\r\n",
      "\u001b[32m[I 18:40:21 InstallContribNbextensionsApp]\u001b[m Copying: /opt/conda/lib/python3.6/site-packages/jupyter_contrib_nbextensions/nbextensions/scratchpad/demo.gif -> /root/.local/share/jupyter/nbextensions/scratchpad/demo.gif\r\n",
      "\u001b[32m[I 18:40:21 InstallContribNbextensionsApp]\u001b[m Copying: /opt/conda/lib/python3.6/site-packages/jupyter_contrib_nbextensions/nbextensions/scratchpad/LICENSE -> /root/.local/share/jupyter/nbextensions/scratchpad/LICENSE\r\n",
      "\u001b[32m[I 18:40:21 InstallContribNbextensionsApp]\u001b[m Copying: /opt/conda/lib/python3.6/site-packages/jupyter_contrib_nbextensions/nbextensions/scratchpad/scratchpad.yaml -> /root/.local/share/jupyter/nbextensions/scratchpad/scratchpad.yaml\r\n",
      "\u001b[32m[I 18:40:21 InstallContribNbextensionsApp]\u001b[m Copying: /opt/conda/lib/python3.6/site-packages/jupyter_contrib_nbextensions/nbextensions/scratchpad/main.js -> /root/.local/share/jupyter/nbextensions/scratchpad/main.js\r\n",
      "\u001b[32m[I 18:40:21 InstallContribNbextensionsApp]\u001b[m - Validating: \u001b[32mOK\u001b[0m\r\n",
      "\u001b[32m[I 18:40:21 InstallContribNbextensionsApp]\u001b[m Installing /opt/conda/lib/python3.6/site-packages/jupyter_contrib_nbextensions/nbextensions/varInspector -> varInspector\r\n",
      "\u001b[32m[I 18:40:21 InstallContribNbextensionsApp]\u001b[m Making directory: /root/.local/share/jupyter/nbextensions/varInspector/\r\n",
      "\u001b[32m[I 18:40:21 InstallContribNbextensionsApp]\u001b[m Copying: /opt/conda/lib/python3.6/site-packages/jupyter_contrib_nbextensions/nbextensions/varInspector/tablesorter_LICENSE.txt -> /root/.local/share/jupyter/nbextensions/varInspector/tablesorter_LICENSE.txt\r\n",
      "\u001b[32m[I 18:40:21 InstallContribNbextensionsApp]\u001b[m Copying: /opt/conda/lib/python3.6/site-packages/jupyter_contrib_nbextensions/nbextensions/varInspector/main.css -> /root/.local/share/jupyter/nbextensions/varInspector/main.css\r\n",
      "\u001b[32m[I 18:40:21 InstallContribNbextensionsApp]\u001b[m Copying: /opt/conda/lib/python3.6/site-packages/jupyter_contrib_nbextensions/nbextensions/varInspector/README.md -> /root/.local/share/jupyter/nbextensions/varInspector/README.md\r\n",
      "\u001b[32m[I 18:40:21 InstallContribNbextensionsApp]\u001b[m Copying: /opt/conda/lib/python3.6/site-packages/jupyter_contrib_nbextensions/nbextensions/varInspector/var_list.py -> /root/.local/share/jupyter/nbextensions/varInspector/var_list.py\r\n",
      "\u001b[32m[I 18:40:21 InstallContribNbextensionsApp]\u001b[m Copying: /opt/conda/lib/python3.6/site-packages/jupyter_contrib_nbextensions/nbextensions/varInspector/demo.gif -> /root/.local/share/jupyter/nbextensions/varInspector/demo.gif\r\n",
      "\u001b[32m[I 18:40:21 InstallContribNbextensionsApp]\u001b[m Copying: /opt/conda/lib/python3.6/site-packages/jupyter_contrib_nbextensions/nbextensions/varInspector/jquery.tablesorter.min.js -> /root/.local/share/jupyter/nbextensions/varInspector/jquery.tablesorter.min.js\r\n",
      "\u001b[32m[I 18:40:21 InstallContribNbextensionsApp]\u001b[m Copying: /opt/conda/lib/python3.6/site-packages/jupyter_contrib_nbextensions/nbextensions/varInspector/icon.png -> /root/.local/share/jupyter/nbextensions/varInspector/icon.png\r\n",
      "\u001b[32m[I 18:40:21 InstallContribNbextensionsApp]\u001b[m Copying: /opt/conda/lib/python3.6/site-packages/jupyter_contrib_nbextensions/nbextensions/varInspector/varInspector.yaml -> /root/.local/share/jupyter/nbextensions/varInspector/varInspector.yaml\r\n",
      "\u001b[32m[I 18:40:21 InstallContribNbextensionsApp]\u001b[m Copying: /opt/conda/lib/python3.6/site-packages/jupyter_contrib_nbextensions/nbextensions/varInspector/var_list.r -> /root/.local/share/jupyter/nbextensions/varInspector/var_list.r\r\n",
      "\u001b[32m[I 18:40:21 InstallContribNbextensionsApp]\u001b[m Copying: /opt/conda/lib/python3.6/site-packages/jupyter_contrib_nbextensions/nbextensions/varInspector/main.js -> /root/.local/share/jupyter/nbextensions/varInspector/main.js\r\n",
      "\u001b[32m[I 18:40:21 InstallContribNbextensionsApp]\u001b[m Making directory: /root/.local/share/jupyter/nbextensions/varInspector/__pycache__\r\n",
      "\u001b[32m[I 18:40:21 InstallContribNbextensionsApp]\u001b[m Copying: /opt/conda/lib/python3.6/site-packages/jupyter_contrib_nbextensions/nbextensions/varInspector/__pycache__/var_list.cpython-36.pyc -> /root/.local/share/jupyter/nbextensions/varInspector/__pycache__/var_list.cpython-36.pyc\r\n",
      "\u001b[32m[I 18:40:21 InstallContribNbextensionsApp]\u001b[m - Validating: \u001b[32mOK\u001b[0m\r\n",
      "\u001b[32m[I 18:40:21 InstallContribNbextensionsApp]\u001b[m Installing /opt/conda/lib/python3.6/site-packages/jupyter_contrib_nbextensions/nbextensions/highlighter -> highlighter\r\n",
      "\u001b[32m[I 18:40:21 InstallContribNbextensionsApp]\u001b[m Making directory: /root/.local/share/jupyter/nbextensions/highlighter/\r\n",
      "\u001b[32m[I 18:40:21 InstallContribNbextensionsApp]\u001b[m Copying: /opt/conda/lib/python3.6/site-packages/jupyter_contrib_nbextensions/nbextensions/highlighter/readme.md -> /root/.local/share/jupyter/nbextensions/highlighter/readme.md\r\n",
      "\u001b[32m[I 18:40:21 InstallContribNbextensionsApp]\u001b[m Copying: /opt/conda/lib/python3.6/site-packages/jupyter_contrib_nbextensions/nbextensions/highlighter/export_highlights.tex -> /root/.local/share/jupyter/nbextensions/highlighter/export_highlights.tex\r\n",
      "\u001b[32m[I 18:40:21 InstallContribNbextensionsApp]\u001b[m Copying: /opt/conda/lib/python3.6/site-packages/jupyter_contrib_nbextensions/nbextensions/highlighter/highlighter.css -> /root/.local/share/jupyter/nbextensions/highlighter/highlighter.css\r\n",
      "\u001b[32m[I 18:40:21 InstallContribNbextensionsApp]\u001b[m Copying: /opt/conda/lib/python3.6/site-packages/jupyter_contrib_nbextensions/nbextensions/highlighter/image.gif -> /root/.local/share/jupyter/nbextensions/highlighter/image.gif\r\n",
      "\u001b[32m[I 18:40:21 InstallContribNbextensionsApp]\u001b[m Copying: /opt/conda/lib/python3.6/site-packages/jupyter_contrib_nbextensions/nbextensions/highlighter/export_highlights.html -> /root/.local/share/jupyter/nbextensions/highlighter/export_highlights.html\r\n",
      "\u001b[32m[I 18:40:21 InstallContribNbextensionsApp]\u001b[m Copying: /opt/conda/lib/python3.6/site-packages/jupyter_contrib_nbextensions/nbextensions/highlighter/tst_highlights.ipynb -> /root/.local/share/jupyter/nbextensions/highlighter/tst_highlights.ipynb\r\n",
      "\u001b[32m[I 18:40:21 InstallContribNbextensionsApp]\u001b[m Copying: /opt/conda/lib/python3.6/site-packages/jupyter_contrib_nbextensions/nbextensions/highlighter/tst_highlights.html -> /root/.local/share/jupyter/nbextensions/highlighter/tst_highlights.html\r\n",
      "\u001b[32m[I 18:40:21 InstallContribNbextensionsApp]\u001b[m Copying: /opt/conda/lib/python3.6/site-packages/jupyter_contrib_nbextensions/nbextensions/highlighter/demo_highlighter.ipynb -> /root/.local/share/jupyter/nbextensions/highlighter/demo_highlighter.ipynb\r\n",
      "\u001b[32m[I 18:40:21 InstallContribNbextensionsApp]\u001b[m Copying: /opt/conda/lib/python3.6/site-packages/jupyter_contrib_nbextensions/nbextensions/highlighter/highlighter.js -> /root/.local/share/jupyter/nbextensions/highlighter/highlighter.js\r\n",
      "\u001b[32m[I 18:40:21 InstallContribNbextensionsApp]\u001b[m Copying: /opt/conda/lib/python3.6/site-packages/jupyter_contrib_nbextensions/nbextensions/highlighter/icon.png -> /root/.local/share/jupyter/nbextensions/highlighter/icon.png\r\n",
      "\u001b[32m[I 18:40:21 InstallContribNbextensionsApp]\u001b[m Copying: /opt/conda/lib/python3.6/site-packages/jupyter_contrib_nbextensions/nbextensions/highlighter/tst_highlights.pdf -> /root/.local/share/jupyter/nbextensions/highlighter/tst_highlights.pdf\r\n",
      "\u001b[32m[I 18:40:21 InstallContribNbextensionsApp]\u001b[m Copying: /opt/conda/lib/python3.6/site-packages/jupyter_contrib_nbextensions/nbextensions/highlighter/export_highlights.pdf -> /root/.local/share/jupyter/nbextensions/highlighter/export_highlights.pdf\r\n",
      "\u001b[32m[I 18:40:21 InstallContribNbextensionsApp]\u001b[m Copying: /opt/conda/lib/python3.6/site-packages/jupyter_contrib_nbextensions/nbextensions/highlighter/tst_highlights.tex -> /root/.local/share/jupyter/nbextensions/highlighter/tst_highlights.tex\r\n",
      "\u001b[32m[I 18:40:21 InstallContribNbextensionsApp]\u001b[m Copying: /opt/conda/lib/python3.6/site-packages/jupyter_contrib_nbextensions/nbextensions/highlighter/export_highlights.ipynb -> /root/.local/share/jupyter/nbextensions/highlighter/export_highlights.ipynb\r\n",
      "\u001b[32m[I 18:40:21 InstallContribNbextensionsApp]\u001b[m Copying: /opt/conda/lib/python3.6/site-packages/jupyter_contrib_nbextensions/nbextensions/highlighter/demo_highlighter.html -> /root/.local/share/jupyter/nbextensions/highlighter/demo_highlighter.html\r\n",
      "\u001b[32m[I 18:40:21 InstallContribNbextensionsApp]\u001b[m Copying: /opt/conda/lib/python3.6/site-packages/jupyter_contrib_nbextensions/nbextensions/highlighter/highlighter.yaml -> /root/.local/share/jupyter/nbextensions/highlighter/highlighter.yaml\r\n",
      "\u001b[32m[I 18:40:21 InstallContribNbextensionsApp]\u001b[m - Validating: \u001b[32mOK\u001b[0m\r\n",
      "\u001b[32m[I 18:40:21 InstallContribNbextensionsApp]\u001b[m Installing /opt/conda/lib/python3.6/site-packages/jupyter_contrib_nbextensions/nbextensions/help_panel -> help_panel\r\n",
      "\u001b[32m[I 18:40:21 InstallContribNbextensionsApp]\u001b[m Making directory: /root/.local/share/jupyter/nbextensions/help_panel/\r\n",
      "\u001b[32m[I 18:40:21 InstallContribNbextensionsApp]\u001b[m Copying: /opt/conda/lib/python3.6/site-packages/jupyter_contrib_nbextensions/nbextensions/help_panel/help_panel.yaml -> /root/.local/share/jupyter/nbextensions/help_panel/help_panel.yaml\r\n",
      "\u001b[32m[I 18:40:21 InstallContribNbextensionsApp]\u001b[m Copying: /opt/conda/lib/python3.6/site-packages/jupyter_contrib_nbextensions/nbextensions/help_panel/readme.md -> /root/.local/share/jupyter/nbextensions/help_panel/readme.md\r\n",
      "\u001b[32m[I 18:40:21 InstallContribNbextensionsApp]\u001b[m Copying: /opt/conda/lib/python3.6/site-packages/jupyter_contrib_nbextensions/nbextensions/help_panel/help_panel_ext.png -> /root/.local/share/jupyter/nbextensions/help_panel/help_panel_ext.png\r\n",
      "\u001b[32m[I 18:40:21 InstallContribNbextensionsApp]\u001b[m Copying: /opt/conda/lib/python3.6/site-packages/jupyter_contrib_nbextensions/nbextensions/help_panel/help_panel_ext_fullscreen.png -> /root/.local/share/jupyter/nbextensions/help_panel/help_panel_ext_fullscreen.png\r\n",
      "\u001b[32m[I 18:40:21 InstallContribNbextensionsApp]\u001b[m Copying: /opt/conda/lib/python3.6/site-packages/jupyter_contrib_nbextensions/nbextensions/help_panel/icon.png -> /root/.local/share/jupyter/nbextensions/help_panel/icon.png\r\n",
      "\u001b[32m[I 18:40:21 InstallContribNbextensionsApp]\u001b[m Copying: /opt/conda/lib/python3.6/site-packages/jupyter_contrib_nbextensions/nbextensions/help_panel/help_panel.css -> /root/.local/share/jupyter/nbextensions/help_panel/help_panel.css\r\n",
      "\u001b[32m[I 18:40:21 InstallContribNbextensionsApp]\u001b[m Copying: /opt/conda/lib/python3.6/site-packages/jupyter_contrib_nbextensions/nbextensions/help_panel/help_panel.js -> /root/.local/share/jupyter/nbextensions/help_panel/help_panel.js\r\n",
      "\u001b[32m[I 18:40:21 InstallContribNbextensionsApp]\u001b[m Making directory: /root/.local/share/jupyter/nbextensions/help_panel/img\r\n",
      "\u001b[32m[I 18:40:21 InstallContribNbextensionsApp]\u001b[m Copying: /opt/conda/lib/python3.6/site-packages/jupyter_contrib_nbextensions/nbextensions/help_panel/img/handle-v.png -> /root/.local/share/jupyter/nbextensions/help_panel/img/handle-v.png\r\n",
      "\u001b[32m[I 18:40:21 InstallContribNbextensionsApp]\u001b[m - Validating: \u001b[32mOK\u001b[0m\r\n",
      "\u001b[32m[I 18:40:21 InstallContribNbextensionsApp]\u001b[m Installing /opt/conda/lib/python3.6/site-packages/jupyter_contrib_nbextensions/nbextensions/execution_dependencies -> execution_dependencies\r\n",
      "\u001b[32m[I 18:40:21 InstallContribNbextensionsApp]\u001b[m Making directory: /root/.local/share/jupyter/nbextensions/execution_dependencies/\r\n",
      "\u001b[32m[I 18:40:21 InstallContribNbextensionsApp]\u001b[m Copying: /opt/conda/lib/python3.6/site-packages/jupyter_contrib_nbextensions/nbextensions/execution_dependencies/README.md -> /root/.local/share/jupyter/nbextensions/execution_dependencies/README.md\r\n",
      "\u001b[32m[I 18:40:21 InstallContribNbextensionsApp]\u001b[m Copying: /opt/conda/lib/python3.6/site-packages/jupyter_contrib_nbextensions/nbextensions/execution_dependencies/execution_dependencies.js -> /root/.local/share/jupyter/nbextensions/execution_dependencies/execution_dependencies.js\r\n",
      "\u001b[32m[I 18:40:21 InstallContribNbextensionsApp]\u001b[m Copying: /opt/conda/lib/python3.6/site-packages/jupyter_contrib_nbextensions/nbextensions/execution_dependencies/execution_dependencies.yml -> /root/.local/share/jupyter/nbextensions/execution_dependencies/execution_dependencies.yml\r\n",
      "\u001b[32m[I 18:40:21 InstallContribNbextensionsApp]\u001b[m - Validating: \u001b[32mOK\u001b[0m\r\n",
      "\u001b[32m[I 18:40:21 InstallContribNbextensionsApp]\u001b[m Installing /opt/conda/lib/python3.6/site-packages/jupyter_contrib_nbextensions/nbextensions/rubberband -> rubberband\r\n",
      "\u001b[32m[I 18:40:21 InstallContribNbextensionsApp]\u001b[m Making directory: /root/.local/share/jupyter/nbextensions/rubberband/\r\n",
      "\u001b[32m[I 18:40:21 InstallContribNbextensionsApp]\u001b[m Copying: /opt/conda/lib/python3.6/site-packages/jupyter_contrib_nbextensions/nbextensions/rubberband/readme.md -> /root/.local/share/jupyter/nbextensions/rubberband/readme.md\r\n",
      "\u001b[32m[I 18:40:21 InstallContribNbextensionsApp]\u001b[m Copying: /opt/conda/lib/python3.6/site-packages/jupyter_contrib_nbextensions/nbextensions/rubberband/main.css -> /root/.local/share/jupyter/nbextensions/rubberband/main.css\r\n",
      "\u001b[32m[I 18:40:21 InstallContribNbextensionsApp]\u001b[m Copying: /opt/conda/lib/python3.6/site-packages/jupyter_contrib_nbextensions/nbextensions/rubberband/rubberband.yaml -> /root/.local/share/jupyter/nbextensions/rubberband/rubberband.yaml\r\n",
      "\u001b[32m[I 18:40:21 InstallContribNbextensionsApp]\u001b[m Copying: /opt/conda/lib/python3.6/site-packages/jupyter_contrib_nbextensions/nbextensions/rubberband/icon.png -> /root/.local/share/jupyter/nbextensions/rubberband/icon.png\r\n",
      "\u001b[32m[I 18:40:21 InstallContribNbextensionsApp]\u001b[m Copying: /opt/conda/lib/python3.6/site-packages/jupyter_contrib_nbextensions/nbextensions/rubberband/main.js -> /root/.local/share/jupyter/nbextensions/rubberband/main.js\r\n",
      "\u001b[32m[I 18:40:21 InstallContribNbextensionsApp]\u001b[m - Validating: \u001b[32mOK\u001b[0m\r\n",
      "\u001b[32m[I 18:40:21 InstallContribNbextensionsApp]\u001b[m Installing /opt/conda/lib/python3.6/site-packages/jupyter_contrib_nbextensions/nbextensions/livemdpreview -> livemdpreview\r\n",
      "\u001b[32m[I 18:40:21 InstallContribNbextensionsApp]\u001b[m Making directory: /root/.local/share/jupyter/nbextensions/livemdpreview/\r\n",
      "\u001b[32m[I 18:40:21 InstallContribNbextensionsApp]\u001b[m Copying: /opt/conda/lib/python3.6/site-packages/jupyter_contrib_nbextensions/nbextensions/livemdpreview/livemdpreview.js -> /root/.local/share/jupyter/nbextensions/livemdpreview/livemdpreview.js\r\n",
      "\u001b[32m[I 18:40:21 InstallContribNbextensionsApp]\u001b[m Copying: /opt/conda/lib/python3.6/site-packages/jupyter_contrib_nbextensions/nbextensions/livemdpreview/livemdpreview.yml -> /root/.local/share/jupyter/nbextensions/livemdpreview/livemdpreview.yml\r\n",
      "\u001b[32m[I 18:40:21 InstallContribNbextensionsApp]\u001b[m - Validating: \u001b[32mOK\u001b[0m\r\n",
      "\u001b[32m[I 18:40:21 InstallContribNbextensionsApp]\u001b[m Installing /opt/conda/lib/python3.6/site-packages/jupyter_contrib_nbextensions/nbextensions/gist_it -> gist_it\r\n",
      "\u001b[32m[I 18:40:21 InstallContribNbextensionsApp]\u001b[m Making directory: /root/.local/share/jupyter/nbextensions/gist_it/\r\n",
      "\u001b[32m[I 18:40:21 InstallContribNbextensionsApp]\u001b[m Copying: /opt/conda/lib/python3.6/site-packages/jupyter_contrib_nbextensions/nbextensions/gist_it/readme.md -> /root/.local/share/jupyter/nbextensions/gist_it/readme.md\r\n",
      "\u001b[32m[I 18:40:21 InstallContribNbextensionsApp]\u001b[m Copying: /opt/conda/lib/python3.6/site-packages/jupyter_contrib_nbextensions/nbextensions/gist_it/gist_it.yaml -> /root/.local/share/jupyter/nbextensions/gist_it/gist_it.yaml\r\n",
      "\u001b[32m[I 18:40:21 InstallContribNbextensionsApp]\u001b[m Copying: /opt/conda/lib/python3.6/site-packages/jupyter_contrib_nbextensions/nbextensions/gist_it/icon.png -> /root/.local/share/jupyter/nbextensions/gist_it/icon.png\r\n",
      "\u001b[32m[I 18:40:21 InstallContribNbextensionsApp]\u001b[m Copying: /opt/conda/lib/python3.6/site-packages/jupyter_contrib_nbextensions/nbextensions/gist_it/main.js -> /root/.local/share/jupyter/nbextensions/gist_it/main.js\r\n",
      "\u001b[32m[I 18:40:21 InstallContribNbextensionsApp]\u001b[m - Validating: \u001b[32mOK\u001b[0m\r\n",
      "\u001b[32m[I 18:40:21 InstallContribNbextensionsApp]\u001b[m Installing /opt/conda/lib/python3.6/site-packages/jupyter_contrib_nbextensions/nbextensions/exercise -> exercise\r\n",
      "\u001b[32m[I 18:40:21 InstallContribNbextensionsApp]\u001b[m Making directory: /root/.local/share/jupyter/nbextensions/exercise/\r\n",
      "\u001b[32m[I 18:40:21 InstallContribNbextensionsApp]\u001b[m Copying: /opt/conda/lib/python3.6/site-packages/jupyter_contrib_nbextensions/nbextensions/exercise/readme.md -> /root/.local/share/jupyter/nbextensions/exercise/readme.md\r\n",
      "\u001b[32m[I 18:40:21 InstallContribNbextensionsApp]\u001b[m Copying: /opt/conda/lib/python3.6/site-packages/jupyter_contrib_nbextensions/nbextensions/exercise/main.css -> /root/.local/share/jupyter/nbextensions/exercise/main.css\r\n",
      "\u001b[32m[I 18:40:21 InstallContribNbextensionsApp]\u001b[m Copying: /opt/conda/lib/python3.6/site-packages/jupyter_contrib_nbextensions/nbextensions/exercise/image.gif -> /root/.local/share/jupyter/nbextensions/exercise/image.gif\r\n"
     ]
    },
    {
     "name": "stdout",
     "output_type": "stream",
     "text": [
      "\u001b[32m[I 18:40:21 InstallContribNbextensionsApp]\u001b[m Copying: /opt/conda/lib/python3.6/site-packages/jupyter_contrib_nbextensions/nbextensions/exercise/icon.png -> /root/.local/share/jupyter/nbextensions/exercise/icon.png\r\n",
      "\u001b[32m[I 18:40:21 InstallContribNbextensionsApp]\u001b[m Copying: /opt/conda/lib/python3.6/site-packages/jupyter_contrib_nbextensions/nbextensions/exercise/exercise.yaml -> /root/.local/share/jupyter/nbextensions/exercise/exercise.yaml\r\n",
      "\u001b[32m[I 18:40:21 InstallContribNbextensionsApp]\u001b[m Copying: /opt/conda/lib/python3.6/site-packages/jupyter_contrib_nbextensions/nbextensions/exercise/history.md -> /root/.local/share/jupyter/nbextensions/exercise/history.md\r\n",
      "\u001b[32m[I 18:40:21 InstallContribNbextensionsApp]\u001b[m Copying: /opt/conda/lib/python3.6/site-packages/jupyter_contrib_nbextensions/nbextensions/exercise/main.js -> /root/.local/share/jupyter/nbextensions/exercise/main.js\r\n",
      "\u001b[32m[I 18:40:21 InstallContribNbextensionsApp]\u001b[m - Validating: \u001b[32mOK\u001b[0m\r\n",
      "\u001b[32m[I 18:40:21 InstallContribNbextensionsApp]\u001b[m Installing /opt/conda/lib/python3.6/site-packages/jupyter_contrib_nbextensions/nbextensions/load_tex_macros -> load_tex_macros\r\n",
      "\u001b[32m[I 18:40:21 InstallContribNbextensionsApp]\u001b[m Making directory: /root/.local/share/jupyter/nbextensions/load_tex_macros/\r\n",
      "\u001b[32m[I 18:40:21 InstallContribNbextensionsApp]\u001b[m Copying: /opt/conda/lib/python3.6/site-packages/jupyter_contrib_nbextensions/nbextensions/load_tex_macros/readme.md -> /root/.local/share/jupyter/nbextensions/load_tex_macros/readme.md\r\n",
      "\u001b[32m[I 18:40:21 InstallContribNbextensionsApp]\u001b[m Copying: /opt/conda/lib/python3.6/site-packages/jupyter_contrib_nbextensions/nbextensions/load_tex_macros/load_tex_macros.yaml -> /root/.local/share/jupyter/nbextensions/load_tex_macros/load_tex_macros.yaml\r\n",
      "\u001b[32m[I 18:40:21 InstallContribNbextensionsApp]\u001b[m Copying: /opt/conda/lib/python3.6/site-packages/jupyter_contrib_nbextensions/nbextensions/load_tex_macros/icon.png -> /root/.local/share/jupyter/nbextensions/load_tex_macros/icon.png\r\n",
      "\u001b[32m[I 18:40:21 InstallContribNbextensionsApp]\u001b[m Copying: /opt/conda/lib/python3.6/site-packages/jupyter_contrib_nbextensions/nbextensions/load_tex_macros/main.js -> /root/.local/share/jupyter/nbextensions/load_tex_macros/main.js\r\n",
      "\u001b[32m[I 18:40:21 InstallContribNbextensionsApp]\u001b[m - Validating: \u001b[32mOK\u001b[0m\r\n",
      "\u001b[32m[I 18:40:21 InstallContribNbextensionsApp]\u001b[m Installing /opt/conda/lib/python3.6/site-packages/jupyter_contrib_nbextensions/nbextensions/move_selected_cells -> move_selected_cells\r\n",
      "\u001b[32m[I 18:40:21 InstallContribNbextensionsApp]\u001b[m Making directory: /root/.local/share/jupyter/nbextensions/move_selected_cells/\r\n",
      "\u001b[32m[I 18:40:21 InstallContribNbextensionsApp]\u001b[m Copying: /opt/conda/lib/python3.6/site-packages/jupyter_contrib_nbextensions/nbextensions/move_selected_cells/README.md -> /root/.local/share/jupyter/nbextensions/move_selected_cells/README.md\r\n",
      "\u001b[32m[I 18:40:21 InstallContribNbextensionsApp]\u001b[m Copying: /opt/conda/lib/python3.6/site-packages/jupyter_contrib_nbextensions/nbextensions/move_selected_cells/move_selected_cells.yaml -> /root/.local/share/jupyter/nbextensions/move_selected_cells/move_selected_cells.yaml\r\n",
      "\u001b[32m[I 18:40:21 InstallContribNbextensionsApp]\u001b[m Copying: /opt/conda/lib/python3.6/site-packages/jupyter_contrib_nbextensions/nbextensions/move_selected_cells/main.js -> /root/.local/share/jupyter/nbextensions/move_selected_cells/main.js\r\n",
      "\u001b[32m[I 18:40:21 InstallContribNbextensionsApp]\u001b[m - Validating: \u001b[32mOK\u001b[0m\r\n",
      "\u001b[32m[I 18:40:21 InstallContribNbextensionsApp]\u001b[m Installing /opt/conda/lib/python3.6/site-packages/jupyter_contrib_nbextensions/nbextensions/codefolding -> codefolding\r\n",
      "\u001b[32m[I 18:40:21 InstallContribNbextensionsApp]\u001b[m Making directory: /root/.local/share/jupyter/nbextensions/codefolding/\r\n",
      "\u001b[32m[I 18:40:21 InstallContribNbextensionsApp]\u001b[m Copying: /opt/conda/lib/python3.6/site-packages/jupyter_contrib_nbextensions/nbextensions/codefolding/codefolding.yaml -> /root/.local/share/jupyter/nbextensions/codefolding/codefolding.yaml\r\n",
      "\u001b[32m[I 18:40:21 InstallContribNbextensionsApp]\u001b[m Copying: /opt/conda/lib/python3.6/site-packages/jupyter_contrib_nbextensions/nbextensions/codefolding/readme.md -> /root/.local/share/jupyter/nbextensions/codefolding/readme.md\r\n",
      "\u001b[32m[I 18:40:21 InstallContribNbextensionsApp]\u001b[m Copying: /opt/conda/lib/python3.6/site-packages/jupyter_contrib_nbextensions/nbextensions/codefolding/codefolding_indent_folded_2.png -> /root/.local/share/jupyter/nbextensions/codefolding/codefolding_indent_folded_2.png\r\n",
      "\u001b[32m[I 18:40:21 InstallContribNbextensionsApp]\u001b[m Copying: /opt/conda/lib/python3.6/site-packages/jupyter_contrib_nbextensions/nbextensions/codefolding/codefolding_indent_unfolded.png -> /root/.local/share/jupyter/nbextensions/codefolding/codefolding_indent_unfolded.png\r\n",
      "\u001b[32m[I 18:40:21 InstallContribNbextensionsApp]\u001b[m Copying: /opt/conda/lib/python3.6/site-packages/jupyter_contrib_nbextensions/nbextensions/codefolding/magic-folded.png -> /root/.local/share/jupyter/nbextensions/codefolding/magic-folded.png\r\n",
      "\u001b[32m[I 18:40:21 InstallContribNbextensionsApp]\u001b[m Copying: /opt/conda/lib/python3.6/site-packages/jupyter_contrib_nbextensions/nbextensions/codefolding/codefolding_firstline_unfolded.png -> /root/.local/share/jupyter/nbextensions/codefolding/codefolding_firstline_unfolded.png\r\n",
      "\u001b[32m[I 18:40:21 InstallContribNbextensionsApp]\u001b[m Copying: /opt/conda/lib/python3.6/site-packages/jupyter_contrib_nbextensions/nbextensions/codefolding/codefolding_indent_folded_1.png -> /root/.local/share/jupyter/nbextensions/codefolding/codefolding_indent_folded_1.png\r\n",
      "\u001b[32m[I 18:40:21 InstallContribNbextensionsApp]\u001b[m Copying: /opt/conda/lib/python3.6/site-packages/jupyter_contrib_nbextensions/nbextensions/codefolding/edit.js -> /root/.local/share/jupyter/nbextensions/codefolding/edit.js\r\n",
      "\u001b[32m[I 18:40:21 InstallContribNbextensionsApp]\u001b[m Copying: /opt/conda/lib/python3.6/site-packages/jupyter_contrib_nbextensions/nbextensions/codefolding/icon.png -> /root/.local/share/jupyter/nbextensions/codefolding/icon.png\r\n",
      "\u001b[32m[I 18:40:21 InstallContribNbextensionsApp]\u001b[m Copying: /opt/conda/lib/python3.6/site-packages/jupyter_contrib_nbextensions/nbextensions/codefolding/magic-unfolded.png -> /root/.local/share/jupyter/nbextensions/codefolding/magic-unfolded.png\r\n",
      "\u001b[32m[I 18:40:21 InstallContribNbextensionsApp]\u001b[m Copying: /opt/conda/lib/python3.6/site-packages/jupyter_contrib_nbextensions/nbextensions/codefolding/codefolding_editor.yaml -> /root/.local/share/jupyter/nbextensions/codefolding/codefolding_editor.yaml\r\n",
      "\u001b[32m[I 18:40:21 InstallContribNbextensionsApp]\u001b[m Copying: /opt/conda/lib/python3.6/site-packages/jupyter_contrib_nbextensions/nbextensions/codefolding/codefolding_editor.png -> /root/.local/share/jupyter/nbextensions/codefolding/codefolding_editor.png\r\n",
      "\u001b[32m[I 18:40:21 InstallContribNbextensionsApp]\u001b[m Copying: /opt/conda/lib/python3.6/site-packages/jupyter_contrib_nbextensions/nbextensions/codefolding/foldgutter.css -> /root/.local/share/jupyter/nbextensions/codefolding/foldgutter.css\r\n",
      "\u001b[32m[I 18:40:21 InstallContribNbextensionsApp]\u001b[m Copying: /opt/conda/lib/python3.6/site-packages/jupyter_contrib_nbextensions/nbextensions/codefolding/firstline-fold.js -> /root/.local/share/jupyter/nbextensions/codefolding/firstline-fold.js\r\n",
      "\u001b[32m[I 18:40:21 InstallContribNbextensionsApp]\u001b[m Copying: /opt/conda/lib/python3.6/site-packages/jupyter_contrib_nbextensions/nbextensions/codefolding/codefolding_firstline_folded.png -> /root/.local/share/jupyter/nbextensions/codefolding/codefolding_firstline_folded.png\r\n",
      "\u001b[32m[I 18:40:21 InstallContribNbextensionsApp]\u001b[m Copying: /opt/conda/lib/python3.6/site-packages/jupyter_contrib_nbextensions/nbextensions/codefolding/magic-fold.js -> /root/.local/share/jupyter/nbextensions/codefolding/magic-fold.js\r\n",
      "\u001b[32m[I 18:40:21 InstallContribNbextensionsApp]\u001b[m Copying: /opt/conda/lib/python3.6/site-packages/jupyter_contrib_nbextensions/nbextensions/codefolding/main.js -> /root/.local/share/jupyter/nbextensions/codefolding/main.js\r\n",
      "\u001b[32m[I 18:40:21 InstallContribNbextensionsApp]\u001b[m - Validating: \u001b[32mOK\u001b[0m\r\n",
      "\u001b[32m[I 18:40:21 InstallContribNbextensionsApp]\u001b[m Installing /opt/conda/lib/python3.6/site-packages/jupyter_contrib_nbextensions/nbextensions/codefolding -> codefolding\r\n",
      "\u001b[32m[I 18:40:21 InstallContribNbextensionsApp]\u001b[m Up to date: /root/.local/share/jupyter/nbextensions/codefolding/codefolding.yaml\r\n",
      "\u001b[32m[I 18:40:21 InstallContribNbextensionsApp]\u001b[m Up to date: /root/.local/share/jupyter/nbextensions/codefolding/readme.md\r\n",
      "\u001b[32m[I 18:40:21 InstallContribNbextensionsApp]\u001b[m Up to date: /root/.local/share/jupyter/nbextensions/codefolding/codefolding_indent_folded_2.png\r\n",
      "\u001b[32m[I 18:40:21 InstallContribNbextensionsApp]\u001b[m Up to date: /root/.local/share/jupyter/nbextensions/codefolding/codefolding_indent_unfolded.png\r\n",
      "\u001b[32m[I 18:40:21 InstallContribNbextensionsApp]\u001b[m Up to date: /root/.local/share/jupyter/nbextensions/codefolding/magic-folded.png\r\n",
      "\u001b[32m[I 18:40:21 InstallContribNbextensionsApp]\u001b[m Up to date: /root/.local/share/jupyter/nbextensions/codefolding/codefolding_firstline_unfolded.png\r\n",
      "\u001b[32m[I 18:40:21 InstallContribNbextensionsApp]\u001b[m Up to date: /root/.local/share/jupyter/nbextensions/codefolding/codefolding_indent_folded_1.png\r\n",
      "\u001b[32m[I 18:40:21 InstallContribNbextensionsApp]\u001b[m Up to date: /root/.local/share/jupyter/nbextensions/codefolding/edit.js\r\n",
      "\u001b[32m[I 18:40:21 InstallContribNbextensionsApp]\u001b[m Up to date: /root/.local/share/jupyter/nbextensions/codefolding/icon.png\r\n",
      "\u001b[32m[I 18:40:21 InstallContribNbextensionsApp]\u001b[m Up to date: /root/.local/share/jupyter/nbextensions/codefolding/magic-unfolded.png\r\n",
      "\u001b[32m[I 18:40:21 InstallContribNbextensionsApp]\u001b[m Up to date: /root/.local/share/jupyter/nbextensions/codefolding/codefolding_editor.yaml\r\n",
      "\u001b[32m[I 18:40:21 InstallContribNbextensionsApp]\u001b[m Up to date: /root/.local/share/jupyter/nbextensions/codefolding/codefolding_editor.png\r\n",
      "\u001b[32m[I 18:40:21 InstallContribNbextensionsApp]\u001b[m Up to date: /root/.local/share/jupyter/nbextensions/codefolding/foldgutter.css\r\n",
      "\u001b[32m[I 18:40:21 InstallContribNbextensionsApp]\u001b[m Up to date: /root/.local/share/jupyter/nbextensions/codefolding/firstline-fold.js\r\n",
      "\u001b[32m[I 18:40:21 InstallContribNbextensionsApp]\u001b[m Up to date: /root/.local/share/jupyter/nbextensions/codefolding/codefolding_firstline_folded.png\r\n",
      "\u001b[32m[I 18:40:21 InstallContribNbextensionsApp]\u001b[m Up to date: /root/.local/share/jupyter/nbextensions/codefolding/magic-fold.js\r\n",
      "\u001b[32m[I 18:40:21 InstallContribNbextensionsApp]\u001b[m Up to date: /root/.local/share/jupyter/nbextensions/codefolding/main.js\r\n",
      "\u001b[32m[I 18:40:21 InstallContribNbextensionsApp]\u001b[m - Validating: \u001b[32mOK\u001b[0m\r\n",
      "\u001b[32m[I 18:40:21 InstallContribNbextensionsApp]\u001b[m Installing /opt/conda/lib/python3.6/site-packages/jupyter_contrib_nbextensions/nbextensions/spellchecker -> spellchecker\r\n",
      "\u001b[32m[I 18:40:21 InstallContribNbextensionsApp]\u001b[m Making directory: /root/.local/share/jupyter/nbextensions/spellchecker/\r\n",
      "\u001b[32m[I 18:40:21 InstallContribNbextensionsApp]\u001b[m Copying: /opt/conda/lib/python3.6/site-packages/jupyter_contrib_nbextensions/nbextensions/spellchecker/download_new_dict.py -> /root/.local/share/jupyter/nbextensions/spellchecker/download_new_dict.py\r\n",
      "\u001b[32m[I 18:40:21 InstallContribNbextensionsApp]\u001b[m Copying: /opt/conda/lib/python3.6/site-packages/jupyter_contrib_nbextensions/nbextensions/spellchecker/main.css -> /root/.local/share/jupyter/nbextensions/spellchecker/main.css\r\n",
      "\u001b[32m[I 18:40:21 InstallContribNbextensionsApp]\u001b[m Copying: /opt/conda/lib/python3.6/site-packages/jupyter_contrib_nbextensions/nbextensions/spellchecker/README.md -> /root/.local/share/jupyter/nbextensions/spellchecker/README.md\r\n",
      "\u001b[32m[I 18:40:21 InstallContribNbextensionsApp]\u001b[m Copying: /opt/conda/lib/python3.6/site-packages/jupyter_contrib_nbextensions/nbextensions/spellchecker/screenshot.png -> /root/.local/share/jupyter/nbextensions/spellchecker/screenshot.png\r\n",
      "\u001b[32m[I 18:40:21 InstallContribNbextensionsApp]\u001b[m Copying: /opt/conda/lib/python3.6/site-packages/jupyter_contrib_nbextensions/nbextensions/spellchecker/main.js -> /root/.local/share/jupyter/nbextensions/spellchecker/main.js\r\n",
      "\u001b[32m[I 18:40:21 InstallContribNbextensionsApp]\u001b[m Copying: /opt/conda/lib/python3.6/site-packages/jupyter_contrib_nbextensions/nbextensions/spellchecker/config.yaml -> /root/.local/share/jupyter/nbextensions/spellchecker/config.yaml\r\n",
      "\u001b[32m[I 18:40:21 InstallContribNbextensionsApp]\u001b[m Making directory: /root/.local/share/jupyter/nbextensions/spellchecker/__pycache__\r\n",
      "\u001b[32m[I 18:40:21 InstallContribNbextensionsApp]\u001b[m Copying: /opt/conda/lib/python3.6/site-packages/jupyter_contrib_nbextensions/nbextensions/spellchecker/__pycache__/download_new_dict.cpython-36.pyc -> /root/.local/share/jupyter/nbextensions/spellchecker/__pycache__/download_new_dict.cpython-36.pyc\r\n",
      "\u001b[32m[I 18:40:21 InstallContribNbextensionsApp]\u001b[m Making directory: /root/.local/share/jupyter/nbextensions/spellchecker/typo\r\n",
      "\u001b[32m[I 18:40:21 InstallContribNbextensionsApp]\u001b[m Copying: /opt/conda/lib/python3.6/site-packages/jupyter_contrib_nbextensions/nbextensions/spellchecker/typo/typo.js -> /root/.local/share/jupyter/nbextensions/spellchecker/typo/typo.js\r\n",
      "\u001b[32m[I 18:40:21 InstallContribNbextensionsApp]\u001b[m Copying: /opt/conda/lib/python3.6/site-packages/jupyter_contrib_nbextensions/nbextensions/spellchecker/typo/LICENSE.txt -> /root/.local/share/jupyter/nbextensions/spellchecker/typo/LICENSE.txt\r\n",
      "\u001b[32m[I 18:40:21 InstallContribNbextensionsApp]\u001b[m - Validating: \u001b[32mOK\u001b[0m\r\n",
      "\u001b[32m[I 18:40:21 InstallContribNbextensionsApp]\u001b[m Installing /opt/conda/lib/python3.6/site-packages/jupyter_contrib_nbextensions/nbextensions/keyboard_shortcut_editor -> keyboard_shortcut_editor\r\n",
      "\u001b[32m[I 18:40:21 InstallContribNbextensionsApp]\u001b[m Making directory: /root/.local/share/jupyter/nbextensions/keyboard_shortcut_editor/\r\n",
      "\u001b[32m[I 18:40:21 InstallContribNbextensionsApp]\u001b[m Copying: /opt/conda/lib/python3.6/site-packages/jupyter_contrib_nbextensions/nbextensions/keyboard_shortcut_editor/readme_add_new_select_action.png -> /root/.local/share/jupyter/nbextensions/keyboard_shortcut_editor/readme_add_new_select_action.png\r\n",
      "\u001b[32m[I 18:40:21 InstallContribNbextensionsApp]\u001b[m Copying: /opt/conda/lib/python3.6/site-packages/jupyter_contrib_nbextensions/nbextensions/keyboard_shortcut_editor/main.css -> /root/.local/share/jupyter/nbextensions/keyboard_shortcut_editor/main.css\r\n",
      "\u001b[32m[I 18:40:21 InstallContribNbextensionsApp]\u001b[m Copying: /opt/conda/lib/python3.6/site-packages/jupyter_contrib_nbextensions/nbextensions/keyboard_shortcut_editor/README.md -> /root/.local/share/jupyter/nbextensions/keyboard_shortcut_editor/README.md\r\n",
      "\u001b[32m[I 18:40:21 InstallContribNbextensionsApp]\u001b[m Copying: /opt/conda/lib/python3.6/site-packages/jupyter_contrib_nbextensions/nbextensions/keyboard_shortcut_editor/kse_components.js -> /root/.local/share/jupyter/nbextensions/keyboard_shortcut_editor/kse_components.js\r\n",
      "\u001b[32m[I 18:40:21 InstallContribNbextensionsApp]\u001b[m Copying: /opt/conda/lib/python3.6/site-packages/jupyter_contrib_nbextensions/nbextensions/keyboard_shortcut_editor/readme_comma.png -> /root/.local/share/jupyter/nbextensions/keyboard_shortcut_editor/readme_comma.png\r\n",
      "\u001b[32m[I 18:40:21 InstallContribNbextensionsApp]\u001b[m Copying: /opt/conda/lib/python3.6/site-packages/jupyter_contrib_nbextensions/nbextensions/keyboard_shortcut_editor/readme_reset_disabled.png -> /root/.local/share/jupyter/nbextensions/keyboard_shortcut_editor/readme_reset_disabled.png\r\n",
      "\u001b[32m[I 18:40:21 InstallContribNbextensionsApp]\u001b[m Copying: /opt/conda/lib/python3.6/site-packages/jupyter_contrib_nbextensions/nbextensions/keyboard_shortcut_editor/readme_menu_item.png -> /root/.local/share/jupyter/nbextensions/keyboard_shortcut_editor/readme_menu_item.png\r\n",
      "\u001b[32m[I 18:40:21 InstallContribNbextensionsApp]\u001b[m Copying: /opt/conda/lib/python3.6/site-packages/jupyter_contrib_nbextensions/nbextensions/keyboard_shortcut_editor/icon.png -> /root/.local/share/jupyter/nbextensions/keyboard_shortcut_editor/icon.png\r\n",
      "\u001b[32m[I 18:40:21 InstallContribNbextensionsApp]\u001b[m Copying: /opt/conda/lib/python3.6/site-packages/jupyter_contrib_nbextensions/nbextensions/keyboard_shortcut_editor/readme_dropdown.png -> /root/.local/share/jupyter/nbextensions/keyboard_shortcut_editor/readme_dropdown.png\r\n",
      "\u001b[32m[I 18:40:21 InstallContribNbextensionsApp]\u001b[m Copying: /opt/conda/lib/python3.6/site-packages/jupyter_contrib_nbextensions/nbextensions/keyboard_shortcut_editor/readme_conflict.png -> /root/.local/share/jupyter/nbextensions/keyboard_shortcut_editor/readme_conflict.png\r\n",
      "\u001b[32m[I 18:40:21 InstallContribNbextensionsApp]\u001b[m Copying: /opt/conda/lib/python3.6/site-packages/jupyter_contrib_nbextensions/nbextensions/keyboard_shortcut_editor/readme_shortcut_editor_blank.png -> /root/.local/share/jupyter/nbextensions/keyboard_shortcut_editor/readme_shortcut_editor_blank.png\r\n",
      "\u001b[32m[I 18:40:21 InstallContribNbextensionsApp]\u001b[m Copying: /opt/conda/lib/python3.6/site-packages/jupyter_contrib_nbextensions/nbextensions/keyboard_shortcut_editor/readme_shortcut_editor_success.png -> /root/.local/share/jupyter/nbextensions/keyboard_shortcut_editor/readme_shortcut_editor_success.png\r\n",
      "\u001b[32m[I 18:40:21 InstallContribNbextensionsApp]\u001b[m Copying: /opt/conda/lib/python3.6/site-packages/jupyter_contrib_nbextensions/nbextensions/keyboard_shortcut_editor/readme_undefined_key.png -> /root/.local/share/jupyter/nbextensions/keyboard_shortcut_editor/readme_undefined_key.png\r\n",
      "\u001b[32m[I 18:40:21 InstallContribNbextensionsApp]\u001b[m Copying: /opt/conda/lib/python3.6/site-packages/jupyter_contrib_nbextensions/nbextensions/keyboard_shortcut_editor/keyboard_shortcut_editor.yaml -> /root/.local/share/jupyter/nbextensions/keyboard_shortcut_editor/keyboard_shortcut_editor.yaml\r\n",
      "\u001b[32m[I 18:40:21 InstallContribNbextensionsApp]\u001b[m Copying: /opt/conda/lib/python3.6/site-packages/jupyter_contrib_nbextensions/nbextensions/keyboard_shortcut_editor/quickhelp_shim.js -> /root/.local/share/jupyter/nbextensions/keyboard_shortcut_editor/quickhelp_shim.js\r\n",
      "\u001b[32m[I 18:40:21 InstallContribNbextensionsApp]\u001b[m Copying: /opt/conda/lib/python3.6/site-packages/jupyter_contrib_nbextensions/nbextensions/keyboard_shortcut_editor/readme_add_new_link.png -> /root/.local/share/jupyter/nbextensions/keyboard_shortcut_editor/readme_add_new_link.png\r\n",
      "\u001b[32m[I 18:40:21 InstallContribNbextensionsApp]\u001b[m Copying: /opt/conda/lib/python3.6/site-packages/jupyter_contrib_nbextensions/nbextensions/keyboard_shortcut_editor/main.js -> /root/.local/share/jupyter/nbextensions/keyboard_shortcut_editor/main.js\r\n",
      "\u001b[32m[I 18:40:21 InstallContribNbextensionsApp]\u001b[m - Validating: \u001b[32mOK\u001b[0m\r\n",
      "\u001b[32m[I 18:40:21 InstallContribNbextensionsApp]\u001b[m Installing /opt/conda/lib/python3.6/site-packages/jupyter_contrib_nbextensions/nbextensions/hide_input_all -> hide_input_all\r\n",
      "\u001b[32m[I 18:40:21 InstallContribNbextensionsApp]\u001b[m Making directory: /root/.local/share/jupyter/nbextensions/hide_input_all/\r\n",
      "\u001b[32m[I 18:40:21 InstallContribNbextensionsApp]\u001b[m Copying: /opt/conda/lib/python3.6/site-packages/jupyter_contrib_nbextensions/nbextensions/hide_input_all/readme.md -> /root/.local/share/jupyter/nbextensions/hide_input_all/readme.md\r\n",
      "\u001b[32m[I 18:40:21 InstallContribNbextensionsApp]\u001b[m Copying: /opt/conda/lib/python3.6/site-packages/jupyter_contrib_nbextensions/nbextensions/hide_input_all/icon.png -> /root/.local/share/jupyter/nbextensions/hide_input_all/icon.png\r\n",
      "\u001b[32m[I 18:40:21 InstallContribNbextensionsApp]\u001b[m Copying: /opt/conda/lib/python3.6/site-packages/jupyter_contrib_nbextensions/nbextensions/hide_input_all/hide_input_all.yaml -> /root/.local/share/jupyter/nbextensions/hide_input_all/hide_input_all.yaml\r\n",
      "\u001b[32m[I 18:40:21 InstallContribNbextensionsApp]\u001b[m Copying: /opt/conda/lib/python3.6/site-packages/jupyter_contrib_nbextensions/nbextensions/hide_input_all/hide_input_all_hide.png -> /root/.local/share/jupyter/nbextensions/hide_input_all/hide_input_all_hide.png\r\n",
      "\u001b[32m[I 18:40:21 InstallContribNbextensionsApp]\u001b[m Copying: /opt/conda/lib/python3.6/site-packages/jupyter_contrib_nbextensions/nbextensions/hide_input_all/hide_input_all_show.png -> /root/.local/share/jupyter/nbextensions/hide_input_all/hide_input_all_show.png\r\n",
      "\u001b[32m[I 18:40:21 InstallContribNbextensionsApp]\u001b[m Copying: /opt/conda/lib/python3.6/site-packages/jupyter_contrib_nbextensions/nbextensions/hide_input_all/main.js -> /root/.local/share/jupyter/nbextensions/hide_input_all/main.js\r\n",
      "\u001b[32m[I 18:40:21 InstallContribNbextensionsApp]\u001b[m - Validating: \u001b[32mOK\u001b[0m\r\n",
      "\u001b[32m[I 18:40:21 InstallContribNbextensionsApp]\u001b[m Installing /opt/conda/lib/python3.6/site-packages/jupyter_contrib_nbextensions/nbextensions/table_beautifier -> table_beautifier\r\n",
      "\u001b[32m[I 18:40:21 InstallContribNbextensionsApp]\u001b[m Making directory: /root/.local/share/jupyter/nbextensions/table_beautifier/\r\n",
      "\u001b[32m[I 18:40:21 InstallContribNbextensionsApp]\u001b[m Copying: /opt/conda/lib/python3.6/site-packages/jupyter_contrib_nbextensions/nbextensions/table_beautifier/table_beautifier.yaml -> /root/.local/share/jupyter/nbextensions/table_beautifier/table_beautifier.yaml\r\n",
      "\u001b[32m[I 18:40:21 InstallContribNbextensionsApp]\u001b[m Copying: /opt/conda/lib/python3.6/site-packages/jupyter_contrib_nbextensions/nbextensions/table_beautifier/main.css -> /root/.local/share/jupyter/nbextensions/table_beautifier/main.css\r\n",
      "\u001b[32m[I 18:40:21 InstallContribNbextensionsApp]\u001b[m Copying: /opt/conda/lib/python3.6/site-packages/jupyter_contrib_nbextensions/nbextensions/table_beautifier/README.md -> /root/.local/share/jupyter/nbextensions/table_beautifier/README.md\r\n",
      "\u001b[32m[I 18:40:21 InstallContribNbextensionsApp]\u001b[m Copying: /opt/conda/lib/python3.6/site-packages/jupyter_contrib_nbextensions/nbextensions/table_beautifier/main.js -> /root/.local/share/jupyter/nbextensions/table_beautifier/main.js\r\n",
      "\u001b[32m[I 18:40:21 InstallContribNbextensionsApp]\u001b[m - Validating: \u001b[32mOK\u001b[0m\r\n",
      "\u001b[32m[I 18:40:21 InstallContribNbextensionsApp]\u001b[m Installing /opt/conda/lib/python3.6/site-packages/jupyter_contrib_nbextensions/nbextensions/execute_time -> execute_time\r\n",
      "\u001b[32m[I 18:40:21 InstallContribNbextensionsApp]\u001b[m Making directory: /root/.local/share/jupyter/nbextensions/execute_time/\r\n",
      "\u001b[32m[I 18:40:21 InstallContribNbextensionsApp]\u001b[m Copying: /opt/conda/lib/python3.6/site-packages/jupyter_contrib_nbextensions/nbextensions/execute_time/readme.md -> /root/.local/share/jupyter/nbextensions/execute_time/readme.md\r\n",
      "\u001b[32m[I 18:40:21 InstallContribNbextensionsApp]\u001b[m Copying: /opt/conda/lib/python3.6/site-packages/jupyter_contrib_nbextensions/nbextensions/execute_time/execution-timings-menu.png -> /root/.local/share/jupyter/nbextensions/execute_time/execution-timings-menu.png\r\n",
      "\u001b[32m[I 18:40:21 InstallContribNbextensionsApp]\u001b[m Copying: /opt/conda/lib/python3.6/site-packages/jupyter_contrib_nbextensions/nbextensions/execute_time/ExecuteTime.yaml -> /root/.local/share/jupyter/nbextensions/execute_time/ExecuteTime.yaml\r\n",
      "\u001b[32m[I 18:40:21 InstallContribNbextensionsApp]\u001b[m Copying: /opt/conda/lib/python3.6/site-packages/jupyter_contrib_nbextensions/nbextensions/execute_time/icon.png -> /root/.local/share/jupyter/nbextensions/execute_time/icon.png\r\n",
      "\u001b[32m[I 18:40:21 InstallContribNbextensionsApp]\u001b[m Copying: /opt/conda/lib/python3.6/site-packages/jupyter_contrib_nbextensions/nbextensions/execute_time/ExecuteTime.css -> /root/.local/share/jupyter/nbextensions/execute_time/ExecuteTime.css\r\n",
      "\u001b[32m[I 18:40:21 InstallContribNbextensionsApp]\u001b[m Copying: /opt/conda/lib/python3.6/site-packages/jupyter_contrib_nbextensions/nbextensions/execute_time/execution-timings-box.png -> /root/.local/share/jupyter/nbextensions/execute_time/execution-timings-box.png\r\n",
      "\u001b[32m[I 18:40:21 InstallContribNbextensionsApp]\u001b[m Copying: /opt/conda/lib/python3.6/site-packages/jupyter_contrib_nbextensions/nbextensions/execute_time/ExecuteTime.js -> /root/.local/share/jupyter/nbextensions/execute_time/ExecuteTime.js\r\n",
      "\u001b[32m[I 18:40:21 InstallContribNbextensionsApp]\u001b[m - Validating: \u001b[32mOK\u001b[0m\r\n",
      "\u001b[32m[I 18:40:21 InstallContribNbextensionsApp]\u001b[m Installing /opt/conda/lib/python3.6/site-packages/jupyter_contrib_nbextensions/nbextensions/qtconsole -> qtconsole\r\n",
      "\u001b[32m[I 18:40:21 InstallContribNbextensionsApp]\u001b[m Making directory: /root/.local/share/jupyter/nbextensions/qtconsole/\r\n",
      "\u001b[32m[I 18:40:21 InstallContribNbextensionsApp]\u001b[m Copying: /opt/conda/lib/python3.6/site-packages/jupyter_contrib_nbextensions/nbextensions/qtconsole/README.md -> /root/.local/share/jupyter/nbextensions/qtconsole/README.md\r\n",
      "\u001b[32m[I 18:40:21 InstallContribNbextensionsApp]\u001b[m Copying: /opt/conda/lib/python3.6/site-packages/jupyter_contrib_nbextensions/nbextensions/qtconsole/qtconsole.yaml -> /root/.local/share/jupyter/nbextensions/qtconsole/qtconsole.yaml\r\n",
      "\u001b[32m[I 18:40:21 InstallContribNbextensionsApp]\u001b[m Copying: /opt/conda/lib/python3.6/site-packages/jupyter_contrib_nbextensions/nbextensions/qtconsole/qtconsole.js -> /root/.local/share/jupyter/nbextensions/qtconsole/qtconsole.js\r\n",
      "\u001b[32m[I 18:40:21 InstallContribNbextensionsApp]\u001b[m - Validating: \u001b[32mOK\u001b[0m\r\n",
      "\u001b[32m[I 18:40:21 InstallContribNbextensionsApp]\u001b[m Installing /opt/conda/lib/python3.6/site-packages/jupyter_contrib_nbextensions/nbextensions/toc2 -> toc2\r\n",
      "\u001b[32m[I 18:40:21 InstallContribNbextensionsApp]\u001b[m Making directory: /root/.local/share/jupyter/nbextensions/toc2/\r\n",
      "\u001b[32m[I 18:40:21 InstallContribNbextensionsApp]\u001b[m Copying: /opt/conda/lib/python3.6/site-packages/jupyter_contrib_nbextensions/nbextensions/toc2/image.png -> /root/.local/share/jupyter/nbextensions/toc2/image.png\r\n",
      "\u001b[32m[I 18:40:21 InstallContribNbextensionsApp]\u001b[m Copying: /opt/conda/lib/python3.6/site-packages/jupyter_contrib_nbextensions/nbextensions/toc2/main.css -> /root/.local/share/jupyter/nbextensions/toc2/main.css\r\n",
      "\u001b[32m[I 18:40:21 InstallContribNbextensionsApp]\u001b[m Copying: /opt/conda/lib/python3.6/site-packages/jupyter_contrib_nbextensions/nbextensions/toc2/README.md -> /root/.local/share/jupyter/nbextensions/toc2/README.md\r\n",
      "\u001b[32m[I 18:40:21 InstallContribNbextensionsApp]\u001b[m Copying: /opt/conda/lib/python3.6/site-packages/jupyter_contrib_nbextensions/nbextensions/toc2/demo.gif -> /root/.local/share/jupyter/nbextensions/toc2/demo.gif\r\n",
      "\u001b[32m[I 18:40:21 InstallContribNbextensionsApp]\u001b[m Copying: /opt/conda/lib/python3.6/site-packages/jupyter_contrib_nbextensions/nbextensions/toc2/demo2.gif -> /root/.local/share/jupyter/nbextensions/toc2/demo2.gif\r\n",
      "\u001b[32m[I 18:40:21 InstallContribNbextensionsApp]\u001b[m Copying: /opt/conda/lib/python3.6/site-packages/jupyter_contrib_nbextensions/nbextensions/toc2/toc2.js -> /root/.local/share/jupyter/nbextensions/toc2/toc2.js\r\n",
      "\u001b[32m[I 18:40:21 InstallContribNbextensionsApp]\u001b[m Copying: /opt/conda/lib/python3.6/site-packages/jupyter_contrib_nbextensions/nbextensions/toc2/demo3.gif -> /root/.local/share/jupyter/nbextensions/toc2/demo3.gif\r\n",
      "\u001b[32m[I 18:40:21 InstallContribNbextensionsApp]\u001b[m Copying: /opt/conda/lib/python3.6/site-packages/jupyter_contrib_nbextensions/nbextensions/toc2/icon.png -> /root/.local/share/jupyter/nbextensions/toc2/icon.png\r\n",
      "\u001b[32m[I 18:40:21 InstallContribNbextensionsApp]\u001b[m Copying: /opt/conda/lib/python3.6/site-packages/jupyter_contrib_nbextensions/nbextensions/toc2/demo_dark.png -> /root/.local/share/jupyter/nbextensions/toc2/demo_dark.png\r\n",
      "\u001b[32m[I 18:40:21 InstallContribNbextensionsApp]\u001b[m Copying: /opt/conda/lib/python3.6/site-packages/jupyter_contrib_nbextensions/nbextensions/toc2/toc2.yaml -> /root/.local/share/jupyter/nbextensions/toc2/toc2.yaml\r\n",
      "\u001b[32m[I 18:40:21 InstallContribNbextensionsApp]\u001b[m Copying: /opt/conda/lib/python3.6/site-packages/jupyter_contrib_nbextensions/nbextensions/toc2/main.js -> /root/.local/share/jupyter/nbextensions/toc2/main.js\r\n",
      "\u001b[32m[I 18:40:21 InstallContribNbextensionsApp]\u001b[m - Validating: \u001b[32mOK\u001b[0m\r\n",
      "\u001b[32m[I 18:40:21 InstallContribNbextensionsApp]\u001b[m Installing /opt/conda/lib/python3.6/site-packages/jupyter_contrib_nbextensions/nbextensions/toggle_all_line_numbers -> toggle_all_line_numbers\r\n",
      "\u001b[32m[I 18:40:21 InstallContribNbextensionsApp]\u001b[m Making directory: /root/.local/share/jupyter/nbextensions/toggle_all_line_numbers/\r\n",
      "\u001b[32m[I 18:40:21 InstallContribNbextensionsApp]\u001b[m Copying: /opt/conda/lib/python3.6/site-packages/jupyter_contrib_nbextensions/nbextensions/toggle_all_line_numbers/readme.md -> /root/.local/share/jupyter/nbextensions/toggle_all_line_numbers/readme.md\r\n",
      "\u001b[32m[I 18:40:21 InstallContribNbextensionsApp]\u001b[m Copying: /opt/conda/lib/python3.6/site-packages/jupyter_contrib_nbextensions/nbextensions/toggle_all_line_numbers/icon.png -> /root/.local/share/jupyter/nbextensions/toggle_all_line_numbers/icon.png\r\n",
      "\u001b[32m[I 18:40:21 InstallContribNbextensionsApp]\u001b[m Copying: /opt/conda/lib/python3.6/site-packages/jupyter_contrib_nbextensions/nbextensions/toggle_all_line_numbers/main.yaml -> /root/.local/share/jupyter/nbextensions/toggle_all_line_numbers/main.yaml\r\n",
      "\u001b[32m[I 18:40:21 InstallContribNbextensionsApp]\u001b[m Copying: /opt/conda/lib/python3.6/site-packages/jupyter_contrib_nbextensions/nbextensions/toggle_all_line_numbers/main.js -> /root/.local/share/jupyter/nbextensions/toggle_all_line_numbers/main.js\r\n",
      "\u001b[32m[I 18:40:21 InstallContribNbextensionsApp]\u001b[m - Validating: \u001b[32mOK\u001b[0m\r\n",
      "\u001b[32m[I 18:40:21 InstallContribNbextensionsApp]\u001b[m Installing /opt/conda/lib/python3.6/site-packages/jupyter_contrib_nbextensions/nbextensions/addbefore -> addbefore\r\n",
      "\u001b[32m[I 18:40:21 InstallContribNbextensionsApp]\u001b[m Making directory: /root/.local/share/jupyter/nbextensions/addbefore/\r\n",
      "\u001b[32m[I 18:40:21 InstallContribNbextensionsApp]\u001b[m Copying: /opt/conda/lib/python3.6/site-packages/jupyter_contrib_nbextensions/nbextensions/addbefore/readme.md -> /root/.local/share/jupyter/nbextensions/addbefore/readme.md\r\n",
      "\u001b[32m[I 18:40:21 InstallContribNbextensionsApp]\u001b[m Copying: /opt/conda/lib/python3.6/site-packages/jupyter_contrib_nbextensions/nbextensions/addbefore/addbefore.yaml -> /root/.local/share/jupyter/nbextensions/addbefore/addbefore.yaml\r\n",
      "\u001b[32m[I 18:40:21 InstallContribNbextensionsApp]\u001b[m Copying: /opt/conda/lib/python3.6/site-packages/jupyter_contrib_nbextensions/nbextensions/addbefore/icon.png -> /root/.local/share/jupyter/nbextensions/addbefore/icon.png\r\n",
      "\u001b[32m[I 18:40:21 InstallContribNbextensionsApp]\u001b[m Copying: /opt/conda/lib/python3.6/site-packages/jupyter_contrib_nbextensions/nbextensions/addbefore/main.js -> /root/.local/share/jupyter/nbextensions/addbefore/main.js\r\n",
      "\u001b[32m[I 18:40:21 InstallContribNbextensionsApp]\u001b[m - Validating: \u001b[32mOK\u001b[0m\r\n",
      "\u001b[32m[I 18:40:21 InstallContribNbextensionsApp]\u001b[m Installing /opt/conda/lib/python3.6/site-packages/jupyter_contrib_nbextensions/nbextensions/contrib_nbextensions_help_item -> contrib_nbextensions_help_item\r\n",
      "\u001b[32m[I 18:40:21 InstallContribNbextensionsApp]\u001b[m Making directory: /root/.local/share/jupyter/nbextensions/contrib_nbextensions_help_item/\r\n",
      "\u001b[32m[I 18:40:21 InstallContribNbextensionsApp]\u001b[m Copying: /opt/conda/lib/python3.6/site-packages/jupyter_contrib_nbextensions/nbextensions/contrib_nbextensions_help_item/README.md -> /root/.local/share/jupyter/nbextensions/contrib_nbextensions_help_item/README.md\r\n"
     ]
    },
    {
     "name": "stdout",
     "output_type": "stream",
     "text": [
      "\u001b[32m[I 18:40:21 InstallContribNbextensionsApp]\u001b[m Copying: /opt/conda/lib/python3.6/site-packages/jupyter_contrib_nbextensions/nbextensions/contrib_nbextensions_help_item/contrib_nbextensions_help_item.yaml -> /root/.local/share/jupyter/nbextensions/contrib_nbextensions_help_item/contrib_nbextensions_help_item.yaml\r\n",
      "\u001b[32m[I 18:40:21 InstallContribNbextensionsApp]\u001b[m Copying: /opt/conda/lib/python3.6/site-packages/jupyter_contrib_nbextensions/nbextensions/contrib_nbextensions_help_item/main.js -> /root/.local/share/jupyter/nbextensions/contrib_nbextensions_help_item/main.js\r\n",
      "\u001b[32m[I 18:40:21 InstallContribNbextensionsApp]\u001b[m - Validating: \u001b[32mOK\u001b[0m\r\n",
      "\u001b[32m[I 18:40:21 InstallContribNbextensionsApp]\u001b[m Installing /opt/conda/lib/python3.6/site-packages/jupyter_contrib_nbextensions/nbextensions/datestamper -> datestamper\r\n",
      "\u001b[32m[I 18:40:21 InstallContribNbextensionsApp]\u001b[m Making directory: /root/.local/share/jupyter/nbextensions/datestamper/\r\n",
      "\u001b[32m[I 18:40:21 InstallContribNbextensionsApp]\u001b[m Copying: /opt/conda/lib/python3.6/site-packages/jupyter_contrib_nbextensions/nbextensions/datestamper/readme.md -> /root/.local/share/jupyter/nbextensions/datestamper/readme.md\r\n",
      "\u001b[32m[I 18:40:21 InstallContribNbextensionsApp]\u001b[m Copying: /opt/conda/lib/python3.6/site-packages/jupyter_contrib_nbextensions/nbextensions/datestamper/icon.png -> /root/.local/share/jupyter/nbextensions/datestamper/icon.png\r\n",
      "\u001b[32m[I 18:40:21 InstallContribNbextensionsApp]\u001b[m Copying: /opt/conda/lib/python3.6/site-packages/jupyter_contrib_nbextensions/nbextensions/datestamper/main.yaml -> /root/.local/share/jupyter/nbextensions/datestamper/main.yaml\r\n",
      "\u001b[32m[I 18:40:21 InstallContribNbextensionsApp]\u001b[m Copying: /opt/conda/lib/python3.6/site-packages/jupyter_contrib_nbextensions/nbextensions/datestamper/main.js -> /root/.local/share/jupyter/nbextensions/datestamper/main.js\r\n",
      "\u001b[32m[I 18:40:21 InstallContribNbextensionsApp]\u001b[m - Validating: \u001b[32mOK\u001b[0m\r\n",
      "\u001b[32m[I 18:40:21 InstallContribNbextensionsApp]\u001b[m Installing /opt/conda/lib/python3.6/site-packages/jupyter_contrib_nbextensions/nbextensions/zenmode -> zenmode\r\n",
      "\u001b[32m[I 18:40:21 InstallContribNbextensionsApp]\u001b[m Making directory: /root/.local/share/jupyter/nbextensions/zenmode/\r\n",
      "\u001b[32m[I 18:40:21 InstallContribNbextensionsApp]\u001b[m Copying: /opt/conda/lib/python3.6/site-packages/jupyter_contrib_nbextensions/nbextensions/zenmode/main.css -> /root/.local/share/jupyter/nbextensions/zenmode/main.css\r\n",
      "\u001b[32m[I 18:40:21 InstallContribNbextensionsApp]\u001b[m Copying: /opt/conda/lib/python3.6/site-packages/jupyter_contrib_nbextensions/nbextensions/zenmode/README.md -> /root/.local/share/jupyter/nbextensions/zenmode/README.md\r\n",
      "\u001b[32m[I 18:40:21 InstallContribNbextensionsApp]\u001b[m Copying: /opt/conda/lib/python3.6/site-packages/jupyter_contrib_nbextensions/nbextensions/zenmode/zenmode.yaml -> /root/.local/share/jupyter/nbextensions/zenmode/zenmode.yaml\r\n",
      "\u001b[32m[I 18:40:21 InstallContribNbextensionsApp]\u001b[m Copying: /opt/conda/lib/python3.6/site-packages/jupyter_contrib_nbextensions/nbextensions/zenmode/main.js -> /root/.local/share/jupyter/nbextensions/zenmode/main.js\r\n",
      "\u001b[32m[I 18:40:21 InstallContribNbextensionsApp]\u001b[m Making directory: /root/.local/share/jupyter/nbextensions/zenmode/images\r\n",
      "\u001b[32m[I 18:40:21 InstallContribNbextensionsApp]\u001b[m Copying: /opt/conda/lib/python3.6/site-packages/jupyter_contrib_nbextensions/nbextensions/zenmode/images/back21.jpg -> /root/.local/share/jupyter/nbextensions/zenmode/images/back21.jpg\r\n",
      "\u001b[32m[I 18:40:21 InstallContribNbextensionsApp]\u001b[m Copying: /opt/conda/lib/python3.6/site-packages/jupyter_contrib_nbextensions/nbextensions/zenmode/images/back12.jpg -> /root/.local/share/jupyter/nbextensions/zenmode/images/back12.jpg\r\n",
      "\u001b[32m[I 18:40:21 InstallContribNbextensionsApp]\u001b[m Copying: /opt/conda/lib/python3.6/site-packages/jupyter_contrib_nbextensions/nbextensions/zenmode/images/back11.jpg -> /root/.local/share/jupyter/nbextensions/zenmode/images/back11.jpg\r\n",
      "\u001b[32m[I 18:40:21 InstallContribNbextensionsApp]\u001b[m Copying: /opt/conda/lib/python3.6/site-packages/jupyter_contrib_nbextensions/nbextensions/zenmode/images/back1.jpg -> /root/.local/share/jupyter/nbextensions/zenmode/images/back1.jpg\r\n",
      "\u001b[32m[I 18:40:21 InstallContribNbextensionsApp]\u001b[m Copying: /opt/conda/lib/python3.6/site-packages/jupyter_contrib_nbextensions/nbextensions/zenmode/images/ipynblogo1.png -> /root/.local/share/jupyter/nbextensions/zenmode/images/ipynblogo1.png\r\n",
      "\u001b[32m[I 18:40:21 InstallContribNbextensionsApp]\u001b[m Copying: /opt/conda/lib/python3.6/site-packages/jupyter_contrib_nbextensions/nbextensions/zenmode/images/back22.jpg -> /root/.local/share/jupyter/nbextensions/zenmode/images/back22.jpg\r\n",
      "\u001b[32m[I 18:40:21 InstallContribNbextensionsApp]\u001b[m Copying: /opt/conda/lib/python3.6/site-packages/jupyter_contrib_nbextensions/nbextensions/zenmode/images/ipynblogo0.png -> /root/.local/share/jupyter/nbextensions/zenmode/images/ipynblogo0.png\r\n",
      "\u001b[32m[I 18:40:21 InstallContribNbextensionsApp]\u001b[m Copying: /opt/conda/lib/python3.6/site-packages/jupyter_contrib_nbextensions/nbextensions/zenmode/images/back3.jpg -> /root/.local/share/jupyter/nbextensions/zenmode/images/back3.jpg\r\n",
      "\u001b[32m[I 18:40:21 InstallContribNbextensionsApp]\u001b[m Copying: /opt/conda/lib/python3.6/site-packages/jupyter_contrib_nbextensions/nbextensions/zenmode/images/back2.jpg -> /root/.local/share/jupyter/nbextensions/zenmode/images/back2.jpg\r\n",
      "\u001b[32m[I 18:40:21 InstallContribNbextensionsApp]\u001b[m - Validating: \u001b[32mOK\u001b[0m\r\n",
      "\u001b[32m[I 18:40:21 InstallContribNbextensionsApp]\u001b[m Installing /opt/conda/lib/python3.6/site-packages/jupyter_contrib_nbextensions/nbextensions/codemirror_mode_extensions -> codemirror_mode_extensions\r\n",
      "\u001b[32m[I 18:40:21 InstallContribNbextensionsApp]\u001b[m Making directory: /root/.local/share/jupyter/nbextensions/codemirror_mode_extensions/\r\n",
      "\u001b[32m[I 18:40:21 InstallContribNbextensionsApp]\u001b[m Copying: /opt/conda/lib/python3.6/site-packages/jupyter_contrib_nbextensions/nbextensions/codemirror_mode_extensions/codemirror_mode_extensions.yaml -> /root/.local/share/jupyter/nbextensions/codemirror_mode_extensions/codemirror_mode_extensions.yaml\r\n",
      "\u001b[32m[I 18:40:21 InstallContribNbextensionsApp]\u001b[m Copying: /opt/conda/lib/python3.6/site-packages/jupyter_contrib_nbextensions/nbextensions/codemirror_mode_extensions/main.js -> /root/.local/share/jupyter/nbextensions/codemirror_mode_extensions/main.js\r\n",
      "\u001b[32m[I 18:40:21 InstallContribNbextensionsApp]\u001b[m - Validating: \u001b[32mOK\u001b[0m\r\n",
      "\u001b[32m[I 18:40:21 InstallContribNbextensionsApp]\u001b[m Installing /opt/conda/lib/python3.6/site-packages/jupyter_contrib_nbextensions/nbextensions/runtools -> runtools\r\n",
      "\u001b[32m[I 18:40:21 InstallContribNbextensionsApp]\u001b[m Making directory: /root/.local/share/jupyter/nbextensions/runtools/\r\n",
      "\u001b[32m[I 18:40:21 InstallContribNbextensionsApp]\u001b[m Copying: /opt/conda/lib/python3.6/site-packages/jupyter_contrib_nbextensions/nbextensions/runtools/readme.md -> /root/.local/share/jupyter/nbextensions/runtools/readme.md\r\n",
      "\u001b[32m[I 18:40:21 InstallContribNbextensionsApp]\u001b[m Copying: /opt/conda/lib/python3.6/site-packages/jupyter_contrib_nbextensions/nbextensions/runtools/main.css -> /root/.local/share/jupyter/nbextensions/runtools/main.css\r\n",
      "\u001b[32m[I 18:40:21 InstallContribNbextensionsApp]\u001b[m Copying: /opt/conda/lib/python3.6/site-packages/jupyter_contrib_nbextensions/nbextensions/runtools/runtools_marker.png -> /root/.local/share/jupyter/nbextensions/runtools/runtools_marker.png\r\n",
      "\u001b[32m[I 18:40:21 InstallContribNbextensionsApp]\u001b[m Copying: /opt/conda/lib/python3.6/site-packages/jupyter_contrib_nbextensions/nbextensions/runtools/demo.gif -> /root/.local/share/jupyter/nbextensions/runtools/demo.gif\r\n",
      "\u001b[32m[I 18:40:21 InstallContribNbextensionsApp]\u001b[m Copying: /opt/conda/lib/python3.6/site-packages/jupyter_contrib_nbextensions/nbextensions/runtools/annotations.odg -> /root/.local/share/jupyter/nbextensions/runtools/annotations.odg\r\n",
      "\u001b[32m[I 18:40:21 InstallContribNbextensionsApp]\u001b[m Copying: /opt/conda/lib/python3.6/site-packages/jupyter_contrib_nbextensions/nbextensions/runtools/cellstate.js -> /root/.local/share/jupyter/nbextensions/runtools/cellstate.js\r\n",
      "\u001b[32m[I 18:40:21 InstallContribNbextensionsApp]\u001b[m Copying: /opt/conda/lib/python3.6/site-packages/jupyter_contrib_nbextensions/nbextensions/runtools/runtools_show_hide.png -> /root/.local/share/jupyter/nbextensions/runtools/runtools_show_hide.png\r\n",
      "\u001b[32m[I 18:40:21 InstallContribNbextensionsApp]\u001b[m Copying: /opt/conda/lib/python3.6/site-packages/jupyter_contrib_nbextensions/nbextensions/runtools/runtools.yaml -> /root/.local/share/jupyter/nbextensions/runtools/runtools.yaml\r\n",
      "\u001b[32m[I 18:40:21 InstallContribNbextensionsApp]\u001b[m Copying: /opt/conda/lib/python3.6/site-packages/jupyter_contrib_nbextensions/nbextensions/runtools/icon.png -> /root/.local/share/jupyter/nbextensions/runtools/icon.png\r\n",
      "\u001b[32m[I 18:40:21 InstallContribNbextensionsApp]\u001b[m Copying: /opt/conda/lib/python3.6/site-packages/jupyter_contrib_nbextensions/nbextensions/runtools/runtools_execute.png -> /root/.local/share/jupyter/nbextensions/runtools/runtools_execute.png\r\n",
      "\u001b[32m[I 18:40:21 InstallContribNbextensionsApp]\u001b[m Copying: /opt/conda/lib/python3.6/site-packages/jupyter_contrib_nbextensions/nbextensions/runtools/gutter.css -> /root/.local/share/jupyter/nbextensions/runtools/gutter.css\r\n",
      "\u001b[32m[I 18:40:21 InstallContribNbextensionsApp]\u001b[m Copying: /opt/conda/lib/python3.6/site-packages/jupyter_contrib_nbextensions/nbextensions/runtools/runtools_nb.png -> /root/.local/share/jupyter/nbextensions/runtools/runtools_nb.png\r\n",
      "\u001b[32m[I 18:40:21 InstallContribNbextensionsApp]\u001b[m Copying: /opt/conda/lib/python3.6/site-packages/jupyter_contrib_nbextensions/nbextensions/runtools/runtools_lock.png -> /root/.local/share/jupyter/nbextensions/runtools/runtools_lock.png\r\n",
      "\u001b[32m[I 18:40:21 InstallContribNbextensionsApp]\u001b[m Copying: /opt/conda/lib/python3.6/site-packages/jupyter_contrib_nbextensions/nbextensions/runtools/main.js -> /root/.local/share/jupyter/nbextensions/runtools/main.js\r\n",
      "\u001b[32m[I 18:40:21 InstallContribNbextensionsApp]\u001b[m - Validating: \u001b[32mOK\u001b[0m\r\n",
      "\u001b[32m[I 18:40:21 InstallContribNbextensionsApp]\u001b[m Installing /opt/conda/lib/python3.6/site-packages/jupyter_highlight_selected_word/static/highlight_selected_word -> highlight_selected_word\r\n",
      "\u001b[32m[I 18:40:21 InstallContribNbextensionsApp]\u001b[m Making directory: /root/.local/share/jupyter/nbextensions/highlight_selected_word/\r\n",
      "\u001b[32m[I 18:40:21 InstallContribNbextensionsApp]\u001b[m Copying: /opt/conda/lib/python3.6/site-packages/jupyter_highlight_selected_word/static/highlight_selected_word/README.md -> /root/.local/share/jupyter/nbextensions/highlight_selected_word/README.md\r\n",
      "\u001b[32m[I 18:40:21 InstallContribNbextensionsApp]\u001b[m Copying: /opt/conda/lib/python3.6/site-packages/jupyter_highlight_selected_word/static/highlight_selected_word/main.js -> /root/.local/share/jupyter/nbextensions/highlight_selected_word/main.js\r\n",
      "\u001b[32m[I 18:40:21 InstallContribNbextensionsApp]\u001b[m Copying: /opt/conda/lib/python3.6/site-packages/jupyter_highlight_selected_word/static/highlight_selected_word/configurator.yaml -> /root/.local/share/jupyter/nbextensions/highlight_selected_word/configurator.yaml\r\n",
      "\u001b[32m[I 18:40:21 InstallContribNbextensionsApp]\u001b[m - Validating: \u001b[32mOK\u001b[0m\r\n",
      "\u001b[32m[I 18:40:21 InstallContribNbextensionsApp]\u001b[m Installing /opt/conda/lib/python3.6/site-packages/latex_envs/static -> latex_envs\r\n",
      "\u001b[32m[I 18:40:21 InstallContribNbextensionsApp]\u001b[m Making directory: /root/.local/share/jupyter/nbextensions/latex_envs/\r\n",
      "\u001b[32m[I 18:40:21 InstallContribNbextensionsApp]\u001b[m Copying: /opt/conda/lib/python3.6/site-packages/latex_envs/static/example_user_envs.json -> /root/.local/share/jupyter/nbextensions/latex_envs/example_user_envs.json\r\n",
      "\u001b[32m[I 18:40:21 InstallContribNbextensionsApp]\u001b[m Copying: /opt/conda/lib/python3.6/site-packages/latex_envs/static/latex_envs.yaml -> /root/.local/share/jupyter/nbextensions/latex_envs/latex_envs.yaml\r\n",
      "\u001b[32m[I 18:40:21 InstallContribNbextensionsApp]\u001b[m Copying: /opt/conda/lib/python3.6/site-packages/latex_envs/static/README.md -> /root/.local/share/jupyter/nbextensions/latex_envs/README.md\r\n",
      "\u001b[32m[I 18:40:21 InstallContribNbextensionsApp]\u001b[m Copying: /opt/conda/lib/python3.6/site-packages/latex_envs/static/bibtex2.js -> /root/.local/share/jupyter/nbextensions/latex_envs/bibtex2.js\r\n",
      "\u001b[32m[I 18:40:21 InstallContribNbextensionsApp]\u001b[m Copying: /opt/conda/lib/python3.6/site-packages/latex_envs/static/example.png -> /root/.local/share/jupyter/nbextensions/latex_envs/example.png\r\n",
      "\u001b[32m[I 18:40:21 InstallContribNbextensionsApp]\u001b[m Copying: /opt/conda/lib/python3.6/site-packages/latex_envs/static/latex_envs.js -> /root/.local/share/jupyter/nbextensions/latex_envs/latex_envs.js\r\n",
      "\u001b[32m[I 18:40:21 InstallContribNbextensionsApp]\u001b[m Copying: /opt/conda/lib/python3.6/site-packages/latex_envs/static/main_toolbar.png -> /root/.local/share/jupyter/nbextensions/latex_envs/main_toolbar.png\r\n",
      "\u001b[32m[I 18:40:21 InstallContribNbextensionsApp]\u001b[m Copying: /opt/conda/lib/python3.6/site-packages/latex_envs/static/envsLatex.json -> /root/.local/share/jupyter/nbextensions/latex_envs/envsLatex.json\r\n",
      "\u001b[32m[I 18:40:21 InstallContribNbextensionsApp]\u001b[m Copying: /opt/conda/lib/python3.6/site-packages/latex_envs/static/latex_envs.css -> /root/.local/share/jupyter/nbextensions/latex_envs/latex_envs.css\r\n",
      "\u001b[32m[I 18:40:21 InstallContribNbextensionsApp]\u001b[m Copying: /opt/conda/lib/python3.6/site-packages/latex_envs/static/icon.png -> /root/.local/share/jupyter/nbextensions/latex_envs/icon.png\r\n",
      "\u001b[32m[I 18:40:21 InstallContribNbextensionsApp]\u001b[m Copying: /opt/conda/lib/python3.6/site-packages/latex_envs/static/bibInNb4.js -> /root/.local/share/jupyter/nbextensions/latex_envs/bibInNb4.js\r\n",
      "\u001b[32m[I 18:40:21 InstallContribNbextensionsApp]\u001b[m Copying: /opt/conda/lib/python3.6/site-packages/latex_envs/static/configuration_toolbar.png -> /root/.local/share/jupyter/nbextensions/latex_envs/configuration_toolbar.png\r\n",
      "\u001b[32m[I 18:40:21 InstallContribNbextensionsApp]\u001b[m Copying: /opt/conda/lib/python3.6/site-packages/latex_envs/static/envsLatex.js -> /root/.local/share/jupyter/nbextensions/latex_envs/envsLatex.js\r\n",
      "\u001b[32m[I 18:40:21 InstallContribNbextensionsApp]\u001b[m Copying: /opt/conda/lib/python3.6/site-packages/latex_envs/static/initNb.js -> /root/.local/share/jupyter/nbextensions/latex_envs/initNb.js\r\n",
      "\u001b[32m[I 18:40:21 InstallContribNbextensionsApp]\u001b[m Copying: /opt/conda/lib/python3.6/site-packages/latex_envs/static/thmsInNb4.js -> /root/.local/share/jupyter/nbextensions/latex_envs/thmsInNb4.js\r\n",
      "\u001b[32m[I 18:40:21 InstallContribNbextensionsApp]\u001b[m Making directory: /root/.local/share/jupyter/nbextensions/latex_envs/doc\r\n",
      "\u001b[32m[I 18:40:21 InstallContribNbextensionsApp]\u001b[m Copying: /opt/conda/lib/python3.6/site-packages/latex_envs/static/doc/latex_env_doc.tex -> /root/.local/share/jupyter/nbextensions/latex_envs/doc/latex_env_doc.tex\r\n",
      "\u001b[32m[I 18:40:21 InstallContribNbextensionsApp]\u001b[m Copying: /opt/conda/lib/python3.6/site-packages/latex_envs/static/doc/latex_env_doc.html -> /root/.local/share/jupyter/nbextensions/latex_envs/doc/latex_env_doc.html\r\n",
      "\u001b[32m[I 18:40:21 InstallContribNbextensionsApp]\u001b[m Copying: /opt/conda/lib/python3.6/site-packages/latex_envs/static/doc/config_toolbar.png -> /root/.local/share/jupyter/nbextensions/latex_envs/doc/config_toolbar.png\r\n",
      "\u001b[32m[I 18:40:21 InstallContribNbextensionsApp]\u001b[m Copying: /opt/conda/lib/python3.6/site-packages/latex_envs/static/doc/README.md -> /root/.local/share/jupyter/nbextensions/latex_envs/doc/README.md\r\n",
      "\u001b[32m[I 18:40:21 InstallContribNbextensionsApp]\u001b[m Copying: /opt/conda/lib/python3.6/site-packages/latex_envs/static/doc/latex_env_doc.ipynb -> /root/.local/share/jupyter/nbextensions/latex_envs/doc/latex_env_doc.ipynb\r\n",
      "\u001b[32m[I 18:40:21 InstallContribNbextensionsApp]\u001b[m Copying: /opt/conda/lib/python3.6/site-packages/latex_envs/static/doc/IEEEtran.bst -> /root/.local/share/jupyter/nbextensions/latex_envs/doc/IEEEtran.bst\r\n",
      "\u001b[32m[I 18:40:21 InstallContribNbextensionsApp]\u001b[m Copying: /opt/conda/lib/python3.6/site-packages/latex_envs/static/doc/example.png -> /root/.local/share/jupyter/nbextensions/latex_envs/doc/example.png\r\n",
      "\u001b[32m[I 18:40:21 InstallContribNbextensionsApp]\u001b[m Copying: /opt/conda/lib/python3.6/site-packages/latex_envs/static/doc/main_toolbar.png -> /root/.local/share/jupyter/nbextensions/latex_envs/doc/main_toolbar.png\r\n",
      "\u001b[32m[I 18:40:21 InstallContribNbextensionsApp]\u001b[m Copying: /opt/conda/lib/python3.6/site-packages/latex_envs/static/doc/biblio_ipython.bib -> /root/.local/share/jupyter/nbextensions/latex_envs/doc/biblio_ipython.bib\r\n",
      "\u001b[32m[I 18:40:21 InstallContribNbextensionsApp]\u001b[m Copying: /opt/conda/lib/python3.6/site-packages/latex_envs/static/doc/LaTeX_envs_menu.png -> /root/.local/share/jupyter/nbextensions/latex_envs/doc/LaTeX_envs_menu.png\r\n",
      "\u001b[32m[I 18:40:21 InstallContribNbextensionsApp]\u001b[m Copying: /opt/conda/lib/python3.6/site-packages/latex_envs/static/doc/documentation.pdf -> /root/.local/share/jupyter/nbextensions/latex_envs/doc/documentation.pdf\r\n",
      "\u001b[32m[I 18:40:21 InstallContribNbextensionsApp]\u001b[m Copying: /opt/conda/lib/python3.6/site-packages/latex_envs/static/doc/configuration_toolbar.png -> /root/.local/share/jupyter/nbextensions/latex_envs/doc/configuration_toolbar.png\r\n",
      "\u001b[32m[I 18:40:21 InstallContribNbextensionsApp]\u001b[m Copying: /opt/conda/lib/python3.6/site-packages/latex_envs/static/doc/header.tex -> /root/.local/share/jupyter/nbextensions/latex_envs/doc/header.tex\r\n",
      "\u001b[32m[I 18:40:21 InstallContribNbextensionsApp]\u001b[m Copying: /opt/conda/lib/python3.6/site-packages/latex_envs/static/doc/documentation.tex -> /root/.local/share/jupyter/nbextensions/latex_envs/doc/documentation.tex\r\n",
      "\u001b[32m[I 18:40:21 InstallContribNbextensionsApp]\u001b[m Copying: /opt/conda/lib/python3.6/site-packages/latex_envs/static/doc/Toggles.png -> /root/.local/share/jupyter/nbextensions/latex_envs/doc/Toggles.png\r\n",
      "\u001b[32m[I 18:40:21 InstallContribNbextensionsApp]\u001b[m Making directory: /root/.local/share/jupyter/nbextensions/latex_envs/doc/latex_env_doc_files\r\n",
      "\u001b[32m[I 18:40:21 InstallContribNbextensionsApp]\u001b[m Copying: /opt/conda/lib/python3.6/site-packages/latex_envs/static/doc/latex_env_doc_files/latex_env_doc_44_0.png -> /root/.local/share/jupyter/nbextensions/latex_envs/doc/latex_env_doc_files/latex_env_doc_44_0.png\r\n",
      "\u001b[32m[I 18:40:21 InstallContribNbextensionsApp]\u001b[m Copying: /opt/conda/lib/python3.6/site-packages/latex_envs/static/doc/latex_env_doc_files/latex_env_doc_27_2.png -> /root/.local/share/jupyter/nbextensions/latex_envs/doc/latex_env_doc_files/latex_env_doc_27_2.png\r\n",
      "\u001b[32m[I 18:40:21 InstallContribNbextensionsApp]\u001b[m Copying: /opt/conda/lib/python3.6/site-packages/latex_envs/static/doc/latex_env_doc_files/latex_env_doc_43_0.png -> /root/.local/share/jupyter/nbextensions/latex_envs/doc/latex_env_doc_files/latex_env_doc_43_0.png\r\n",
      "\u001b[32m[I 18:40:21 InstallContribNbextensionsApp]\u001b[m Copying: /opt/conda/lib/python3.6/site-packages/latex_envs/static/doc/latex_env_doc_files/latex_env_doc_48_0.png -> /root/.local/share/jupyter/nbextensions/latex_envs/doc/latex_env_doc_files/latex_env_doc_48_0.png\r\n",
      "\u001b[32m[I 18:40:21 InstallContribNbextensionsApp]\u001b[m Copying: /opt/conda/lib/python3.6/site-packages/latex_envs/static/doc/latex_env_doc_files/latex_env_doc_45_0.png -> /root/.local/share/jupyter/nbextensions/latex_envs/doc/latex_env_doc_files/latex_env_doc_45_0.png\r\n",
      "\u001b[32m[I 18:40:21 InstallContribNbextensionsApp]\u001b[m Copying: /opt/conda/lib/python3.6/site-packages/latex_envs/static/doc/latex_env_doc_files/latex_env_doc_46_0.png -> /root/.local/share/jupyter/nbextensions/latex_envs/doc/latex_env_doc_files/latex_env_doc_46_0.png\r\n",
      "\u001b[32m[I 18:40:21 InstallContribNbextensionsApp]\u001b[m Copying: /opt/conda/lib/python3.6/site-packages/latex_envs/static/doc/latex_env_doc_files/latex_env_doc_51_0.png -> /root/.local/share/jupyter/nbextensions/latex_envs/doc/latex_env_doc_files/latex_env_doc_51_0.png\r\n",
      "\u001b[32m[I 18:40:21 InstallContribNbextensionsApp]\u001b[m Copying: /opt/conda/lib/python3.6/site-packages/latex_envs/static/doc/latex_env_doc_files/latex_env_doc_24_2.png -> /root/.local/share/jupyter/nbextensions/latex_envs/doc/latex_env_doc_files/latex_env_doc_24_2.png\r\n",
      "\u001b[32m[I 18:40:21 InstallContribNbextensionsApp]\u001b[m Copying: /opt/conda/lib/python3.6/site-packages/latex_envs/static/doc/latex_env_doc_files/latex_env_doc_49_0.png -> /root/.local/share/jupyter/nbextensions/latex_envs/doc/latex_env_doc_files/latex_env_doc_49_0.png\r\n",
      "\u001b[32m[I 18:40:21 InstallContribNbextensionsApp]\u001b[m Copying: /opt/conda/lib/python3.6/site-packages/latex_envs/static/doc/latex_env_doc_files/latex_env_doc_23_2.png -> /root/.local/share/jupyter/nbextensions/latex_envs/doc/latex_env_doc_files/latex_env_doc_23_2.png\r\n",
      "\u001b[32m[I 18:40:21 InstallContribNbextensionsApp]\u001b[m Copying: /opt/conda/lib/python3.6/site-packages/latex_envs/static/doc/latex_env_doc_files/latex_env_doc_42_0.png -> /root/.local/share/jupyter/nbextensions/latex_envs/doc/latex_env_doc_files/latex_env_doc_42_0.png\r\n",
      "\u001b[32m[I 18:40:21 InstallContribNbextensionsApp]\u001b[m Copying: /opt/conda/lib/python3.6/site-packages/latex_envs/static/doc/latex_env_doc_files/latex_env_doc_50_0.png -> /root/.local/share/jupyter/nbextensions/latex_envs/doc/latex_env_doc_files/latex_env_doc_50_0.png\r\n",
      "\u001b[32m[I 18:40:21 InstallContribNbextensionsApp]\u001b[m Copying: /opt/conda/lib/python3.6/site-packages/latex_envs/static/doc/latex_env_doc_files/latex_env_doc_41_0.png -> /root/.local/share/jupyter/nbextensions/latex_envs/doc/latex_env_doc_files/latex_env_doc_41_0.png\r\n",
      "\u001b[32m[I 18:40:21 InstallContribNbextensionsApp]\u001b[m Copying: /opt/conda/lib/python3.6/site-packages/latex_envs/static/doc/latex_env_doc_files/latex_env_doc_26_2.png -> /root/.local/share/jupyter/nbextensions/latex_envs/doc/latex_env_doc_files/latex_env_doc_26_2.png\r\n",
      "\u001b[32m[I 18:40:21 InstallContribNbextensionsApp]\u001b[m Copying: /opt/conda/lib/python3.6/site-packages/latex_envs/static/doc/latex_env_doc_files/latex_env_doc_47_0.png -> /root/.local/share/jupyter/nbextensions/latex_envs/doc/latex_env_doc_files/latex_env_doc_47_0.png\r\n",
      "\u001b[32m[I 18:40:21 InstallContribNbextensionsApp]\u001b[m Copying: /opt/conda/lib/python3.6/site-packages/latex_envs/static/doc/latex_env_doc_files/latex_env_doc_52_0.png -> /root/.local/share/jupyter/nbextensions/latex_envs/doc/latex_env_doc_files/latex_env_doc_52_0.png\r\n",
      "\u001b[32m[I 18:40:21 InstallContribNbextensionsApp]\u001b[m Making directory: /root/.local/share/jupyter/nbextensions/latex_envs/doc/.ipynb_checkpoints\r\n",
      "\u001b[32m[I 18:40:21 InstallContribNbextensionsApp]\u001b[m Copying: /opt/conda/lib/python3.6/site-packages/latex_envs/static/doc/.ipynb_checkpoints/latex_env_doc-checkpoint.ipynb -> /root/.local/share/jupyter/nbextensions/latex_envs/doc/.ipynb_checkpoints/latex_env_doc-checkpoint.ipynb\r\n",
      "\u001b[32m[I 18:40:21 InstallContribNbextensionsApp]\u001b[m - Validating: \u001b[32mOK\u001b[0m\r\n",
      "\u001b[32m[I 18:40:21 InstallContribNbextensionsApp]\u001b[m Installing jupyter_contrib_nbextensions items to config in /root/.jupyter\r\n",
      "Enabling: jupyter_nbextensions_configurator\r\n",
      "- Writing config: /root/.jupyter\r\n",
      "    - Validating...\r\n",
      "      jupyter_nbextensions_configurator 0.4.1 \u001b[32mOK\u001b[0m\r\n",
      "Enabling notebook nbextension nbextensions_configurator/config_menu/main...\r\n",
      "Enabling tree nbextension nbextensions_configurator/tree_tab/main...\r\n",
      "\u001b[32m[I 18:40:21 InstallContribNbextensionsApp]\u001b[m Enabling notebook extension contrib_nbextensions_help_item/main...\r\n",
      "\u001b[32m[I 18:40:21 InstallContribNbextensionsApp]\u001b[m       - Validating: \u001b[32mOK\u001b[0m\r\n",
      "\u001b[32m[I 18:40:21 InstallContribNbextensionsApp]\u001b[m - Editing config: /root/.jupyter/jupyter_nbconvert_config.json\r\n",
      "\u001b[32m[I 18:40:21 InstallContribNbextensionsApp]\u001b[m --  Configuring nbconvert template path\r\n",
      "\u001b[32m[I 18:40:21 InstallContribNbextensionsApp]\u001b[m --  Configuring nbconvert preprocessors\r\n",
      "\u001b[32m[I 18:40:21 InstallContribNbextensionsApp]\u001b[m - Writing config: /root/.jupyter/jupyter_nbconvert_config.json\r\n",
      "\u001b[32m[I 18:40:21 InstallContribNbextensionsApp]\u001b[m --  Writing updated config file /root/.jupyter/jupyter_nbconvert_config.json\r\n"
     ]
    },
    {
     "name": "stdout",
     "output_type": "stream",
     "text": [
      "Enabling notebook extension spellchecker/main...\r\n",
      "      - Validating: \u001b[32mOK\u001b[0m\r\n"
     ]
    }
   ],
   "source": [
    "#Allow spellchecker\n",
    "!pip install jupyter_contrib_nbextensions\n",
    "!jupyter contrib nbextension install --user\n",
    "!jupyter nbextension enable spellchecker/main"
   ]
  },
  {
   "cell_type": "markdown",
   "metadata": {},
   "source": [
    "# Data Scientist Nanodegree\n",
    "\n",
    "## Convolutional Neural Networks\n",
    "\n",
    "## Project: Write an Algorithm for a Dog Identification App \n",
    "\n",
    "\n",
    "This notebook walks you through one of the most popular Udacity projects across machine learning and artificial intellegence nanodegree programs.  The goal is to classify images of dogs according to their breed.  \n",
    "\n",
    "If you are looking for a more guided capstone project related to deep learning and convolutional neural networks, this might be just it.  Notice that even if you follow the notebook to creating your classifier, you must still create a blog post or deploy an application to fulfill the requirements of the capstone project.\n",
    "\n",
    "Also notice, you may be able to use only parts of this notebook (for example certain coding portions or the data) without completing all parts and still meet all requirements of the capstone project.\n",
    "\n",
    "---\n",
    "\n",
    "In this notebook, some template code has already been provided for you, and you will need to implement additional functionality to successfully complete this project. You will not need to modify the included code beyond what is requested. Sections that begin with **'(IMPLEMENTATION)'** in the header indicate that the following block of code will require additional functionality which you must provide. Instructions will be provided for each section, and the specifics of the implementation are marked in the code block with a 'TODO' statement. Please be sure to read the instructions carefully! \n",
    "\n",
    "In addition to implementing code, there will be questions that you must answer which relate to the project and your implementation. Each section where you will answer a question is preceded by a **'Question X'** header. Carefully read each question and provide thorough answers in the following text boxes that begin with **'Answer:'**. Your project submission will be evaluated based on your answers to each of the questions and the implementation you provide.\n",
    "\n",
    ">**Note:** Code and Markdown cells can be executed using the **Shift + Enter** keyboard shortcut.  Markdown cells can be edited by double-clicking the cell to enter edit mode.\n",
    "\n",
    "The rubric contains _optional_ \"Stand Out Suggestions\" for enhancing the project beyond the minimum requirements. If you decide to pursue the \"Stand Out Suggestions\", you should include the code in this IPython notebook.\n",
    "\n",
    "\n",
    "\n",
    "---\n",
    "### Why We're Here \n",
    "\n",
    "In this notebook, you will make the first steps towards developing an algorithm that could be used as part of a mobile or web app.  At the end of this project, your code will accept any user-supplied image as input.  If a dog is detected in the image, it will provide an estimate of the dog's breed.  If a human is detected, it will provide an estimate of the dog breed that is most resembling.  The image below displays potential sample output of your finished project (... but we expect that each student's algorithm will behave differently!). \n",
    "\n",
    "![Sample Dog Output](images/sample_dog_output.png)\n",
    "\n",
    "In this real-world setting, you will need to piece together a series of models to perform different tasks; for instance, the algorithm that detects humans in an image will be different from the CNN that infers dog breed.  There are many points of possible failure, and no perfect algorithm exists.  Your imperfect solution will nonetheless create a fun user experience!\n",
    "\n",
    "### The Road Ahead\n",
    "\n",
    "We break the notebook into separate steps.  Feel free to use the links below to navigate the notebook.\n",
    "\n",
    "* [Step 0](#step0): Import Datasets\n",
    "* [Step 1](#step1): Detect Humans\n",
    "* [Step 2](#step2): Detect Dogs\n",
    "* [Step 3](#step3): Create a CNN to Classify Dog Breeds (from Scratch)\n",
    "* [Step 4](#step4): Use a CNN to Classify Dog Breeds (using Transfer Learning)\n",
    "* [Step 5](#step5): Create a CNN to Classify Dog Breeds (using Transfer Learning)\n",
    "* [Step 6](#step6): Write your Algorithm\n",
    "* [Step 7](#step7): Test Your Algorithm\n",
    "\n",
    "---\n",
    "<a id='step0'></a>\n",
    "## Step 0: Import Datasets\n",
    "\n",
    "### Import Dog Dataset\n",
    "\n",
    "In the code cell below, we import a dataset of dog images.  We populate a few variables through the use of the `load_files` function from the scikit-learn library:\n",
    "- `train_files`, `valid_files`, `test_files` - numpy arrays containing file paths to images\n",
    "- `train_targets`, `valid_targets`, `test_targets` - numpy arrays containing onehot-encoded classification labels \n",
    "- `dog_names` - list of string-valued dog breed names for translating labels"
   ]
  },
  {
   "cell_type": "code",
   "execution_count": 2,
   "metadata": {},
   "outputs": [
    {
     "name": "stderr",
     "output_type": "stream",
     "text": [
      "Using TensorFlow backend.\n"
     ]
    },
    {
     "name": "stdout",
     "output_type": "stream",
     "text": [
      "There are 133 total dog categories.\n",
      "There are 8351 total dog images.\n",
      "\n",
      "There are 6680 training dog images.\n",
      "There are 835 validation dog images.\n",
      "There are 836 test dog images.\n"
     ]
    }
   ],
   "source": [
    "from sklearn.datasets import load_files       \n",
    "from keras.utils import np_utils\n",
    "import numpy as np\n",
    "from glob import glob\n",
    "\n",
    "# define function to load train, test, and validation datasets\n",
    "def load_dataset(path):\n",
    "    data = load_files(path)\n",
    "    dog_files = np.array(data['filenames'])\n",
    "    dog_targets = np_utils.to_categorical(np.array(data['target']), 133)\n",
    "    return dog_files, dog_targets\n",
    "\n",
    "# load train, test, and validation datasets\n",
    "train_files, train_targets = load_dataset('../../../data/dog_images/train')\n",
    "valid_files, valid_targets = load_dataset('../../../data/dog_images/valid')\n",
    "test_files, test_targets = load_dataset('../../../data/dog_images/test')\n",
    "\n",
    "# load list of dog names\n",
    "dog_names = [item[20:-1] for item in sorted(glob(\"../../../data/dog_images/train/*/\"))]\n",
    "\n",
    "# print statistics about the dataset\n",
    "print('There are %d total dog categories.' % len(dog_names))\n",
    "print('There are %s total dog images.\\n' % len(np.hstack([train_files, valid_files, test_files])))\n",
    "print('There are %d training dog images.' % len(train_files))\n",
    "print('There are %d validation dog images.' % len(valid_files))\n",
    "print('There are %d test dog images.'% len(test_files))"
   ]
  },
  {
   "cell_type": "markdown",
   "metadata": {},
   "source": [
    "### Import Human Dataset\n",
    "\n",
    "In the code cell below, we import a dataset of human images, where the file paths are stored in the numpy array `human_files`."
   ]
  },
  {
   "cell_type": "code",
   "execution_count": 3,
   "metadata": {},
   "outputs": [
    {
     "name": "stdout",
     "output_type": "stream",
     "text": [
      "There are 13233 total human images.\n"
     ]
    }
   ],
   "source": [
    "import random\n",
    "random.seed(8675309)\n",
    "\n",
    "# load filenames in shuffled human dataset\n",
    "human_files = np.array(glob(\"../../../data/lfw/*/*\"))\n",
    "random.shuffle(human_files)\n",
    "\n",
    "# print statistics about the dataset\n",
    "print('There are %d total human images.' % len(human_files))"
   ]
  },
  {
   "cell_type": "markdown",
   "metadata": {},
   "source": [
    "---\n",
    "<a id='step1'></a>\n",
    "## Step 1: Detect Humans\n",
    "\n",
    "We use OpenCV's implementation of [Haar feature-based cascade classifiers](http://docs.opencv.org/trunk/d7/d8b/tutorial_py_face_detection.html) to detect human faces in images.  OpenCV provides many pre-trained face detectors, stored as XML files on [github](https://github.com/opencv/opencv/tree/master/data/haarcascades).  We have downloaded one of these detectors and stored it in the `haarcascades` directory.\n",
    "\n",
    "In the next code cell, we demonstrate how to use this detector to find human faces in a sample image."
   ]
  },
  {
   "cell_type": "code",
   "execution_count": 4,
   "metadata": {},
   "outputs": [
    {
     "name": "stdout",
     "output_type": "stream",
     "text": [
      "Number of faces detected: 1\n",
      "[[ 66  67 119 119]]\n"
     ]
    },
    {
     "data": {
      "image/png": "[encoded data removed]",
      "text/plain": [
       "<matplotlib.figure.Figure at 0x7fcfb8606f60>"
      ]
     },
     "metadata": {
      "needs_background": "light"
     },
     "output_type": "display_data"
    }
   ],
   "source": [
    "import cv2                \n",
    "import matplotlib.pyplot as plt                        \n",
    "%matplotlib inline                               \n",
    "\n",
    "# extract pre-trained face detector\n",
    "face_cascade = cv2.CascadeClassifier('haarcascades/haarcascade_frontalface_alt.xml')\n",
    "\n",
    "# load color (BGR) image\n",
    "img = cv2.imread(human_files[3])\n",
    "# convert BGR image to grayscale\n",
    "gray = cv2.cvtColor(img, cv2.COLOR_BGR2GRAY)\n",
    "\n",
    "# find faces in image\n",
    "faces = face_cascade.detectMultiScale(gray)\n",
    "\n",
    "# print number of faces detected in the image\n",
    "print('Number of faces detected:', len(faces))\n",
    "print(faces)\n",
    "# get bounding box for each detected face\n",
    "for (x,y,w,h) in faces:\n",
    "    # add bounding box to color image\n",
    "    cv2.rectangle(img,(x,y),(x+w,y+h),(0,0,0),1)\n",
    "    \n",
    "# convert BGR image to RGB for plotting\n",
    "cv_rgb = cv2.cvtColor(img, cv2.COLOR_BGR2RGB)\n",
    "\n",
    "# display the image, along with bounding box\n",
    "plt.imshow(cv_rgb)\n",
    "plt.show()"
   ]
  },
  {
   "cell_type": "markdown",
   "metadata": {},
   "source": [
    "Before using any of the face detectors, it is standard procedure to convert the images to grayscale.  The `detectMultiScale` function executes the classifier stored in `face_cascade` and takes the grayscale image as a parameter.  \n",
    "\n",
    "In the above code, `faces` is a numpy array of detected faces, where each row corresponds to a detected face.  Each detected face is a 1D array with four entries that specifies the bounding box of the detected face.  The first two entries in the array (extracted in the above code as `x` and `y`) specify the horizontal and vertical positions of the top left corner of the bounding box.  The last two entries in the array (extracted here as `w` and `h`) specify the width and height of the box.\n",
    "\n",
    "### Write a Human Face Detector\n",
    "\n",
    "We can use this procedure to write a function that returns `True` if a human face is detected in an image and `False` otherwise.  This function, aptly named `face_detector`, takes a string-valued file path to an image as input and appears in the code block below."
   ]
  },
  {
   "cell_type": "code",
   "execution_count": 5,
   "metadata": {},
   "outputs": [],
   "source": [
    "# returns \"True\" if face is detected in image stored at img_path\n",
    "def face_detector(img_path):\n",
    "    img = cv2.imread(img_path)\n",
    "    gray = cv2.cvtColor(img, cv2.COLOR_BGR2GRAY)\n",
    "    faces = face_cascade.detectMultiScale(gray)\n",
    "    return len(faces) > 0"
   ]
  },
  {
   "cell_type": "markdown",
   "metadata": {},
   "source": [
    "### (IMPLEMENTATION) Assess the Human Face Detector\n",
    "\n",
    "__Question 1:__ Use the code cell below to test the performance of the `face_detector` function.  \n",
    "- What percentage of the first 100 images in `human_files` have a detected human face?  \n",
    "- What percentage of the first 100 images in `dog_files` have a detected human face? \n",
    "\n",
    "Ideally, we would like 100% of human images with a detected face and 0% of dog images with a detected face.  You will see that our algorithm falls short of this goal, but still gives acceptable performance.  We extract the file paths for the first 100 images from each of the datasets and store them in the numpy arrays `human_files_short` and `dog_files_short`.\n",
    "\n",
    "__Answer:__ \n",
    "\n",
    "- Percentage of faces in first 100 human images: 1.0\n",
    "- Percentage of faces in first 100 dog images: 0.11"
   ]
  },
  {
   "cell_type": "code",
   "execution_count": 6,
   "metadata": {},
   "outputs": [
    {
     "name": "stdout",
     "output_type": "stream",
     "text": [
      "Percentage of faces in first 100 human images: 1.0\n",
      "Percentage of faces in first 100 dog images: 0.11\n"
     ]
    }
   ],
   "source": [
    "human_files_short = human_files[:100]\n",
    "dog_files_short = train_files[:100]\n",
    "# Do NOT modify the code above this line.\n",
    "\n",
    "## TODO: Test the performance of the face_detector algorithm \n",
    "## on the images in human_files_short and dog_files_short.\n",
    "faces_in_human_imgs = np.sum([face_detector(img) for img in human_files_short])\n",
    "faces_in_dog_imgs = np.sum([face_detector(img) for img in dog_files_short])\n",
    "\n",
    "print(f'Percentage of faces in first 100 human images: {faces_in_human_imgs / 100}')\n",
    "print(f'Percentage of faces in first 100 dog images: {faces_in_dog_imgs / 100}')"
   ]
  },
  {
   "cell_type": "markdown",
   "metadata": {},
   "source": [
    "__Question 2:__ This algorithmic choice necessitates that we communicate to the user that we accept human images only when they provide a clear view of a face (otherwise, we risk having unnecessarily frustrated users!). In your opinion, is this a reasonable expectation to pose on the user? If not, can you think of a way to detect humans in images that does not necessitate an image with a clearly presented face?\n",
    "\n",
    "__Answer:__\n",
    "\n",
    "I think that it is reasonable to inform the user that we only accept human images with a clear view of a face because I think this functionality is still pretty awesome. However, it is clear that it would be better to recognize not only human faces, but also humans in general.One option for detecting humans in images without clearly presented faces would be to use pedestrian detection with opencv. For example, we could do something similar to this: https://www.pyimagesearch.com/2015/11/09/pedestrian-detection-opencv/  \n",
    "\n",
    "We suggest the face detector from OpenCV as a potential way to detect human images in your algorithm, but you are free to explore other approaches, especially approaches that make use of deep learning :).  Please use the code cell below to design and test your own face detection algorithm.  If you decide to pursue this _optional_ task, report performance on each of the datasets."
   ]
  },
  {
   "cell_type": "code",
   "execution_count": 7,
   "metadata": {},
   "outputs": [],
   "source": [
    "## (Optional) TODO: Report the performance of another  \n",
    "## face detection algorithm on the LFW dataset\n",
    "### Feel free to use as many code cells as needed.\n",
    "# import the necessary packages"
   ]
  },
  {
   "cell_type": "markdown",
   "metadata": {},
   "source": [
    "---\n",
    "<a id='step2'></a>\n",
    "## Step 2: Detect Dogs\n",
    "\n",
    "In this section, we use a pre-trained [ResNet-50](http://ethereon.github.io/netscope/#/gist/db945b393d40bfa26006) model to detect dogs in images.  Our first line of code downloads the ResNet-50 model, along with weights that have been trained on [ImageNet](http://www.image-net.org/), a very large, very popular dataset used for image classification and other vision tasks.  ImageNet contains over 10 million URLs, each linking to an image containing an object from one of [1000 categories](https://gist.github.com/yrevar/942d3a0ac09ec9e5eb3a).  Given an image, this pre-trained ResNet-50 model returns a prediction (derived from the available categories in ImageNet) for the object that is contained in the image."
   ]
  },
  {
   "cell_type": "code",
   "execution_count": 8,
   "metadata": {},
   "outputs": [
    {
     "name": "stdout",
     "output_type": "stream",
     "text": [
      "Downloading data from https://github.com/fchollet/deep-learning-models/releases/download/v0.2/resnet50_weights_tf_dim_ordering_tf_kernels.h5\n",
      "102858752/102853048 [==============================] - 2s 0us/step\n"
     ]
    }
   ],
   "source": [
    "from keras.applications.resnet50 import ResNet50\n",
    "\n",
    "# define ResNet50 model\n",
    "ResNet50_model = ResNet50(weights='imagenet')"
   ]
  },
  {
   "cell_type": "markdown",
   "metadata": {},
   "source": [
    "### Pre-process the Data\n",
    "\n",
    "When using TensorFlow as backend, Keras CNNs require a 4D array (which we'll also refer to as a 4D tensor) as input, with shape\n",
    "\n",
    "$$\n",
    "(\\text{nb_samples}, \\text{rows}, \\text{columns}, \\text{channels}),\n",
    "$$\n",
    "\n",
    "where `nb_samples` corresponds to the total number of images (or samples), and `rows`, `columns`, and `channels` correspond to the number of rows, columns, and channels for each image, respectively.  \n",
    "\n",
    "The `path_to_tensor` function below takes a string-valued file path to a color image as input and returns a 4D tensor suitable for supplying to a Keras CNN.  The function first loads the image and resizes it to a square image that is $224 \\times 224$ pixels.  Next, the image is converted to an array, which is then resized to a 4D tensor.  In this case, since we are working with color images, each image has three channels.  Likewise, since we are processing a single image (or sample), the returned tensor will always have shape\n",
    "\n",
    "$$\n",
    "(1, 224, 224, 3).\n",
    "$$\n",
    "\n",
    "The `paths_to_tensor` function takes a numpy array of string-valued image paths as input and returns a 4D tensor with shape \n",
    "\n",
    "$$\n",
    "(\\text{nb_samples}, 224, 224, 3).\n",
    "$$\n",
    "\n",
    "Here, `nb_samples` is the number of samples, or number of images, in the supplied array of image paths.  It is best to think of `nb_samples` as the number of 3D tensors (where each 3D tensor corresponds to a different image) in your dataset!"
   ]
  },
  {
   "cell_type": "code",
   "execution_count": 9,
   "metadata": {},
   "outputs": [],
   "source": [
    "from keras.preprocessing import image                  \n",
    "from tqdm import tqdm\n",
    "\n",
    "def path_to_tensor(img_path):\n",
    "    # loads RGB image as PIL.Image.Image type\n",
    "    img = image.load_img(img_path, target_size=(224, 224))\n",
    "    # convert PIL.Image.Image type to 3D tensor with shape (224, 224, 3)\n",
    "    x = image.img_to_array(img)\n",
    "    # convert 3D tensor to 4D tensor with shape (1, 224, 224, 3) and return 4D tensor\n",
    "    return np.expand_dims(x, axis=0)\n",
    "\n",
    "def paths_to_tensor(img_paths):\n",
    "    list_of_tensors = [path_to_tensor(img_path) for img_path in tqdm(img_paths)]\n",
    "    return np.vstack(list_of_tensors)"
   ]
  },
  {
   "cell_type": "markdown",
   "metadata": {},
   "source": [
    "### Making Predictions with ResNet-50\n",
    "\n",
    "Getting the 4D tensor ready for ResNet-50, and for any other pre-trained model in Keras, requires some additional processing.  First, the RGB image is converted to BGR by reordering the channels.  All pre-trained models have the additional normalization step that the mean pixel (expressed in RGB as $[103.939, 116.779, 123.68]$ and calculated from all pixels in all images in ImageNet) must be subtracted from every pixel in each image.  This is implemented in the imported function `preprocess_input`.  If you're curious, you can check the code for `preprocess_input` [here](https://github.com/fchollet/keras/blob/master/keras/applications/imagenet_utils.py).\n",
    "\n",
    "Now that we have a way to format our image for supplying to ResNet-50, we are now ready to use the model to extract the predictions.  This is accomplished with the `predict` method, which returns an array whose $i$-th entry is the model's predicted probability that the image belongs to the $i$-th ImageNet category.  This is implemented in the `ResNet50_predict_labels` function below.\n",
    "\n",
    "By taking the argmax of the predicted probability vector, we obtain an integer corresponding to the model's predicted object class, which we can identify with an object category through the use of this [dictionary](https://gist.github.com/yrevar/942d3a0ac09ec9e5eb3a). "
   ]
  },
  {
   "cell_type": "code",
   "execution_count": 10,
   "metadata": {},
   "outputs": [],
   "source": [
    "from keras.applications.resnet50 import preprocess_input, decode_predictions\n",
    "\n",
    "def ResNet50_predict_labels(img_path):\n",
    "    # returns prediction vector for image located at img_path\n",
    "    img = preprocess_input(path_to_tensor(img_path))\n",
    "    return np.argmax(ResNet50_model.predict(img))"
   ]
  },
  {
   "cell_type": "markdown",
   "metadata": {},
   "source": [
    "### Write a Dog Detector\n",
    "\n",
    "While looking at the [dictionary](https://gist.github.com/yrevar/942d3a0ac09ec9e5eb3a), you will notice that the categories corresponding to dogs appear in an uninterrupted sequence and correspond to dictionary keys 151-268, inclusive, to include all categories from `'Chihuahua'` to `'Mexican hairless'`.  Thus, in order to check to see if an image is predicted to contain a dog by the pre-trained ResNet-50 model, we need only check if the `ResNet50_predict_labels` function above returns a value between 151 and 268 (inclusive).\n",
    "\n",
    "We use these ideas to complete the `dog_detector` function below, which returns `True` if a dog is detected in an image (and `False` if not)."
   ]
  },
  {
   "cell_type": "code",
   "execution_count": 11,
   "metadata": {},
   "outputs": [],
   "source": [
    "### returns \"True\" if a dog is detected in the image stored at img_path\n",
    "def dog_detector(img_path):\n",
    "    prediction = ResNet50_predict_labels(img_path)\n",
    "    return ((prediction <= 268) & (prediction >= 151)) "
   ]
  },
  {
   "cell_type": "markdown",
   "metadata": {},
   "source": [
    "### (IMPLEMENTATION) Assess the Dog Detector\n",
    "\n",
    "__Question 3:__ Use the code cell below to test the performance of your `dog_detector` function.  \n",
    "- What percentage of the images in `human_files_short` have a detected dog?  \n",
    "- What percentage of the images in `dog_files_short` have a detected dog?\n",
    "\n",
    "__Answer:__ "
   ]
  },
  {
   "cell_type": "code",
   "execution_count": 12,
   "metadata": {},
   "outputs": [
    {
     "name": "stdout",
     "output_type": "stream",
     "text": [
      "Percentage of dogs detected  in first 100 human images: 0.0\n",
      "Percentage of dogs detected in first 100 dog images: 1.0\n"
     ]
    }
   ],
   "source": [
    "### TODO: Test the performance of the dog_detector function\n",
    "### on the images in human_files_short and dog_files_short.\n",
    "\n",
    "dogs_in_human_imgs = np.sum([dog_detector(img) for img in human_files_short])\n",
    "dogs_in_dog_imgs = np.sum([dog_detector(img) for img in dog_files_short])\n",
    "\n",
    "print(f'Percentage of dogs detected  in first 100 human images: {dogs_in_human_imgs / 100}')\n",
    "print(f'Percentage of dogs detected in first 100 dog images: {dogs_in_dog_imgs / 100}')"
   ]
  },
  {
   "cell_type": "markdown",
   "metadata": {},
   "source": [
    "---\n",
    "<a id='step3'></a>\n",
    "## Step 3: Create a CNN to Classify Dog Breeds (from Scratch)\n",
    "\n",
    "Now that we have functions for detecting humans and dogs in images, we need a way to predict breed from images.  In this step, you will create a CNN that classifies dog breeds.  You must create your CNN _from scratch_ (so, you can't use transfer learning _yet_!), and you must attain a test accuracy of at least 1%.  In Step 5 of this notebook, you will have the opportunity to use transfer learning to create a CNN that attains greatly improved accuracy.\n",
    "\n",
    "Be careful with adding too many trainable layers!  More parameters means longer training, which means you are more likely to need a GPU to accelerate the training process.  Thankfully, Keras provides a handy estimate of the time that each epoch is likely to take; you can extrapolate this estimate to figure out how long it will take for your algorithm to train. \n",
    "\n",
    "We mention that the task of assigning breed to dogs from images is considered exceptionally challenging.  To see why, consider that *even a human* would have great difficulty in distinguishing between a Brittany and a Welsh Springer Spaniel.  \n",
    "\n",
    "Brittany | Welsh Springer Spaniel\n",
    "- | - \n",
    "<img src=\"images/Brittany_02625.jpg\" width=\"100\"> | <img src=\"images/Welsh_springer_spaniel_08203.jpg\" width=\"200\">\n",
    "\n",
    "It is not difficult to find other dog breed pairs with minimal inter-class variation (for instance, Curly-Coated Retrievers and American Water Spaniels).  \n",
    "\n",
    "Curly-Coated Retriever | American Water Spaniel\n",
    "- | -\n",
    "<img src=\"images/Curly-coated_retriever_03896.jpg\" width=\"200\"> | <img src=\"images/American_water_spaniel_00648.jpg\" width=\"200\">\n",
    "\n",
    "\n",
    "Likewise, recall that labradors come in yellow, chocolate, and black.  Your vision-based algorithm will have to conquer this high intra-class variation to determine how to classify all of these different shades as the same breed.  \n",
    "\n",
    "Yellow Labrador | Chocolate Labrador | Black Labrador\n",
    "- | -\n",
    "<img src=\"images/Labrador_retriever_06457.jpg\" width=\"150\"> | <img src=\"images/Labrador_retriever_06455.jpg\" width=\"240\"> | <img src=\"images/Labrador_retriever_06449.jpg\" width=\"220\">\n",
    "\n",
    "We also mention that random chance presents an exceptionally low bar: setting aside the fact that the classes are slightly imabalanced, a random guess will provide a correct answer roughly 1 in 133 times, which corresponds to an accuracy of less than 1%.  \n",
    "\n",
    "Remember that the practice is far ahead of the theory in deep learning.  Experiment with many different architectures, and trust your intuition.  And, of course, have fun! \n",
    "\n",
    "### Pre-process the Data\n",
    "\n",
    "We rescale the images by dividing every pixel in every image by 255."
   ]
  },
  {
   "cell_type": "code",
   "execution_count": 14,
   "metadata": {},
   "outputs": [
    {
     "name": "stderr",
     "output_type": "stream",
     "text": [
      "100%|██████████| 6680/6680 [01:48<00:00, 61.46it/s]\n",
      "100%|██████████| 835/835 [00:17<00:00, 48.00it/s]\n",
      "100%|██████████| 836/836 [00:10<00:00, 78.36it/s] \n"
     ]
    }
   ],
   "source": [
    "from PIL import ImageFile                            \n",
    "ImageFile.LOAD_TRUNCATED_IMAGES = True                 \n",
    "\n",
    "# pre-process the data for Keras\n",
    "train_tensors = paths_to_tensor(train_files).astype('float32')/255\n",
    "valid_tensors = paths_to_tensor(valid_files).astype('float32')/255\n",
    "test_tensors = paths_to_tensor(test_files).astype('float32')/255"
   ]
  },
  {
   "cell_type": "markdown",
   "metadata": {},
   "source": [
    "### (IMPLEMENTATION) Model Architecture\n",
    "\n",
    "Create a CNN to classify dog breed.  At the end of your code cell block, summarize the layers of your model by executing the line:\n",
    "    \n",
    "        model.summary()\n",
    "\n",
    "We have imported some Python modules to get you started, but feel free to import as many modules as you need.  If you end up getting stuck, here's a hint that specifies a model that trains relatively fast on CPU and attains >1% test accuracy in 5 epochs:\n",
    "\n",
    "![Sample CNN](images/sample_cnn.png)\n",
    "           \n",
    "__Question 4:__ Outline the steps you took to get to your final CNN architecture and your reasoning at each step.  If you chose to use the hinted architecture above, describe why you think that CNN architecture should work well for the image classification task.\n",
    "\n",
    "__Answer:__ "
   ]
  },
  {
   "cell_type": "code",
   "execution_count": null,
   "metadata": {
    "collapsed": true
   },
   "outputs": [],
   "source": [
    "from keras.layers import Conv2D, MaxPooling2D, GlobalAveragePooling2D\n",
    "from keras.layers import Dropout, Flatten, Dense\n",
    "from keras.models import Sequential\n",
    "\n",
    "model = Sequential()\n",
    "\n",
    "### TODO: Define your architecture.\n",
    "\n",
    "model.summary()"
   ]
  },
  {
   "cell_type": "markdown",
   "metadata": {},
   "source": [
    "### Compile the Model"
   ]
  },
  {
   "cell_type": "code",
   "execution_count": null,
   "metadata": {
    "collapsed": true
   },
   "outputs": [],
   "source": [
    "model.compile(optimizer='rmsprop', loss='categorical_crossentropy', metrics=['accuracy'])"
   ]
  },
  {
   "cell_type": "markdown",
   "metadata": {},
   "source": [
    "### (IMPLEMENTATION) Train the Model\n",
    "\n",
    "Train your model in the code cell below.  Use model checkpointing to save the model that attains the best validation loss.\n",
    "\n",
    "You are welcome to [augment the training data](https://blog.keras.io/building-powerful-image-classification-models-using-very-little-data.html), but this is not a requirement. "
   ]
  },
  {
   "cell_type": "code",
   "execution_count": null,
   "metadata": {
    "collapsed": true
   },
   "outputs": [],
   "source": [
    "from keras.callbacks import ModelCheckpoint  \n",
    "\n",
    "### TODO: specify the number of epochs that you would like to use to train the model.\n",
    "\n",
    "epochs = ...\n",
    "\n",
    "### Do NOT modify the code below this line.\n",
    "\n",
    "checkpointer = ModelCheckpoint(filepath='saved_models/weights.best.from_scratch.hdf5', \n",
    "                               verbose=1, save_best_only=True)\n",
    "\n",
    "model.fit(train_tensors, train_targets, \n",
    "          validation_data=(valid_tensors, valid_targets),\n",
    "          epochs=epochs, batch_size=20, callbacks=[checkpointer], verbose=1)"
   ]
  },
  {
   "cell_type": "markdown",
   "metadata": {},
   "source": [
    "### Load the Model with the Best Validation Loss"
   ]
  },
  {
   "cell_type": "code",
   "execution_count": null,
   "metadata": {
    "collapsed": true
   },
   "outputs": [],
   "source": [
    "model.load_weights('saved_models/weights.best.from_scratch.hdf5')"
   ]
  },
  {
   "cell_type": "markdown",
   "metadata": {},
   "source": [
    "### Test the Model\n",
    "\n",
    "Try out your model on the test dataset of dog images.  Ensure that your test accuracy is greater than 1%."
   ]
  },
  {
   "cell_type": "code",
   "execution_count": null,
   "metadata": {
    "collapsed": true
   },
   "outputs": [],
   "source": [
    "# get index of predicted dog breed for each image in test set\n",
    "dog_breed_predictions = [np.argmax(model.predict(np.expand_dims(tensor, axis=0))) for tensor in test_tensors]\n",
    "\n",
    "# report test accuracy\n",
    "test_accuracy = 100*np.sum(np.array(dog_breed_predictions)==np.argmax(test_targets, axis=1))/len(dog_breed_predictions)\n",
    "print('Test accuracy: %.4f%%' % test_accuracy)"
   ]
  },
  {
   "cell_type": "markdown",
   "metadata": {},
   "source": [
    "---\n",
    "<a id='step4'></a>\n",
    "## Step 4: Use a CNN to Classify Dog Breeds\n",
    "\n",
    "To reduce training time without sacrificing accuracy, we show you how to train a CNN using transfer learning.  In the following step, you will get a chance to use transfer learning to train your own CNN.\n",
    "\n",
    "### Obtain Bottleneck Features"
   ]
  },
  {
   "cell_type": "code",
   "execution_count": null,
   "metadata": {
    "collapsed": true
   },
   "outputs": [],
   "source": [
    "bottleneck_features = np.load('bottleneck_features/DogVGG16Data.npz')\n",
    "train_VGG16 = bottleneck_features['train']\n",
    "valid_VGG16 = bottleneck_features['valid']\n",
    "test_VGG16 = bottleneck_features['test']"
   ]
  },
  {
   "cell_type": "markdown",
   "metadata": {},
   "source": [
    "### Model Architecture\n",
    "\n",
    "The model uses the the pre-trained VGG-16 model as a fixed feature extractor, where the last convolutional output of VGG-16 is fed as input to our model.  We only add a global average pooling layer and a fully connected layer, where the latter contains one node for each dog category and is equipped with a softmax."
   ]
  },
  {
   "cell_type": "code",
   "execution_count": null,
   "metadata": {
    "collapsed": true
   },
   "outputs": [],
   "source": [
    "VGG16_model = Sequential()\n",
    "VGG16_model.add(GlobalAveragePooling2D(input_shape=train_VGG16.shape[1:]))\n",
    "VGG16_model.add(Dense(133, activation='softmax'))\n",
    "\n",
    "VGG16_model.summary()"
   ]
  },
  {
   "cell_type": "markdown",
   "metadata": {},
   "source": [
    "### Compile the Model"
   ]
  },
  {
   "cell_type": "code",
   "execution_count": null,
   "metadata": {
    "collapsed": true
   },
   "outputs": [],
   "source": [
    "VGG16_model.compile(loss='categorical_crossentropy', optimizer='rmsprop', metrics=['accuracy'])"
   ]
  },
  {
   "cell_type": "markdown",
   "metadata": {},
   "source": [
    "### Train the Model"
   ]
  },
  {
   "cell_type": "code",
   "execution_count": null,
   "metadata": {
    "collapsed": true
   },
   "outputs": [],
   "source": [
    "checkpointer = ModelCheckpoint(filepath='saved_models/weights.best.VGG16.hdf5', \n",
    "                               verbose=1, save_best_only=True)\n",
    "\n",
    "VGG16_model.fit(train_VGG16, train_targets, \n",
    "          validation_data=(valid_VGG16, valid_targets),\n",
    "          epochs=20, batch_size=20, callbacks=[checkpointer], verbose=1)"
   ]
  },
  {
   "cell_type": "markdown",
   "metadata": {},
   "source": [
    "### Load the Model with the Best Validation Loss"
   ]
  },
  {
   "cell_type": "code",
   "execution_count": null,
   "metadata": {
    "collapsed": true
   },
   "outputs": [],
   "source": [
    "VGG16_model.load_weights('saved_models/weights.best.VGG16.hdf5')"
   ]
  },
  {
   "cell_type": "markdown",
   "metadata": {},
   "source": [
    "### Test the Model\n",
    "\n",
    "Now, we can use the CNN to test how well it identifies breed within our test dataset of dog images.  We print the test accuracy below."
   ]
  },
  {
   "cell_type": "code",
   "execution_count": null,
   "metadata": {
    "collapsed": true
   },
   "outputs": [],
   "source": [
    "# get index of predicted dog breed for each image in test set\n",
    "VGG16_predictions = [np.argmax(VGG16_model.predict(np.expand_dims(feature, axis=0))) for feature in test_VGG16]\n",
    "\n",
    "# report test accuracy\n",
    "test_accuracy = 100*np.sum(np.array(VGG16_predictions)==np.argmax(test_targets, axis=1))/len(VGG16_predictions)\n",
    "print('Test accuracy: %.4f%%' % test_accuracy)"
   ]
  },
  {
   "cell_type": "markdown",
   "metadata": {},
   "source": [
    "### Predict Dog Breed with the Model"
   ]
  },
  {
   "cell_type": "code",
   "execution_count": null,
   "metadata": {
    "collapsed": true
   },
   "outputs": [],
   "source": [
    "from extract_bottleneck_features import *\n",
    "\n",
    "def VGG16_predict_breed(img_path):\n",
    "    # extract bottleneck features\n",
    "    bottleneck_feature = extract_VGG16(path_to_tensor(img_path))\n",
    "    # obtain predicted vector\n",
    "    predicted_vector = VGG16_model.predict(bottleneck_feature)\n",
    "    # return dog breed that is predicted by the model\n",
    "    return dog_names[np.argmax(predicted_vector)]"
   ]
  },
  {
   "cell_type": "markdown",
   "metadata": {},
   "source": [
    "---\n",
    "<a id='step5'></a>\n",
    "## Step 5: Create a CNN to Classify Dog Breeds (using Transfer Learning)\n",
    "\n",
    "You will now use transfer learning to create a CNN that can identify dog breed from images.  Your CNN must attain at least 60% accuracy on the test set.\n",
    "\n",
    "In Step 4, we used transfer learning to create a CNN using VGG-16 bottleneck features.  In this section, you must use the bottleneck features from a different pre-trained model.  To make things easier for you, we have pre-computed the features for all of the networks that are currently available in Keras:\n",
    "- [VGG-19](https://s3-us-west-1.amazonaws.com/udacity-aind/dog-project/DogVGG19Data.npz) bottleneck features\n",
    "- [ResNet-50](https://s3-us-west-1.amazonaws.com/udacity-aind/dog-project/DogResnet50Data.npz) bottleneck features\n",
    "- [Inception](https://s3-us-west-1.amazonaws.com/udacity-aind/dog-project/DogInceptionV3Data.npz) bottleneck features\n",
    "- [Xception](https://s3-us-west-1.amazonaws.com/udacity-aind/dog-project/DogXceptionData.npz) bottleneck features\n",
    "\n",
    "The files are encoded as such:\n",
    "\n",
    "    Dog{network}Data.npz\n",
    "    \n",
    "where `{network}`, in the above filename, can be one of `VGG19`, `Resnet50`, `InceptionV3`, or `Xception`.  Pick one of the above architectures, download the corresponding bottleneck features, and store the downloaded file in the `bottleneck_features/` folder in the repository.\n",
    "\n",
    "### (IMPLEMENTATION) Obtain Bottleneck Features\n",
    "\n",
    "In the code block below, extract the bottleneck features corresponding to the train, test, and validation sets by running the following:\n",
    "\n",
    "    bottleneck_features = np.load('bottleneck_features/Dog{network}Data.npz')\n",
    "    train_{network} = bottleneck_features['train']\n",
    "    valid_{network} = bottleneck_features['valid']\n",
    "    test_{network} = bottleneck_features['test']"
   ]
  },
  {
   "cell_type": "code",
   "execution_count": null,
   "metadata": {
    "collapsed": true
   },
   "outputs": [],
   "source": [
    "### TODO: Obtain bottleneck features from another pre-trained CNN."
   ]
  },
  {
   "cell_type": "markdown",
   "metadata": {},
   "source": [
    "### (IMPLEMENTATION) Model Architecture\n",
    "\n",
    "Create a CNN to classify dog breed.  At the end of your code cell block, summarize the layers of your model by executing the line:\n",
    "    \n",
    "        <your model's name>.summary()\n",
    "   \n",
    "__Question 5:__ Outline the steps you took to get to your final CNN architecture and your reasoning at each step.  Describe why you think the architecture is suitable for the current problem.\n",
    "\n",
    "__Answer:__ \n",
    "\n"
   ]
  },
  {
   "cell_type": "code",
   "execution_count": null,
   "metadata": {
    "collapsed": true
   },
   "outputs": [],
   "source": [
    "### TODO: Define your architecture."
   ]
  },
  {
   "cell_type": "markdown",
   "metadata": {},
   "source": [
    "### (IMPLEMENTATION) Compile the Model"
   ]
  },
  {
   "cell_type": "code",
   "execution_count": null,
   "metadata": {
    "collapsed": true
   },
   "outputs": [],
   "source": [
    "### TODO: Compile the model."
   ]
  },
  {
   "cell_type": "markdown",
   "metadata": {},
   "source": [
    "### (IMPLEMENTATION) Train the Model\n",
    "\n",
    "Train your model in the code cell below.  Use model checkpointing to save the model that attains the best validation loss.  \n",
    "\n",
    "You are welcome to [augment the training data](https://blog.keras.io/building-powerful-image-classification-models-using-very-little-data.html), but this is not a requirement. "
   ]
  },
  {
   "cell_type": "code",
   "execution_count": null,
   "metadata": {
    "collapsed": true
   },
   "outputs": [],
   "source": [
    "### TODO: Train the model."
   ]
  },
  {
   "cell_type": "markdown",
   "metadata": {},
   "source": [
    "### (IMPLEMENTATION) Load the Model with the Best Validation Loss"
   ]
  },
  {
   "cell_type": "code",
   "execution_count": null,
   "metadata": {
    "collapsed": true
   },
   "outputs": [],
   "source": [
    "### TODO: Load the model weights with the best validation loss."
   ]
  },
  {
   "cell_type": "markdown",
   "metadata": {},
   "source": [
    "### (IMPLEMENTATION) Test the Model\n",
    "\n",
    "Try out your model on the test dataset of dog images. Ensure that your test accuracy is greater than 60%."
   ]
  },
  {
   "cell_type": "code",
   "execution_count": null,
   "metadata": {
    "collapsed": true
   },
   "outputs": [],
   "source": [
    "### TODO: Calculate classification accuracy on the test dataset."
   ]
  },
  {
   "cell_type": "markdown",
   "metadata": {},
   "source": [
    "### (IMPLEMENTATION) Predict Dog Breed with the Model\n",
    "\n",
    "Write a function that takes an image path as input and returns the dog breed (`Affenpinscher`, `Afghan_hound`, etc) that is predicted by your model.  \n",
    "\n",
    "Similar to the analogous function in Step 5, your function should have three steps:\n",
    "1. Extract the bottleneck features corresponding to the chosen CNN model.\n",
    "2. Supply the bottleneck features as input to the model to return the predicted vector.  Note that the argmax of this prediction vector gives the index of the predicted dog breed.\n",
    "3. Use the `dog_names` array defined in Step 0 of this notebook to return the corresponding breed.\n",
    "\n",
    "The functions to extract the bottleneck features can be found in `extract_bottleneck_features.py`, and they have been imported in an earlier code cell.  To obtain the bottleneck features corresponding to your chosen CNN architecture, you need to use the function\n",
    "\n",
    "    extract_{network}\n",
    "    \n",
    "where `{network}`, in the above filename, should be one of `VGG19`, `Resnet50`, `InceptionV3`, or `Xception`."
   ]
  },
  {
   "cell_type": "code",
   "execution_count": null,
   "metadata": {
    "collapsed": true
   },
   "outputs": [],
   "source": [
    "### TODO: Write a function that takes a path to an image as input\n",
    "### and returns the dog breed that is predicted by the model."
   ]
  },
  {
   "cell_type": "markdown",
   "metadata": {},
   "source": [
    "---\n",
    "<a id='step6'></a>\n",
    "## Step 6: Write your Algorithm\n",
    "\n",
    "Write an algorithm that accepts a file path to an image and first determines whether the image contains a human, dog, or neither.  Then,\n",
    "- if a __dog__ is detected in the image, return the predicted breed.\n",
    "- if a __human__ is detected in the image, return the resembling dog breed.\n",
    "- if __neither__ is detected in the image, provide output that indicates an error.\n",
    "\n",
    "You are welcome to write your own functions for detecting humans and dogs in images, but feel free to use the `face_detector` and `dog_detector` functions developed above.  You are __required__ to use your CNN from Step 5 to predict dog breed.  \n",
    "\n",
    "A sample image and output for our algorithm is provided below, but feel free to design your own user experience!\n",
    "\n",
    "![Sample Human Output](images/sample_human_2.png)\n",
    "\n",
    "This photo looks like an Afghan Hound.\n",
    "### (IMPLEMENTATION) Write your Algorithm"
   ]
  },
  {
   "cell_type": "code",
   "execution_count": null,
   "metadata": {
    "collapsed": true
   },
   "outputs": [],
   "source": [
    "### TODO: Write your algorithm.\n",
    "### Feel free to use as many code cells as needed."
   ]
  },
  {
   "cell_type": "markdown",
   "metadata": {},
   "source": [
    "---\n",
    "<a id='step7'></a>\n",
    "## Step 7: Test Your Algorithm\n",
    "\n",
    "In this section, you will take your new algorithm for a spin!  What kind of dog does the algorithm think that __you__ look like?  If you have a dog, does it predict your dog's breed accurately?  If you have a cat, does it mistakenly think that your cat is a dog?\n",
    "\n",
    "### (IMPLEMENTATION) Test Your Algorithm on Sample Images!\n",
    "\n",
    "Test your algorithm at least six images on your computer.  Feel free to use any images you like.  Use at least two human and two dog images.  \n",
    "\n",
    "__Question 6:__ Is the output better than you expected :) ?  Or worse :( ?  Provide at least three possible points of improvement for your algorithm.\n",
    "\n",
    "__Answer:__ "
   ]
  },
  {
   "cell_type": "code",
   "execution_count": null,
   "metadata": {
    "collapsed": true
   },
   "outputs": [],
   "source": [
    "## TODO: Execute your algorithm from Step 6 on\n",
    "## at least 6 images on your computer.\n",
    "## Feel free to use as many code cells as needed."
   ]
  }
 ],
 "metadata": {
  "anaconda-cloud": {},
  "kernelspec": {
   "display_name": "Python 3",
   "language": "python",
   "name": "python3"
  },
  "language_info": {
   "codemirror_mode": {
    "name": "ipython",
    "version": 3
   },
   "file_extension": ".py",
   "mimetype": "text/x-python",
   "name": "python",
   "nbconvert_exporter": "python",
   "pygments_lexer": "ipython3",
   "version": "3.6.3"
  }
 },
 "nbformat": 4,
 "nbformat_minor": 1
}
